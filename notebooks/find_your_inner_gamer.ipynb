{
 "cells": [
  {
   "cell_type": "markdown",
   "id": "52c888a3",
   "metadata": {
    "slideshow": {
     "slide_type": "slide"
    }
   },
   "source": [
    "# Find Your Inner Gamer"
   ]
  },
  {
   "cell_type": "markdown",
   "id": "e015e369",
   "metadata": {
    "slideshow": {
     "slide_type": "slide"
    }
   },
   "source": [
    "## Problem"
   ]
  },
  {
   "cell_type": "markdown",
   "id": "a5a2422a",
   "metadata": {
    "slideshow": {
     "slide_type": "subslide"
    }
   },
   "source": [
    "Building a recommendation system for the user to easily find games similar to what they like"
   ]
  },
  {
   "cell_type": "markdown",
   "id": "76b65baf",
   "metadata": {
    "slideshow": {
     "slide_type": "subslide"
    }
   },
   "source": [
    "Why does it matters -> Netflix example : Consumer research suggests that a typical Netflix member loses interest after perhaps 60 to 90 seconds of choosing, having reviewed 10 to 20 titles (perhaps 3 in detail) (https://dl.acm.org/doi/pdf/10.1145/2843948)"
   ]
  },
  {
   "cell_type": "markdown",
   "id": "93282fbe",
   "metadata": {
    "slideshow": {
     "slide_type": "slide"
    }
   },
   "source": [
    "## Dataset"
   ]
  },
  {
   "cell_type": "markdown",
   "id": "0a36f829",
   "metadata": {
    "slideshow": {
     "slide_type": "subslide"
    }
   },
   "source": [
    "Game dataset : \n",
    "- Original dataset of 40k rows\n",
    "- 20 Columns ( url, name, description, reviews, date, developer, publisher, tags, details, languages, achievements,genre , mature content, requirements, price)\n",
    "\n",
    "User dataset : \n",
    "- original dataset of 200k rows\n",
    "- 4 columns (userid, game, behavior, hoursplayed)\n",
    "- 3600 unique games"
   ]
  },
  {
   "cell_type": "markdown",
   "id": "9077ba25",
   "metadata": {
    "slideshow": {
     "slide_type": "slide"
    }
   },
   "source": [
    "## Preprocessing"
   ]
  },
  {
   "cell_type": "markdown",
   "id": "b50a720d",
   "metadata": {
    "slideshow": {
     "slide_type": "subslide"
    }
   },
   "source": [
    "-  Scraping web for missing values\n",
    "-  Finding null values and replacing them/ discarding them\n",
    "-  Finding matching correspondences between the two datasets\n",
    "-  Cleaning text columns : merging Tags and Genre and keeping unique values + cleaning text description to get rid of common words and any punctuation"
   ]
  },
  {
   "cell_type": "markdown",
   "id": "5c8dac79",
   "metadata": {
    "slideshow": {
     "slide_type": "slide"
    }
   },
   "source": [
    "## Models"
   ]
  },
  {
   "cell_type": "markdown",
   "id": "5419ad4f-825f-437f-aa73-ea19d57d35fa",
   "metadata": {},
   "source": [
    "-  Using Kmeans on the game description to separate the games in different clusters and using that info as a new feature\n",
    "-  Using knn to find the closest game to our inpout, using the following features  : cluster, tags, genre, reviews, achievements, mature content\n",
    "\n",
    "We created a test to check our model perf as it's unsupervised learning:\n",
    "-  Finding the two most played games per user from our user DB and scoring how well our model would recommend the second one using the first as input"
   ]
  },
  {
   "cell_type": "markdown",
   "id": "6db07ed3",
   "metadata": {
    "slideshow": {
     "slide_type": "slide"
    }
   },
   "source": [
    "## Model Tuning"
   ]
  },
  {
   "cell_type": "markdown",
   "id": "4314b364",
   "metadata": {
    "slideshow": {
     "slide_type": "slide"
    }
   },
   "source": [
    "## Next Steps"
   ]
  },
  {
   "cell_type": "code",
   "execution_count": null,
   "id": "f15469f5-7e45-492d-a4aa-c1260f108948",
   "metadata": {},
   "outputs": [],
   "source": []
  }
 ],
 "metadata": {
  "celltoolbar": "Slideshow",
  "kernelspec": {
   "display_name": "Python 3 (ipykernel)",
   "language": "python",
   "name": "python3"
  },
  "language_info": {
   "codemirror_mode": {
    "name": "ipython",
    "version": 3
   },
   "file_extension": ".py",
   "mimetype": "text/x-python",
   "name": "python",
   "nbconvert_exporter": "python",
   "pygments_lexer": "ipython3",
   "version": "3.8.12"
  },
  "toc": {
   "base_numbering": 1,
   "nav_menu": {},
   "number_sections": true,
   "sideBar": true,
   "skip_h1_title": false,
   "title_cell": "Table of Contents",
   "title_sidebar": "Contents",
   "toc_cell": false,
   "toc_position": {},
   "toc_section_display": true,
   "toc_window_display": false
  }
 },
 "nbformat": 4,
 "nbformat_minor": 5
}
