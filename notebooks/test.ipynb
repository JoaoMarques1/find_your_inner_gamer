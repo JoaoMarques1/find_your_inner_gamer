{
 "cells": [
  {
   "cell_type": "markdown",
   "id": "5c38ae0a-f0d9-4dd6-8560-55706ed518de",
   "metadata": {},
   "source": [
    "# Imports"
   ]
  },
  {
   "cell_type": "code",
   "execution_count": 5,
   "id": "45fb3984-61ea-4660-bf82-59d145b1af0f",
   "metadata": {},
   "outputs": [],
   "source": [
    "import pandas as pd"
   ]
  },
  {
   "cell_type": "markdown",
   "id": "359c58b2-3f26-4535-9be1-efe5cb51ac9c",
   "metadata": {},
   "source": [
    "# Load dataset"
   ]
  },
  {
   "cell_type": "code",
   "execution_count": 6,
   "id": "9bf79a17-684f-4471-b135-49176d2a5168",
   "metadata": {},
   "outputs": [],
   "source": [
    "df = pd.read_csv('../raw_data/clean_df.csv' )\n",
    "user_df = pd.read_csv('../raw_data/steam-200k.csv',usecols=[0,1,2,3],names=['userid','game','behavior','hoursplayed'])"
   ]
  },
  {
   "cell_type": "code",
   "execution_count": 8,
   "id": "a8251a87-7012-4abb-8bf6-7f2b89969cec",
   "metadata": {},
   "outputs": [],
   "source": [
    "# keeping only play entries\n",
    "\n",
    "df_play = user_df[user_df['behavior']=='play']\n",
    "df_play=df_play.drop(columns='behavior')\n",
    "\n",
    "#keeping only games that are also in the main dataset\n",
    "user_name= pd.DataFrame(df_play['game'].unique(),columns=['name']).merge(df, on = 'name')\n",
    "join_name = list(user_name.name.unique())\n",
    "df_play = df_play[df_play['game'].isin(join_name)]"
   ]
  },
  {
   "cell_type": "code",
   "execution_count": 9,
   "id": "a9fb01f4-10b8-4f04-9ac1-1842c68d889a",
   "metadata": {},
   "outputs": [],
   "source": [
    "# Creating DF of users favorites 2 games\n",
    "\n",
    "def get_fav_games(df,user):\n",
    "    db = df[df['userid']==user].sort_values(by='hoursplayed', ascending=False)\n",
    "    return list(db['game'].iloc[0:2])\n",
    "\n",
    "def get_user_list(df):\n",
    "    temp_df=df.groupby('userid').count()[['game']]\n",
    "    return list(temp_df[temp_df['game']>1].index)\n",
    "\n",
    "def get_fav_list(df):\n",
    "    user_list= get_user_list(df)\n",
    "    fav_list=[]\n",
    "    for user in user_list:\n",
    "        fav_list.append(get_fav_games(df,user))\n",
    "    fav1=[]\n",
    "    fav2=[]\n",
    "    for fav in fav_list:\n",
    "        fav1.append(fav[0])\n",
    "        fav2.append(fav[1])\n",
    "    return pd.DataFrame(data=list(zip( fav1, fav2)),\n",
    "                         columns=['most_fav_game', 'sec_fav_game'],index=user_list)\n"
   ]
  },
  {
   "cell_type": "code",
   "execution_count": 10,
   "id": "2203a18d-7324-4d9d-bdda-37d460abac5f",
   "metadata": {},
   "outputs": [],
   "source": [
    "test_df = get_fav_list(df_play)"
   ]
  },
  {
   "cell_type": "code",
   "execution_count": 11,
   "id": "d0bfc8c4-ab58-4950-ba4c-a9b843ffbecb",
   "metadata": {},
   "outputs": [],
   "source": [
    "def testing_models(df, model):\n",
    "\n",
    "    df['distance'] = ''\n",
    "    for index, row in df.iterrows():\n",
    "        neighbors_list = list(model.kneighbors(X.loc[[row['most_fav_game']]],n_neighbors=df.shape[0])[1][0])\n",
    "        res = pd.DataFrame(model.kneighbors(X.loc[[row['most_fav_game']]],n_neighbors=df.shape[0])[0][0],\\\n",
    "                           index = X.iloc[neighbors_list, :]\\\n",
    "                        .index, columns = ['distance']).loc[row['sec_fav_game']][0]\n",
    "        df.loc[index, 'distance'] = res\n",
    "        \n",
    "    return df"
   ]
  },
  {
   "cell_type": "code",
   "execution_count": null,
   "id": "3733c990-db85-42f6-a7ec-0e1f24868fad",
   "metadata": {},
   "outputs": [],
   "source": []
  }
 ],
 "metadata": {
  "kernelspec": {
   "display_name": "Python 3 (ipykernel)",
   "language": "python",
   "name": "python3"
  },
  "language_info": {
   "codemirror_mode": {
    "name": "ipython",
    "version": 3
   },
   "file_extension": ".py",
   "mimetype": "text/x-python",
   "name": "python",
   "nbconvert_exporter": "python",
   "pygments_lexer": "ipython3",
   "version": "3.8.12"
  }
 },
 "nbformat": 4,
 "nbformat_minor": 5
}
