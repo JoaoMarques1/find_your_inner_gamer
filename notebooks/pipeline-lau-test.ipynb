{
 "cells": [
  {
   "cell_type": "markdown",
   "metadata": {},
   "source": [
    "# Imports"
   ]
  },
  {
   "cell_type": "code",
   "execution_count": 210,
   "metadata": {},
   "outputs": [
    {
     "name": "stdout",
     "output_type": "stream",
     "text": [
      "The autoreload extension is already loaded. To reload it, use:\n",
      "  %reload_ext autoreload\n"
     ]
    }
   ],
   "source": [
    "import pandas as pd # import for dataframe handle\n",
    "import numpy as np # import for math and array operations\n",
    "import matplotlib.pyplot as plt # import for visual representation\n",
    "import seaborn as sns # import for visual representation\n",
    "\n",
    "from bs4 import BeautifulSoup\n",
    "import requests\n",
    "\n",
    "from nltk.tokenize import word_tokenize\n",
    "from nltk.corpus import stopwords \n",
    "import string\n",
    "\n",
    "# pipeline imports\n",
    "from sklearn import set_config; set_config(display='diagram')\n",
    "from sklearn.pipeline import make_pipeline\n",
    "from sklearn.pipeline import make_union\n",
    "from sklearn.compose import make_column_transformer, make_column_selector\n",
    "from sklearn.preprocessing import FunctionTransformer\n",
    "from sklearn.cluster import KMeans\n",
    "from sklearn.decomposition import PCA\n",
    "\n",
    "# scalers, encoder, knn, vectorizer\n",
    "from sklearn.preprocessing import OrdinalEncoder\n",
    "from sklearn.feature_extraction.text import TfidfVectorizer\n",
    "from sklearn.neighbors import KNeighborsRegressor\n",
    "from sklearn.preprocessing import RobustScaler, StandardScaler, OneHotEncoder\n",
    "\n",
    "\n",
    "\n",
    "%load_ext autoreload\n",
    "%autoreload 2"
   ]
  },
  {
   "cell_type": "code",
   "execution_count": 211,
   "metadata": {},
   "outputs": [],
   "source": [
    "from nltk.stem import WordNetLemmatizer\n",
    "\n",
    "def clean_text(text):\n",
    "    \n",
    "    for punctuation in string.punctuation:\n",
    "        text = text.replace(punctuation, ' ') # Remove Punctuation\n",
    "        \n",
    "    lowercased = text.lower() # Lower Case\n",
    "    lemmatizer = WordNetLemmatizer()\n",
    "    #lemmatized = [lemmatizer.lemmatize(word) for word in lowercased]\n",
    "    #lowercased = lemmatized     \n",
    "    tokenized = word_tokenize(lowercased) # Tokenize\n",
    "    words_only = [word for word in tokenized if word.isalpha()] # Remove numbers\n",
    "    stop_words = set(stopwords.words('English')) # Make stopword list\n",
    "    without_stopwords = [word for word in words_only if not word in stop_words]# Remove Stop Words\n",
    "    lemmatized = [lemmatizer.lemmatize(word) for word in without_stopwords]\n",
    "    \n",
    "    return \" \".join(lemmatized)"
   ]
  },
  {
   "cell_type": "markdown",
   "metadata": {},
   "source": [
    "# Load Dataset "
   ]
  },
  {
   "cell_type": "code",
   "execution_count": 212,
   "metadata": {},
   "outputs": [
    {
     "data": {
      "text/html": [
       "<div>\n",
       "<style scoped>\n",
       "    .dataframe tbody tr th:only-of-type {\n",
       "        vertical-align: middle;\n",
       "    }\n",
       "\n",
       "    .dataframe tbody tr th {\n",
       "        vertical-align: top;\n",
       "    }\n",
       "\n",
       "    .dataframe thead th {\n",
       "        text-align: right;\n",
       "    }\n",
       "</style>\n",
       "<table border=\"1\" class=\"dataframe\">\n",
       "  <thead>\n",
       "    <tr style=\"text-align: right;\">\n",
       "      <th></th>\n",
       "      <th>url</th>\n",
       "      <th>name</th>\n",
       "      <th>developer</th>\n",
       "      <th>tags</th>\n",
       "      <th>languages</th>\n",
       "      <th>genre</th>\n",
       "      <th>game_description</th>\n",
       "      <th>mature_content</th>\n",
       "      <th>price</th>\n",
       "      <th>reviews</th>\n",
       "      <th>date</th>\n",
       "      <th>achievements</th>\n",
       "      <th>op_sys</th>\n",
       "      <th>metadata</th>\n",
       "      <th>cluster</th>\n",
       "    </tr>\n",
       "  </thead>\n",
       "  <tbody>\n",
       "    <tr>\n",
       "      <th>0</th>\n",
       "      <td>https://store.steampowered.com/app/379720/DOOM/</td>\n",
       "      <td>DOOM</td>\n",
       "      <td>id Software</td>\n",
       "      <td>fps gore action demon shooter first person gre...</td>\n",
       "      <td>english french italian german spanish spain ja...</td>\n",
       "      <td>action</td>\n",
       "      <td>game developed id software studio pioneered fi...</td>\n",
       "      <td>0</td>\n",
       "      <td>17.991</td>\n",
       "      <td>Very Positive</td>\n",
       "      <td>2016-05-12 00:00:00</td>\n",
       "      <td>1.0</td>\n",
       "      <td>windows</td>\n",
       "      <td>multiplayer fast blood atmospheric zombie diff...</td>\n",
       "      <td>29</td>\n",
       "    </tr>\n",
       "    <tr>\n",
       "      <th>1</th>\n",
       "      <td>https://store.steampowered.com/app/578080/PLAY...</td>\n",
       "      <td>PLAYERUNKNOWN'S BATTLEGROUNDS</td>\n",
       "      <td>PUBG Corporation</td>\n",
       "      <td>survival shooter multiplayer battle royale pvp...</td>\n",
       "      <td>english korean simplified chinese french germa...</td>\n",
       "      <td>action adventure massively multiplayer</td>\n",
       "      <td>game playerunknown battleground battle royale ...</td>\n",
       "      <td>1</td>\n",
       "      <td>26.991</td>\n",
       "      <td>Mixed</td>\n",
       "      <td>2017-12-21 00:00:00</td>\n",
       "      <td>1.0</td>\n",
       "      <td>windows</td>\n",
       "      <td>multiplayer based pvp access tactical adventur...</td>\n",
       "      <td>28</td>\n",
       "    </tr>\n",
       "    <tr>\n",
       "      <th>2</th>\n",
       "      <td>https://store.steampowered.com/app/637090/BATT...</td>\n",
       "      <td>BATTLETECH</td>\n",
       "      <td>Harebrained Schemes</td>\n",
       "      <td>mechs strategy turn based turn based tactic sc...</td>\n",
       "      <td>english french german russian</td>\n",
       "      <td>action adventure strategy</td>\n",
       "      <td>game original battletech mechwarrior creator j...</td>\n",
       "      <td>0</td>\n",
       "      <td>35.991</td>\n",
       "      <td>Mostly Positive</td>\n",
       "      <td>2018-04-24 00:00:00</td>\n",
       "      <td>1.0</td>\n",
       "      <td>windows macOS Linux</td>\n",
       "      <td>multiplayer based character mechs management r...</td>\n",
       "      <td>3</td>\n",
       "    </tr>\n",
       "    <tr>\n",
       "      <th>3</th>\n",
       "      <td>https://store.steampowered.com/app/221100/DayZ/</td>\n",
       "      <td>DayZ</td>\n",
       "      <td>Bohemia Interactive</td>\n",
       "      <td>survival zombie open world multiplayer pvp mas...</td>\n",
       "      <td>english french italian german spanish spain cz...</td>\n",
       "      <td>action adventure massively multiplayer</td>\n",
       "      <td>game post soviet country chernarus struck unkn...</td>\n",
       "      <td>0</td>\n",
       "      <td>40.491</td>\n",
       "      <td>Mixed</td>\n",
       "      <td>2018-12-13 00:00:00</td>\n",
       "      <td>0.0</td>\n",
       "      <td>windows</td>\n",
       "      <td>multiplayer indie open pvp access atmospheric ...</td>\n",
       "      <td>38</td>\n",
       "    </tr>\n",
       "    <tr>\n",
       "      <th>4</th>\n",
       "      <td>https://store.steampowered.com/app/8500/EVE_On...</td>\n",
       "      <td>EVE Online</td>\n",
       "      <td>CCP</td>\n",
       "      <td>space massively multiplayer sci fi sandbox mmo...</td>\n",
       "      <td>english german russian french</td>\n",
       "      <td>action free play massively multiplayer rpg str...</td>\n",
       "      <td>game</td>\n",
       "      <td>0</td>\n",
       "      <td>NaN</td>\n",
       "      <td>Mostly Positive</td>\n",
       "      <td>2003-05-06 00:00:00</td>\n",
       "      <td>0.0</td>\n",
       "      <td>windows macOS</td>\n",
       "      <td>multiplayer mmorpg free open pvp capitalism at...</td>\n",
       "      <td>44</td>\n",
       "    </tr>\n",
       "  </tbody>\n",
       "</table>\n",
       "</div>"
      ],
      "text/plain": [
       "                                                 url  \\\n",
       "0    https://store.steampowered.com/app/379720/DOOM/   \n",
       "1  https://store.steampowered.com/app/578080/PLAY...   \n",
       "2  https://store.steampowered.com/app/637090/BATT...   \n",
       "3    https://store.steampowered.com/app/221100/DayZ/   \n",
       "4  https://store.steampowered.com/app/8500/EVE_On...   \n",
       "\n",
       "                            name            developer  \\\n",
       "0                           DOOM          id Software   \n",
       "1  PLAYERUNKNOWN'S BATTLEGROUNDS     PUBG Corporation   \n",
       "2                     BATTLETECH  Harebrained Schemes   \n",
       "3                           DayZ  Bohemia Interactive   \n",
       "4                     EVE Online                  CCP   \n",
       "\n",
       "                                                tags  \\\n",
       "0  fps gore action demon shooter first person gre...   \n",
       "1  survival shooter multiplayer battle royale pvp...   \n",
       "2  mechs strategy turn based turn based tactic sc...   \n",
       "3  survival zombie open world multiplayer pvp mas...   \n",
       "4  space massively multiplayer sci fi sandbox mmo...   \n",
       "\n",
       "                                           languages  \\\n",
       "0  english french italian german spanish spain ja...   \n",
       "1  english korean simplified chinese french germa...   \n",
       "2                      english french german russian   \n",
       "3  english french italian german spanish spain cz...   \n",
       "4                      english german russian french   \n",
       "\n",
       "                                               genre  \\\n",
       "0                                             action   \n",
       "1             action adventure massively multiplayer   \n",
       "2                          action adventure strategy   \n",
       "3             action adventure massively multiplayer   \n",
       "4  action free play massively multiplayer rpg str...   \n",
       "\n",
       "                                    game_description  mature_content   price  \\\n",
       "0  game developed id software studio pioneered fi...               0  17.991   \n",
       "1  game playerunknown battleground battle royale ...               1  26.991   \n",
       "2  game original battletech mechwarrior creator j...               0  35.991   \n",
       "3  game post soviet country chernarus struck unkn...               0  40.491   \n",
       "4                                               game               0     NaN   \n",
       "\n",
       "           reviews                 date  achievements               op_sys  \\\n",
       "0    Very Positive  2016-05-12 00:00:00           1.0              windows   \n",
       "1            Mixed  2017-12-21 00:00:00           1.0              windows   \n",
       "2  Mostly Positive  2018-04-24 00:00:00           1.0  windows macOS Linux   \n",
       "3            Mixed  2018-12-13 00:00:00           0.0              windows   \n",
       "4  Mostly Positive  2003-05-06 00:00:00           0.0        windows macOS   \n",
       "\n",
       "                                            metadata  cluster  \n",
       "0  multiplayer fast blood atmospheric zombie diff...       29  \n",
       "1  multiplayer based pvp access tactical adventur...       28  \n",
       "2  multiplayer based character mechs management r...        3  \n",
       "3  multiplayer indie open pvp access atmospheric ...       38  \n",
       "4  multiplayer mmorpg free open pvp capitalism at...       44  "
      ]
     },
     "execution_count": 212,
     "metadata": {},
     "output_type": "execute_result"
    }
   ],
   "source": [
    "df = pd.read_csv('../raw_data/clean_df.csv' )\n",
    "df.head()"
   ]
  },
  {
   "cell_type": "code",
   "execution_count": 213,
   "metadata": {},
   "outputs": [
    {
     "data": {
      "text/plain": [
       "(24564, 15)"
      ]
     },
     "execution_count": 213,
     "metadata": {},
     "output_type": "execute_result"
    }
   ],
   "source": [
    "df.shape"
   ]
  },
  {
   "cell_type": "code",
   "execution_count": 214,
   "metadata": {},
   "outputs": [
    {
     "data": {
      "text/plain": [
       "url                     0\n",
       "name                    0\n",
       "developer              31\n",
       "tags                    0\n",
       "languages               0\n",
       "genre                   3\n",
       "game_description        0\n",
       "mature_content          0\n",
       "price                4555\n",
       "reviews                 0\n",
       "date                  256\n",
       "achievements            0\n",
       "op_sys              12380\n",
       "metadata                0\n",
       "cluster                 0\n",
       "dtype: int64"
      ]
     },
     "execution_count": 214,
     "metadata": {},
     "output_type": "execute_result"
    }
   ],
   "source": [
    "df.isnull().sum()"
   ]
  },
  {
   "cell_type": "code",
   "execution_count": 215,
   "metadata": {},
   "outputs": [],
   "source": [
    "df['tags'].fillna('', inplace=True)\n",
    "df['genre'].fillna('', inplace=True)"
   ]
  },
  {
   "cell_type": "code",
   "execution_count": 216,
   "metadata": {},
   "outputs": [],
   "source": [
    "df['metadata'] = df[['tags', 'genre']].apply(lambda x: ' '.join(x), axis = 1)\n",
    "\n",
    "\n",
    "df['metadata'] = df['metadata'].apply(\n",
    "    lambda x: ' '.join(list(set(x.split())))\n",
    ")"
   ]
  },
  {
   "cell_type": "code",
   "execution_count": 217,
   "metadata": {},
   "outputs": [
    {
     "data": {
      "text/html": [
       "<div>\n",
       "<style scoped>\n",
       "    .dataframe tbody tr th:only-of-type {\n",
       "        vertical-align: middle;\n",
       "    }\n",
       "\n",
       "    .dataframe tbody tr th {\n",
       "        vertical-align: top;\n",
       "    }\n",
       "\n",
       "    .dataframe thead th {\n",
       "        text-align: right;\n",
       "    }\n",
       "</style>\n",
       "<table border=\"1\" class=\"dataframe\">\n",
       "  <thead>\n",
       "    <tr style=\"text-align: right;\">\n",
       "      <th></th>\n",
       "      <th>url</th>\n",
       "      <th>name</th>\n",
       "      <th>developer</th>\n",
       "      <th>tags</th>\n",
       "      <th>languages</th>\n",
       "      <th>genre</th>\n",
       "      <th>game_description</th>\n",
       "      <th>mature_content</th>\n",
       "      <th>price</th>\n",
       "      <th>reviews</th>\n",
       "      <th>date</th>\n",
       "      <th>achievements</th>\n",
       "      <th>op_sys</th>\n",
       "      <th>metadata</th>\n",
       "      <th>cluster</th>\n",
       "    </tr>\n",
       "  </thead>\n",
       "  <tbody>\n",
       "    <tr>\n",
       "      <th>0</th>\n",
       "      <td>https://store.steampowered.com/app/379720/DOOM/</td>\n",
       "      <td>DOOM</td>\n",
       "      <td>id Software</td>\n",
       "      <td>fps gore action demon shooter first person gre...</td>\n",
       "      <td>english french italian german spanish spain ja...</td>\n",
       "      <td>action</td>\n",
       "      <td>game developed id software studio pioneered fi...</td>\n",
       "      <td>0</td>\n",
       "      <td>17.991</td>\n",
       "      <td>Very Positive</td>\n",
       "      <td>2016-05-12 00:00:00</td>\n",
       "      <td>1.0</td>\n",
       "      <td>windows</td>\n",
       "      <td>multiplayer fast blood atmospheric zombie diff...</td>\n",
       "      <td>29</td>\n",
       "    </tr>\n",
       "    <tr>\n",
       "      <th>1</th>\n",
       "      <td>https://store.steampowered.com/app/578080/PLAY...</td>\n",
       "      <td>PLAYERUNKNOWN'S BATTLEGROUNDS</td>\n",
       "      <td>PUBG Corporation</td>\n",
       "      <td>survival shooter multiplayer battle royale pvp...</td>\n",
       "      <td>english korean simplified chinese french germa...</td>\n",
       "      <td>action adventure massively multiplayer</td>\n",
       "      <td>game playerunknown battleground battle royale ...</td>\n",
       "      <td>1</td>\n",
       "      <td>26.991</td>\n",
       "      <td>Mixed</td>\n",
       "      <td>2017-12-21 00:00:00</td>\n",
       "      <td>1.0</td>\n",
       "      <td>windows</td>\n",
       "      <td>multiplayer based pvp access tactical adventur...</td>\n",
       "      <td>28</td>\n",
       "    </tr>\n",
       "    <tr>\n",
       "      <th>2</th>\n",
       "      <td>https://store.steampowered.com/app/637090/BATT...</td>\n",
       "      <td>BATTLETECH</td>\n",
       "      <td>Harebrained Schemes</td>\n",
       "      <td>mechs strategy turn based turn based tactic sc...</td>\n",
       "      <td>english french german russian</td>\n",
       "      <td>action adventure strategy</td>\n",
       "      <td>game original battletech mechwarrior creator j...</td>\n",
       "      <td>0</td>\n",
       "      <td>35.991</td>\n",
       "      <td>Mostly Positive</td>\n",
       "      <td>2018-04-24 00:00:00</td>\n",
       "      <td>1.0</td>\n",
       "      <td>windows macOS Linux</td>\n",
       "      <td>multiplayer based character mechs management r...</td>\n",
       "      <td>3</td>\n",
       "    </tr>\n",
       "    <tr>\n",
       "      <th>3</th>\n",
       "      <td>https://store.steampowered.com/app/221100/DayZ/</td>\n",
       "      <td>DayZ</td>\n",
       "      <td>Bohemia Interactive</td>\n",
       "      <td>survival zombie open world multiplayer pvp mas...</td>\n",
       "      <td>english french italian german spanish spain cz...</td>\n",
       "      <td>action adventure massively multiplayer</td>\n",
       "      <td>game post soviet country chernarus struck unkn...</td>\n",
       "      <td>0</td>\n",
       "      <td>40.491</td>\n",
       "      <td>Mixed</td>\n",
       "      <td>2018-12-13 00:00:00</td>\n",
       "      <td>0.0</td>\n",
       "      <td>windows</td>\n",
       "      <td>multiplayer indie open pvp access atmospheric ...</td>\n",
       "      <td>38</td>\n",
       "    </tr>\n",
       "    <tr>\n",
       "      <th>4</th>\n",
       "      <td>https://store.steampowered.com/app/8500/EVE_On...</td>\n",
       "      <td>EVE Online</td>\n",
       "      <td>CCP</td>\n",
       "      <td>space massively multiplayer sci fi sandbox mmo...</td>\n",
       "      <td>english german russian french</td>\n",
       "      <td>action free play massively multiplayer rpg str...</td>\n",
       "      <td>game</td>\n",
       "      <td>0</td>\n",
       "      <td>NaN</td>\n",
       "      <td>Mostly Positive</td>\n",
       "      <td>2003-05-06 00:00:00</td>\n",
       "      <td>0.0</td>\n",
       "      <td>windows macOS</td>\n",
       "      <td>multiplayer mmorpg free open pvp capitalism at...</td>\n",
       "      <td>44</td>\n",
       "    </tr>\n",
       "  </tbody>\n",
       "</table>\n",
       "</div>"
      ],
      "text/plain": [
       "                                                 url  \\\n",
       "0    https://store.steampowered.com/app/379720/DOOM/   \n",
       "1  https://store.steampowered.com/app/578080/PLAY...   \n",
       "2  https://store.steampowered.com/app/637090/BATT...   \n",
       "3    https://store.steampowered.com/app/221100/DayZ/   \n",
       "4  https://store.steampowered.com/app/8500/EVE_On...   \n",
       "\n",
       "                            name            developer  \\\n",
       "0                           DOOM          id Software   \n",
       "1  PLAYERUNKNOWN'S BATTLEGROUNDS     PUBG Corporation   \n",
       "2                     BATTLETECH  Harebrained Schemes   \n",
       "3                           DayZ  Bohemia Interactive   \n",
       "4                     EVE Online                  CCP   \n",
       "\n",
       "                                                tags  \\\n",
       "0  fps gore action demon shooter first person gre...   \n",
       "1  survival shooter multiplayer battle royale pvp...   \n",
       "2  mechs strategy turn based turn based tactic sc...   \n",
       "3  survival zombie open world multiplayer pvp mas...   \n",
       "4  space massively multiplayer sci fi sandbox mmo...   \n",
       "\n",
       "                                           languages  \\\n",
       "0  english french italian german spanish spain ja...   \n",
       "1  english korean simplified chinese french germa...   \n",
       "2                      english french german russian   \n",
       "3  english french italian german spanish spain cz...   \n",
       "4                      english german russian french   \n",
       "\n",
       "                                               genre  \\\n",
       "0                                             action   \n",
       "1             action adventure massively multiplayer   \n",
       "2                          action adventure strategy   \n",
       "3             action adventure massively multiplayer   \n",
       "4  action free play massively multiplayer rpg str...   \n",
       "\n",
       "                                    game_description  mature_content   price  \\\n",
       "0  game developed id software studio pioneered fi...               0  17.991   \n",
       "1  game playerunknown battleground battle royale ...               1  26.991   \n",
       "2  game original battletech mechwarrior creator j...               0  35.991   \n",
       "3  game post soviet country chernarus struck unkn...               0  40.491   \n",
       "4                                               game               0     NaN   \n",
       "\n",
       "           reviews                 date  achievements               op_sys  \\\n",
       "0    Very Positive  2016-05-12 00:00:00           1.0              windows   \n",
       "1            Mixed  2017-12-21 00:00:00           1.0              windows   \n",
       "2  Mostly Positive  2018-04-24 00:00:00           1.0  windows macOS Linux   \n",
       "3            Mixed  2018-12-13 00:00:00           0.0              windows   \n",
       "4  Mostly Positive  2003-05-06 00:00:00           0.0        windows macOS   \n",
       "\n",
       "                                            metadata  cluster  \n",
       "0  multiplayer fast blood atmospheric zombie diff...       29  \n",
       "1  multiplayer based pvp access tactical adventur...       28  \n",
       "2  multiplayer based character mechs management r...        3  \n",
       "3  multiplayer indie open pvp access atmospheric ...       38  \n",
       "4  multiplayer mmorpg free open pvp capitalism at...       44  "
      ]
     },
     "execution_count": 217,
     "metadata": {},
     "output_type": "execute_result"
    }
   ],
   "source": [
    "df.head()"
   ]
  },
  {
   "cell_type": "code",
   "execution_count": 218,
   "metadata": {},
   "outputs": [],
   "source": [
    "df['metadata'] = df['metadata'].apply(clean_text)\n",
    "\n",
    "df['game_description'] = df['game_description'].apply(clean_text)"
   ]
  },
  {
   "cell_type": "code",
   "execution_count": 219,
   "metadata": {},
   "outputs": [],
   "source": [
    "df['tags'] = df['tags'].apply(clean_text)"
   ]
  },
  {
   "cell_type": "code",
   "execution_count": 220,
   "metadata": {},
   "outputs": [],
   "source": [
    "df['languages'] = df['languages'].apply(clean_text)"
   ]
  },
  {
   "cell_type": "code",
   "execution_count": 221,
   "metadata": {},
   "outputs": [],
   "source": [
    "df['genre'] = df['genre'].apply(clean_text)"
   ]
  },
  {
   "cell_type": "code",
   "execution_count": 222,
   "metadata": {},
   "outputs": [
    {
     "data": {
      "text/html": [
       "<div>\n",
       "<style scoped>\n",
       "    .dataframe tbody tr th:only-of-type {\n",
       "        vertical-align: middle;\n",
       "    }\n",
       "\n",
       "    .dataframe tbody tr th {\n",
       "        vertical-align: top;\n",
       "    }\n",
       "\n",
       "    .dataframe thead th {\n",
       "        text-align: right;\n",
       "    }\n",
       "</style>\n",
       "<table border=\"1\" class=\"dataframe\">\n",
       "  <thead>\n",
       "    <tr style=\"text-align: right;\">\n",
       "      <th></th>\n",
       "      <th>url</th>\n",
       "      <th>name</th>\n",
       "      <th>developer</th>\n",
       "      <th>tags</th>\n",
       "      <th>languages</th>\n",
       "      <th>genre</th>\n",
       "      <th>game_description</th>\n",
       "      <th>mature_content</th>\n",
       "      <th>price</th>\n",
       "      <th>reviews</th>\n",
       "      <th>date</th>\n",
       "      <th>achievements</th>\n",
       "      <th>op_sys</th>\n",
       "      <th>metadata</th>\n",
       "      <th>cluster</th>\n",
       "    </tr>\n",
       "  </thead>\n",
       "  <tbody>\n",
       "    <tr>\n",
       "      <th>0</th>\n",
       "      <td>https://store.steampowered.com/app/379720/DOOM/</td>\n",
       "      <td>DOOM</td>\n",
       "      <td>id Software</td>\n",
       "      <td>fps gore action demon shooter first person gre...</td>\n",
       "      <td>english french italian german spanish spain ja...</td>\n",
       "      <td>action</td>\n",
       "      <td>game developed id software studio pioneered fi...</td>\n",
       "      <td>0</td>\n",
       "      <td>17.991</td>\n",
       "      <td>Very Positive</td>\n",
       "      <td>2016-05-12 00:00:00</td>\n",
       "      <td>1.0</td>\n",
       "      <td>windows</td>\n",
       "      <td>multiplayer fast blood atmospheric zombie diff...</td>\n",
       "      <td>29</td>\n",
       "    </tr>\n",
       "    <tr>\n",
       "      <th>1</th>\n",
       "      <td>https://store.steampowered.com/app/578080/PLAY...</td>\n",
       "      <td>PLAYERUNKNOWN'S BATTLEGROUNDS</td>\n",
       "      <td>PUBG Corporation</td>\n",
       "      <td>survival shooter multiplayer battle royale pvp...</td>\n",
       "      <td>english korean simplified chinese french germa...</td>\n",
       "      <td>action adventure massively multiplayer</td>\n",
       "      <td>game playerunknown battleground battle royale ...</td>\n",
       "      <td>1</td>\n",
       "      <td>26.991</td>\n",
       "      <td>Mixed</td>\n",
       "      <td>2017-12-21 00:00:00</td>\n",
       "      <td>1.0</td>\n",
       "      <td>windows</td>\n",
       "      <td>multiplayer based pvp access tactical adventur...</td>\n",
       "      <td>28</td>\n",
       "    </tr>\n",
       "    <tr>\n",
       "      <th>2</th>\n",
       "      <td>https://store.steampowered.com/app/637090/BATT...</td>\n",
       "      <td>BATTLETECH</td>\n",
       "      <td>Harebrained Schemes</td>\n",
       "      <td>mechs strategy turn based turn based tactic sc...</td>\n",
       "      <td>english french german russian</td>\n",
       "      <td>action adventure strategy</td>\n",
       "      <td>game original battletech mechwarrior creator j...</td>\n",
       "      <td>0</td>\n",
       "      <td>35.991</td>\n",
       "      <td>Mostly Positive</td>\n",
       "      <td>2018-04-24 00:00:00</td>\n",
       "      <td>1.0</td>\n",
       "      <td>windows macOS Linux</td>\n",
       "      <td>multiplayer based character mechs management r...</td>\n",
       "      <td>3</td>\n",
       "    </tr>\n",
       "    <tr>\n",
       "      <th>3</th>\n",
       "      <td>https://store.steampowered.com/app/221100/DayZ/</td>\n",
       "      <td>DayZ</td>\n",
       "      <td>Bohemia Interactive</td>\n",
       "      <td>survival zombie open world multiplayer pvp mas...</td>\n",
       "      <td>english french italian german spanish spain cz...</td>\n",
       "      <td>action adventure massively multiplayer</td>\n",
       "      <td>game post soviet country chernarus struck unkn...</td>\n",
       "      <td>0</td>\n",
       "      <td>40.491</td>\n",
       "      <td>Mixed</td>\n",
       "      <td>2018-12-13 00:00:00</td>\n",
       "      <td>0.0</td>\n",
       "      <td>windows</td>\n",
       "      <td>multiplayer indie open pvp access atmospheric ...</td>\n",
       "      <td>38</td>\n",
       "    </tr>\n",
       "    <tr>\n",
       "      <th>4</th>\n",
       "      <td>https://store.steampowered.com/app/8500/EVE_On...</td>\n",
       "      <td>EVE Online</td>\n",
       "      <td>CCP</td>\n",
       "      <td>space massively multiplayer sci fi sandbox mmo...</td>\n",
       "      <td>english german russian french</td>\n",
       "      <td>action free play massively multiplayer rpg str...</td>\n",
       "      <td>game</td>\n",
       "      <td>0</td>\n",
       "      <td>NaN</td>\n",
       "      <td>Mostly Positive</td>\n",
       "      <td>2003-05-06 00:00:00</td>\n",
       "      <td>0.0</td>\n",
       "      <td>windows macOS</td>\n",
       "      <td>multiplayer mmorpg free open pvp capitalism at...</td>\n",
       "      <td>44</td>\n",
       "    </tr>\n",
       "  </tbody>\n",
       "</table>\n",
       "</div>"
      ],
      "text/plain": [
       "                                                 url  \\\n",
       "0    https://store.steampowered.com/app/379720/DOOM/   \n",
       "1  https://store.steampowered.com/app/578080/PLAY...   \n",
       "2  https://store.steampowered.com/app/637090/BATT...   \n",
       "3    https://store.steampowered.com/app/221100/DayZ/   \n",
       "4  https://store.steampowered.com/app/8500/EVE_On...   \n",
       "\n",
       "                            name            developer  \\\n",
       "0                           DOOM          id Software   \n",
       "1  PLAYERUNKNOWN'S BATTLEGROUNDS     PUBG Corporation   \n",
       "2                     BATTLETECH  Harebrained Schemes   \n",
       "3                           DayZ  Bohemia Interactive   \n",
       "4                     EVE Online                  CCP   \n",
       "\n",
       "                                                tags  \\\n",
       "0  fps gore action demon shooter first person gre...   \n",
       "1  survival shooter multiplayer battle royale pvp...   \n",
       "2  mechs strategy turn based turn based tactic sc...   \n",
       "3  survival zombie open world multiplayer pvp mas...   \n",
       "4  space massively multiplayer sci fi sandbox mmo...   \n",
       "\n",
       "                                           languages  \\\n",
       "0  english french italian german spanish spain ja...   \n",
       "1  english korean simplified chinese french germa...   \n",
       "2                      english french german russian   \n",
       "3  english french italian german spanish spain cz...   \n",
       "4                      english german russian french   \n",
       "\n",
       "                                               genre  \\\n",
       "0                                             action   \n",
       "1             action adventure massively multiplayer   \n",
       "2                          action adventure strategy   \n",
       "3             action adventure massively multiplayer   \n",
       "4  action free play massively multiplayer rpg str...   \n",
       "\n",
       "                                    game_description  mature_content   price  \\\n",
       "0  game developed id software studio pioneered fi...               0  17.991   \n",
       "1  game playerunknown battleground battle royale ...               1  26.991   \n",
       "2  game original battletech mechwarrior creator j...               0  35.991   \n",
       "3  game post soviet country chernarus struck unkn...               0  40.491   \n",
       "4                                               game               0     NaN   \n",
       "\n",
       "           reviews                 date  achievements               op_sys  \\\n",
       "0    Very Positive  2016-05-12 00:00:00           1.0              windows   \n",
       "1            Mixed  2017-12-21 00:00:00           1.0              windows   \n",
       "2  Mostly Positive  2018-04-24 00:00:00           1.0  windows macOS Linux   \n",
       "3            Mixed  2018-12-13 00:00:00           0.0              windows   \n",
       "4  Mostly Positive  2003-05-06 00:00:00           0.0        windows macOS   \n",
       "\n",
       "                                            metadata  cluster  \n",
       "0  multiplayer fast blood atmospheric zombie diff...       29  \n",
       "1  multiplayer based pvp access tactical adventur...       28  \n",
       "2  multiplayer based character mechs management r...        3  \n",
       "3  multiplayer indie open pvp access atmospheric ...       38  \n",
       "4  multiplayer mmorpg free open pvp capitalism at...       44  "
      ]
     },
     "execution_count": 222,
     "metadata": {},
     "output_type": "execute_result"
    }
   ],
   "source": [
    "df.head()"
   ]
  },
  {
   "cell_type": "code",
   "execution_count": 223,
   "metadata": {},
   "outputs": [],
   "source": [
    "df.to_csv('../raw_data/clean_df.csv', index=False)"
   ]
  },
  {
   "cell_type": "markdown",
   "metadata": {},
   "source": [
    "# Preprocessing"
   ]
  },
  {
   "cell_type": "code",
   "execution_count": 224,
   "metadata": {},
   "outputs": [],
   "source": [
    "def kmeans_labels(df, n , mi):\n",
    "    vec = TfidfVectorizer(min_df = mi ,ngram_range=(1,2))\n",
    "    X = vec.fit_transform(df['game_description'])\n",
    "    kmodel = KMeans(n_clusters=n)\n",
    "    kmodel.fit(X)\n",
    "    \n",
    "    return kmodel.labels_"
   ]
  },
  {
   "cell_type": "code",
   "execution_count": 225,
   "metadata": {},
   "outputs": [],
   "source": [
    "def create_pipeline(df, m=0.05 , c=1, n =50, mi = 0.04):\n",
    "    array_transf = FunctionTransformer(lambda array: array.toarray())\n",
    "    df['cluster'] = kmeans_labels(df, n, mi)\n",
    "    \n",
    "    \n",
    "    meta_transf = make_pipeline(\n",
    "        TfidfVectorizer(min_df=m), \n",
    "        array_transf,\n",
    "        RobustScaler()\n",
    "    )\n",
    "    \n",
    "    ord_encoder = OrdinalEncoder(\n",
    "        categories=[\n",
    "            [\n",
    "                \"Overwhelmingly Negative\",\n",
    "                \"Very Negative\",\n",
    "                \"Negative\",\n",
    "                \"Mostly Negative\",\n",
    "                'Mixed',\n",
    "                \"Mostly Positive\",\n",
    "                \"Positive\",\n",
    "                \"Very Positive\",\n",
    "                \"Overwhelmingly Positive\"\n",
    "            ]],\n",
    "        dtype=np.int64,\n",
    "        handle_unknown=\"use_encoded_value\",\n",
    "        unknown_value=-1\n",
    "    )\n",
    "    \n",
    "    ord_transf = make_pipeline(\n",
    "        ord_encoder, \n",
    "        StandardScaler())\n",
    "    \n",
    "    cluster_transf = make_pipeline(\n",
    "        OneHotEncoder(sparse=False), \n",
    "         StandardScaler()\n",
    "    )\n",
    "    \n",
    "    num_transf = make_pipeline(StandardScaler())\n",
    "\n",
    "\n",
    "    preproc_basic = make_column_transformer(\n",
    "        (meta_transf, 'metadata'),\n",
    "        (cluster_transf, ['cluster']),\n",
    "        (ord_transf, ['reviews']),\n",
    "        (num_transf, ['mature_content', 'achievements']),\n",
    "        remainder='drop'\n",
    "    )\n",
    "    \n",
    "    full_pipe = make_pipeline(preproc_basic, PCA(n_components=c) )\n",
    "    return full_pipe.fit_transform(df)\n",
    "    \n",
    "    #return preproc_basic.fit_transform(df)"
   ]
  },
  {
   "cell_type": "code",
   "execution_count": 226,
   "metadata": {},
   "outputs": [],
   "source": [
    "def train(X, y):\n",
    "    return KNeighborsRegressor().fit(X,y)"
   ]
  },
  {
   "cell_type": "code",
   "execution_count": 227,
   "metadata": {},
   "outputs": [],
   "source": [
    "def recommending_system(model, X, game):\n",
    "    \n",
    "    neighbors_index = model.kneighbors(X.loc[[game]],n_neighbors=df.shape[0])[1][0]\n",
    "    neighbors_distance = model.kneighbors(X.loc[[game]],n_neighbors=df.shape[0])[0][0]\n",
    "    \n",
    "    neighbors_list = list(neighbors_index)\n",
    "    \n",
    "    # new_df_values = {\n",
    "    #     'distance': neighbors_distance,\n",
    "    #     'url': [],\n",
    "    #     'price': [],\n",
    "    #     'reviews': [],\n",
    "    #     'op_sys': [],\n",
    "    #     'developer': [],\n",
    "    # }\n",
    "    \n",
    "    # for index in neighbors_index:\n",
    "    #     new_df_values['url'].append(df.loc[index, 'url'])\n",
    "    #     new_df_values['price'].append(df.loc[index, 'price'])\n",
    "    #     new_df_values['reviews'].append(df.loc[index, 'reviews'])\n",
    "    #     new_df_values['op_sys'].append(df.loc[index, 'op_sys'])\n",
    "    #     new_df_values['developer'].append(df.loc[index, 'developer'])\n",
    "    \n",
    "    return pd.DataFrame(neighbors_distance, index = X.iloc[neighbors_list, :].index, columns=['distance'])\n",
    "    "
   ]
  },
  {
   "cell_type": "code",
   "execution_count": 228,
   "metadata": {},
   "outputs": [
    {
     "data": {
      "text/plain": [
       "(24564, 1)"
      ]
     },
     "execution_count": 228,
     "metadata": {},
     "output_type": "execute_result"
    }
   ],
   "source": [
    "pipe = create_pipeline(df)\n",
    "pipe.shape"
   ]
  },
  {
   "cell_type": "code",
   "execution_count": 229,
   "metadata": {},
   "outputs": [],
   "source": [
    "X = pd.DataFrame(pipe, index=df.name.tolist())"
   ]
  },
  {
   "cell_type": "code",
   "execution_count": 230,
   "metadata": {},
   "outputs": [],
   "source": [
    "model = train(X, df['url'])"
   ]
  },
  {
   "cell_type": "code",
   "execution_count": 231,
   "metadata": {},
   "outputs": [
    {
     "data": {
      "text/plain": [
       "distance    0.480031\n",
       "Name: Dungeon Girl, dtype: float64"
      ]
     },
     "execution_count": 231,
     "metadata": {},
     "output_type": "execute_result"
    }
   ],
   "source": [
    "recommending_system(model, X, 'Portal 2').iloc[5211]"
   ]
  },
  {
   "cell_type": "markdown",
   "metadata": {
    "tags": []
   },
   "source": [
    "# Testing Data"
   ]
  },
  {
   "cell_type": "code",
   "execution_count": 232,
   "metadata": {},
   "outputs": [],
   "source": [
    "user_df = pd.read_csv('../raw_data/steam-200k.csv',usecols=[0,1,2,3],names=['userid','game','behavior','hoursplayed'])"
   ]
  },
  {
   "cell_type": "code",
   "execution_count": 233,
   "metadata": {},
   "outputs": [],
   "source": [
    "# keeping only play entries\n",
    "\n",
    "df_play = user_df[user_df['behavior']=='play']\n",
    "df_play=df_play.drop(columns='behavior')\n",
    "\n",
    "#keeping only games that are also in the main dataset\n",
    "user_name= pd.DataFrame(df_play['game'].unique(),columns=['name']).merge(df, on = 'name')\n",
    "join_name = list(user_name.name.unique())\n",
    "df_play = df_play[df_play['game'].isin(join_name)]"
   ]
  },
  {
   "cell_type": "code",
   "execution_count": 234,
   "metadata": {},
   "outputs": [],
   "source": [
    "# Creating DF of users favorites 2 games\n",
    "\n",
    "def get_fav_games(df,user):\n",
    "    db = df[df['userid']==user].sort_values(by='hoursplayed', ascending=False)\n",
    "    return list(db['game'].iloc[0:2])\n",
    "\n",
    "def get_user_list(df):\n",
    "    temp_df=df.groupby('userid').count()[['game']]\n",
    "    return list(temp_df[temp_df['game']>1].index)\n",
    "\n",
    "def get_fav_list(df):\n",
    "    user_list= get_user_list(df)\n",
    "    fav_list=[]\n",
    "    for user in user_list:\n",
    "        fav_list.append(get_fav_games(df,user))\n",
    "    fav1=[]\n",
    "    fav2=[]\n",
    "    for fav in fav_list:\n",
    "        fav1.append(fav[0])\n",
    "        fav2.append(fav[1])\n",
    "    return pd.DataFrame(data=list(zip( fav1, fav2)),\n",
    "                         columns=['most_fav_game', 'sec_fav_game'],index=user_list)\n"
   ]
  },
  {
   "cell_type": "code",
   "execution_count": 235,
   "metadata": {},
   "outputs": [],
   "source": [
    "test_df = get_fav_list(df_play)"
   ]
  },
  {
   "cell_type": "code",
   "execution_count": 236,
   "metadata": {},
   "outputs": [],
   "source": [
    "def testing_models(df, model):\n",
    "\n",
    "    df['distance'] = ''\n",
    "    for index, row in df.iterrows():\n",
    "        neighbors_list = list(model.kneighbors(X.loc[[row['most_fav_game']]],n_neighbors=df.shape[0])[1][0])\n",
    "        res = pd.DataFrame(model.kneighbors(X.loc[[row['most_fav_game']]],n_neighbors=df.shape[0])[0][0],\\\n",
    "                           index = X.iloc[neighbors_list, :]\\\n",
    "                        .index, columns = ['distance']).loc[row['sec_fav_game']][0]\n",
    "        df.loc[index, 'distance'] = res\n",
    "        \n",
    "    return df"
   ]
  },
  {
   "cell_type": "markdown",
   "metadata": {},
   "source": [
    "# Testing params"
   ]
  },
  {
   "cell_type": "code",
   "execution_count": 237,
   "metadata": {},
   "outputs": [
    {
     "data": {
      "text/plain": [
       "(24564, 1)"
      ]
     },
     "execution_count": 237,
     "metadata": {},
     "output_type": "execute_result"
    }
   ],
   "source": [
    "pipe = create_pipeline(df, 0.05, 1, 15, 0.2)\n",
    "pipe.shape"
   ]
  },
  {
   "cell_type": "code",
   "execution_count": 238,
   "metadata": {},
   "outputs": [],
   "source": [
    "X = pd.DataFrame(pipe, index=df.name.tolist())\n",
    "model = train(X, df['url'])"
   ]
  },
  {
   "cell_type": "code",
   "execution_count": 239,
   "metadata": {},
   "outputs": [
    {
     "data": {
      "text/html": [
       "<div>\n",
       "<style scoped>\n",
       "    .dataframe tbody tr th:only-of-type {\n",
       "        vertical-align: middle;\n",
       "    }\n",
       "\n",
       "    .dataframe tbody tr th {\n",
       "        vertical-align: top;\n",
       "    }\n",
       "\n",
       "    .dataframe thead th {\n",
       "        text-align: right;\n",
       "    }\n",
       "</style>\n",
       "<table border=\"1\" class=\"dataframe\">\n",
       "  <thead>\n",
       "    <tr style=\"text-align: right;\">\n",
       "      <th></th>\n",
       "      <th>distance</th>\n",
       "    </tr>\n",
       "  </thead>\n",
       "  <tbody>\n",
       "    <tr>\n",
       "      <th>Far Cry 3</th>\n",
       "      <td>0.000000</td>\n",
       "    </tr>\n",
       "    <tr>\n",
       "      <th>Final Exam</th>\n",
       "      <td>0.000142</td>\n",
       "    </tr>\n",
       "    <tr>\n",
       "      <th>DEVIL GUNS</th>\n",
       "      <td>0.000243</td>\n",
       "    </tr>\n",
       "    <tr>\n",
       "      <th>Heart of Moon : The Mask of Seasons</th>\n",
       "      <td>0.000337</td>\n",
       "    </tr>\n",
       "    <tr>\n",
       "      <th>Combat Wings: Battle of Britain</th>\n",
       "      <td>0.000414</td>\n",
       "    </tr>\n",
       "    <tr>\n",
       "      <th>...</th>\n",
       "      <td>...</td>\n",
       "    </tr>\n",
       "    <tr>\n",
       "      <th>Curfew</th>\n",
       "      <td>3.949851</td>\n",
       "    </tr>\n",
       "    <tr>\n",
       "      <th>36 Fragments of Midnight</th>\n",
       "      <td>3.949851</td>\n",
       "    </tr>\n",
       "    <tr>\n",
       "      <th>Castle Of Cthulhu</th>\n",
       "      <td>3.949851</td>\n",
       "    </tr>\n",
       "    <tr>\n",
       "      <th>The Wanderings Dragon</th>\n",
       "      <td>3.949851</td>\n",
       "    </tr>\n",
       "    <tr>\n",
       "      <th>Monsters &amp; Anomaly</th>\n",
       "      <td>3.949851</td>\n",
       "    </tr>\n",
       "  </tbody>\n",
       "</table>\n",
       "<p>24564 rows × 1 columns</p>\n",
       "</div>"
      ],
      "text/plain": [
       "                                     distance\n",
       "Far Cry 3                            0.000000\n",
       "Final Exam                           0.000142\n",
       "DEVIL GUNS                           0.000243\n",
       "Heart of Moon : The Mask of Seasons  0.000337\n",
       "Combat Wings: Battle of Britain      0.000414\n",
       "...                                       ...\n",
       "Curfew                               3.949851\n",
       "36 Fragments of Midnight             3.949851\n",
       "Castle Of Cthulhu                    3.949851\n",
       "The Wanderings Dragon                3.949851\n",
       "Monsters & Anomaly                   3.949851\n",
       "\n",
       "[24564 rows x 1 columns]"
      ]
     },
     "execution_count": 239,
     "metadata": {},
     "output_type": "execute_result"
    }
   ],
   "source": [
    "recommending_system(model, X, 'Far Cry 3')"
   ]
  },
  {
   "cell_type": "code",
   "execution_count": 250,
   "metadata": {},
   "outputs": [],
   "source": [
    "def test_params(test_df,df, X, model, name, index_name):\n",
    "    for index, row in test_df.iterrows():\n",
    "        neighbors_list = list(model.kneighbors(X.loc[[row['most_fav_game']]],n_neighbors=df.shape[0])[1][0])\n",
    "        res = pd.DataFrame(model.kneighbors(X.loc[[row['most_fav_game']]],n_neighbors=df.shape[0])[0][0],\\\n",
    "                           index = X.iloc[neighbors_list, :]\\\n",
    "                        .index, columns = [name])\n",
    "        test_df.loc[index, name] = res.loc[row['sec_fav_game']][0]\n",
    "        test_df.loc[index, index_name]= res.index.get_loc(row['sec_fav_game'])\n",
    "    return test_df"
   ]
  },
  {
   "cell_type": "code",
   "execution_count": 286,
   "metadata": {},
   "outputs": [],
   "source": [
    "def check_params(df, m=0.05 , c=1, n =50, mi = 0.1):\n",
    "    pipe = create_pipeline(df, m=0.05 , c=1, n =50, mi = 0.04)\n",
    "    X = pd.DataFrame(pipe, index=df.name.tolist())\n",
    "    model = train(X, df['url'])\n",
    "    name = str(m)\n",
    "    index_name = 'index' + str(m)\n",
    "    test_params(test_df,df, X, model, name, index_name)\n",
    "    return test_df"
   ]
  },
  {
   "cell_type": "markdown",
   "metadata": {},
   "source": [
    "## Finding Best Params!"
   ]
  },
  {
   "cell_type": "code",
   "execution_count": 274,
   "metadata": {},
   "outputs": [],
   "source": [
    "m_list = [0.03, 0.05, 0.7]\n",
    "c_list = [1,5,10]\n",
    "n_list = [10, 50, 70]\n",
    "mi_list = [0.05, 0.07, 0.1]"
   ]
  },
  {
   "cell_type": "code",
   "execution_count": 275,
   "metadata": {},
   "outputs": [],
   "source": [
    "main_list = [m_list, c_list, n_list, mi_list]"
   ]
  },
  {
   "cell_type": "code",
   "execution_count": 280,
   "metadata": {},
   "outputs": [],
   "source": [
    "import itertools\n",
    "params_list = list(itertools.product(*main_list))"
   ]
  },
  {
   "cell_type": "code",
   "execution_count": 291,
   "metadata": {},
   "outputs": [
    {
     "ename": "KeyboardInterrupt",
     "evalue": "",
     "output_type": "error",
     "traceback": [
      "\u001b[0;31m---------------------------------------------------------------------------\u001b[0m",
      "\u001b[0;31mKeyboardInterrupt\u001b[0m                         Traceback (most recent call last)",
      "Input \u001b[0;32mIn [291]\u001b[0m, in \u001b[0;36m<cell line: 3>\u001b[0;34m()\u001b[0m\n\u001b[1;32m      1\u001b[0m \u001b[38;5;66;03m# fun loop to go through!\u001b[39;00m\n\u001b[1;32m      3\u001b[0m \u001b[38;5;28;01mfor\u001b[39;00m params \u001b[38;5;129;01min\u001b[39;00m params_list:\n\u001b[0;32m----> 4\u001b[0m     \u001b[43mcheck_params\u001b[49m\u001b[43m(\u001b[49m\u001b[43mdf\u001b[49m\u001b[43m,\u001b[49m\u001b[43m \u001b[49m\u001b[43mparams\u001b[49m\u001b[43m)\u001b[49m\n",
      "Input \u001b[0;32mIn [286]\u001b[0m, in \u001b[0;36mcheck_params\u001b[0;34m(df, m, c, n, mi)\u001b[0m\n\u001b[1;32m      1\u001b[0m \u001b[38;5;28;01mdef\u001b[39;00m \u001b[38;5;21mcheck_params\u001b[39m(df, m\u001b[38;5;241m=\u001b[39m\u001b[38;5;241m0.05\u001b[39m , c\u001b[38;5;241m=\u001b[39m\u001b[38;5;241m1\u001b[39m, n \u001b[38;5;241m=\u001b[39m\u001b[38;5;241m50\u001b[39m, mi \u001b[38;5;241m=\u001b[39m \u001b[38;5;241m0.1\u001b[39m):\n\u001b[0;32m----> 2\u001b[0m     pipe \u001b[38;5;241m=\u001b[39m \u001b[43mcreate_pipeline\u001b[49m\u001b[43m(\u001b[49m\u001b[43mdf\u001b[49m\u001b[43m,\u001b[49m\u001b[43m \u001b[49m\u001b[43mm\u001b[49m\u001b[38;5;241;43m=\u001b[39;49m\u001b[38;5;241;43m0.05\u001b[39;49m\u001b[43m \u001b[49m\u001b[43m,\u001b[49m\u001b[43m \u001b[49m\u001b[43mc\u001b[49m\u001b[38;5;241;43m=\u001b[39;49m\u001b[38;5;241;43m1\u001b[39;49m\u001b[43m,\u001b[49m\u001b[43m \u001b[49m\u001b[43mn\u001b[49m\u001b[43m \u001b[49m\u001b[38;5;241;43m=\u001b[39;49m\u001b[38;5;241;43m50\u001b[39;49m\u001b[43m,\u001b[49m\u001b[43m \u001b[49m\u001b[43mmi\u001b[49m\u001b[43m \u001b[49m\u001b[38;5;241;43m=\u001b[39;49m\u001b[43m \u001b[49m\u001b[38;5;241;43m0.04\u001b[39;49m\u001b[43m)\u001b[49m\n\u001b[1;32m      3\u001b[0m     X \u001b[38;5;241m=\u001b[39m pd\u001b[38;5;241m.\u001b[39mDataFrame(pipe, index\u001b[38;5;241m=\u001b[39mdf\u001b[38;5;241m.\u001b[39mname\u001b[38;5;241m.\u001b[39mtolist())\n\u001b[1;32m      4\u001b[0m     model \u001b[38;5;241m=\u001b[39m train(X, df[\u001b[38;5;124m'\u001b[39m\u001b[38;5;124murl\u001b[39m\u001b[38;5;124m'\u001b[39m])\n",
      "Input \u001b[0;32mIn [225]\u001b[0m, in \u001b[0;36mcreate_pipeline\u001b[0;34m(df, m, c, n, mi)\u001b[0m\n\u001b[1;32m      1\u001b[0m \u001b[38;5;28;01mdef\u001b[39;00m \u001b[38;5;21mcreate_pipeline\u001b[39m(df, m\u001b[38;5;241m=\u001b[39m\u001b[38;5;241m0.05\u001b[39m , c\u001b[38;5;241m=\u001b[39m\u001b[38;5;241m1\u001b[39m, n \u001b[38;5;241m=\u001b[39m\u001b[38;5;241m50\u001b[39m, mi \u001b[38;5;241m=\u001b[39m \u001b[38;5;241m0.04\u001b[39m):\n\u001b[1;32m      2\u001b[0m     array_transf \u001b[38;5;241m=\u001b[39m FunctionTransformer(\u001b[38;5;28;01mlambda\u001b[39;00m array: array\u001b[38;5;241m.\u001b[39mtoarray())\n\u001b[0;32m----> 3\u001b[0m     df[\u001b[38;5;124m'\u001b[39m\u001b[38;5;124mcluster\u001b[39m\u001b[38;5;124m'\u001b[39m] \u001b[38;5;241m=\u001b[39m \u001b[43mkmeans_labels\u001b[49m\u001b[43m(\u001b[49m\u001b[43mdf\u001b[49m\u001b[43m,\u001b[49m\u001b[43m \u001b[49m\u001b[43mn\u001b[49m\u001b[43m,\u001b[49m\u001b[43m \u001b[49m\u001b[43mmi\u001b[49m\u001b[43m)\u001b[49m\n\u001b[1;32m      6\u001b[0m     meta_transf \u001b[38;5;241m=\u001b[39m make_pipeline(\n\u001b[1;32m      7\u001b[0m         TfidfVectorizer(min_df\u001b[38;5;241m=\u001b[39mm), \n\u001b[1;32m      8\u001b[0m         array_transf,\n\u001b[1;32m      9\u001b[0m         RobustScaler()\n\u001b[1;32m     10\u001b[0m     )\n\u001b[1;32m     12\u001b[0m     ord_encoder \u001b[38;5;241m=\u001b[39m OrdinalEncoder(\n\u001b[1;32m     13\u001b[0m         categories\u001b[38;5;241m=\u001b[39m[\n\u001b[1;32m     14\u001b[0m             [\n\u001b[0;32m   (...)\u001b[0m\n\u001b[1;32m     27\u001b[0m         unknown_value\u001b[38;5;241m=\u001b[39m\u001b[38;5;241m-\u001b[39m\u001b[38;5;241m1\u001b[39m\n\u001b[1;32m     28\u001b[0m     )\n",
      "Input \u001b[0;32mIn [224]\u001b[0m, in \u001b[0;36mkmeans_labels\u001b[0;34m(df, n, mi)\u001b[0m\n\u001b[1;32m      1\u001b[0m \u001b[38;5;28;01mdef\u001b[39;00m \u001b[38;5;21mkmeans_labels\u001b[39m(df, n , mi):\n\u001b[1;32m      2\u001b[0m     vec \u001b[38;5;241m=\u001b[39m TfidfVectorizer(min_df \u001b[38;5;241m=\u001b[39m mi ,ngram_range\u001b[38;5;241m=\u001b[39m(\u001b[38;5;241m1\u001b[39m,\u001b[38;5;241m2\u001b[39m))\n\u001b[0;32m----> 3\u001b[0m     X \u001b[38;5;241m=\u001b[39m \u001b[43mvec\u001b[49m\u001b[38;5;241;43m.\u001b[39;49m\u001b[43mfit_transform\u001b[49m\u001b[43m(\u001b[49m\u001b[43mdf\u001b[49m\u001b[43m[\u001b[49m\u001b[38;5;124;43m'\u001b[39;49m\u001b[38;5;124;43mgame_description\u001b[39;49m\u001b[38;5;124;43m'\u001b[39;49m\u001b[43m]\u001b[49m\u001b[43m)\u001b[49m\n\u001b[1;32m      4\u001b[0m     kmodel \u001b[38;5;241m=\u001b[39m KMeans(n_clusters\u001b[38;5;241m=\u001b[39mn)\n\u001b[1;32m      5\u001b[0m     kmodel\u001b[38;5;241m.\u001b[39mfit(X)\n",
      "File \u001b[0;32m~/.pyenv/versions/3.8.12/envs/find_your_inner_gamer/lib/python3.8/site-packages/sklearn/feature_extraction/text.py:2077\u001b[0m, in \u001b[0;36mTfidfVectorizer.fit_transform\u001b[0;34m(self, raw_documents, y)\u001b[0m\n\u001b[1;32m   2058\u001b[0m \u001b[38;5;124;03m\"\"\"Learn vocabulary and idf, return document-term matrix.\u001b[39;00m\n\u001b[1;32m   2059\u001b[0m \n\u001b[1;32m   2060\u001b[0m \u001b[38;5;124;03mThis is equivalent to fit followed by transform, but more efficiently\u001b[39;00m\n\u001b[0;32m   (...)\u001b[0m\n\u001b[1;32m   2074\u001b[0m \u001b[38;5;124;03m    Tf-idf-weighted document-term matrix.\u001b[39;00m\n\u001b[1;32m   2075\u001b[0m \u001b[38;5;124;03m\"\"\"\u001b[39;00m\n\u001b[1;32m   2076\u001b[0m \u001b[38;5;28mself\u001b[39m\u001b[38;5;241m.\u001b[39m_check_params()\n\u001b[0;32m-> 2077\u001b[0m X \u001b[38;5;241m=\u001b[39m \u001b[38;5;28;43msuper\u001b[39;49m\u001b[43m(\u001b[49m\u001b[43m)\u001b[49m\u001b[38;5;241;43m.\u001b[39;49m\u001b[43mfit_transform\u001b[49m\u001b[43m(\u001b[49m\u001b[43mraw_documents\u001b[49m\u001b[43m)\u001b[49m\n\u001b[1;32m   2078\u001b[0m \u001b[38;5;28mself\u001b[39m\u001b[38;5;241m.\u001b[39m_tfidf\u001b[38;5;241m.\u001b[39mfit(X)\n\u001b[1;32m   2079\u001b[0m \u001b[38;5;66;03m# X is already a transformed view of raw_documents so\u001b[39;00m\n\u001b[1;32m   2080\u001b[0m \u001b[38;5;66;03m# we set copy to False\u001b[39;00m\n",
      "File \u001b[0;32m~/.pyenv/versions/3.8.12/envs/find_your_inner_gamer/lib/python3.8/site-packages/sklearn/feature_extraction/text.py:1330\u001b[0m, in \u001b[0;36mCountVectorizer.fit_transform\u001b[0;34m(self, raw_documents, y)\u001b[0m\n\u001b[1;32m   1322\u001b[0m             warnings\u001b[38;5;241m.\u001b[39mwarn(\n\u001b[1;32m   1323\u001b[0m                 \u001b[38;5;124m\"\u001b[39m\u001b[38;5;124mUpper case characters found in\u001b[39m\u001b[38;5;124m\"\u001b[39m\n\u001b[1;32m   1324\u001b[0m                 \u001b[38;5;124m\"\u001b[39m\u001b[38;5;124m vocabulary while \u001b[39m\u001b[38;5;124m'\u001b[39m\u001b[38;5;124mlowercase\u001b[39m\u001b[38;5;124m'\u001b[39m\u001b[38;5;124m\"\u001b[39m\n\u001b[1;32m   1325\u001b[0m                 \u001b[38;5;124m\"\u001b[39m\u001b[38;5;124m is True. These entries will not\u001b[39m\u001b[38;5;124m\"\u001b[39m\n\u001b[1;32m   1326\u001b[0m                 \u001b[38;5;124m\"\u001b[39m\u001b[38;5;124m be matched with any documents\u001b[39m\u001b[38;5;124m\"\u001b[39m\n\u001b[1;32m   1327\u001b[0m             )\n\u001b[1;32m   1328\u001b[0m             \u001b[38;5;28;01mbreak\u001b[39;00m\n\u001b[0;32m-> 1330\u001b[0m vocabulary, X \u001b[38;5;241m=\u001b[39m \u001b[38;5;28;43mself\u001b[39;49m\u001b[38;5;241;43m.\u001b[39;49m\u001b[43m_count_vocab\u001b[49m\u001b[43m(\u001b[49m\u001b[43mraw_documents\u001b[49m\u001b[43m,\u001b[49m\u001b[43m \u001b[49m\u001b[38;5;28;43mself\u001b[39;49m\u001b[38;5;241;43m.\u001b[39;49m\u001b[43mfixed_vocabulary_\u001b[49m\u001b[43m)\u001b[49m\n\u001b[1;32m   1332\u001b[0m \u001b[38;5;28;01mif\u001b[39;00m \u001b[38;5;28mself\u001b[39m\u001b[38;5;241m.\u001b[39mbinary:\n\u001b[1;32m   1333\u001b[0m     X\u001b[38;5;241m.\u001b[39mdata\u001b[38;5;241m.\u001b[39mfill(\u001b[38;5;241m1\u001b[39m)\n",
      "File \u001b[0;32m~/.pyenv/versions/3.8.12/envs/find_your_inner_gamer/lib/python3.8/site-packages/sklearn/feature_extraction/text.py:1203\u001b[0m, in \u001b[0;36mCountVectorizer._count_vocab\u001b[0;34m(self, raw_documents, fixed_vocab)\u001b[0m\n\u001b[1;32m   1201\u001b[0m \u001b[38;5;28;01mfor\u001b[39;00m feature \u001b[38;5;129;01min\u001b[39;00m analyze(doc):\n\u001b[1;32m   1202\u001b[0m     \u001b[38;5;28;01mtry\u001b[39;00m:\n\u001b[0;32m-> 1203\u001b[0m         feature_idx \u001b[38;5;241m=\u001b[39m \u001b[43mvocabulary\u001b[49m\u001b[43m[\u001b[49m\u001b[43mfeature\u001b[49m\u001b[43m]\u001b[49m\n\u001b[1;32m   1204\u001b[0m         \u001b[38;5;28;01mif\u001b[39;00m feature_idx \u001b[38;5;129;01mnot\u001b[39;00m \u001b[38;5;129;01min\u001b[39;00m feature_counter:\n\u001b[1;32m   1205\u001b[0m             feature_counter[feature_idx] \u001b[38;5;241m=\u001b[39m \u001b[38;5;241m1\u001b[39m\n",
      "\u001b[0;31mKeyboardInterrupt\u001b[0m: "
     ]
    }
   ],
   "source": [
    "# fun loop to go through!\n",
    "\n",
    "for params in params_list:\n",
    "    check_params(df, params)"
   ]
  },
  {
   "cell_type": "code",
   "execution_count": null,
   "metadata": {},
   "outputs": [],
   "source": []
  }
 ],
 "metadata": {
  "interpreter": {
   "hash": "e5905dbd7144fd635d879e99f858de0a2f776f102b4a084bfc2e5a46677c40b9"
  },
  "kernelspec": {
   "display_name": "Python 3 (ipykernel)",
   "language": "python",
   "name": "python3"
  },
  "language_info": {
   "codemirror_mode": {
    "name": "ipython",
    "version": 3
   },
   "file_extension": ".py",
   "mimetype": "text/x-python",
   "name": "python",
   "nbconvert_exporter": "python",
   "pygments_lexer": "ipython3",
   "version": "3.8.12"
  },
  "toc": {
   "base_numbering": 1,
   "nav_menu": {},
   "number_sections": true,
   "sideBar": true,
   "skip_h1_title": false,
   "title_cell": "Table of Contents",
   "title_sidebar": "Contents",
   "toc_cell": false,
   "toc_position": {},
   "toc_section_display": true,
   "toc_window_display": false
  }
 },
 "nbformat": 4,
 "nbformat_minor": 4
}
