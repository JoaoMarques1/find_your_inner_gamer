{
 "cells": [
  {
   "cell_type": "code",
   "execution_count": 34,
   "id": "7eb5e0fb-0910-452d-b255-7837323d9873",
   "metadata": {},
   "outputs": [
    {
     "name": "stdout",
     "output_type": "stream",
     "text": [
      "The autoreload extension is already loaded. To reload it, use:\n",
      "  %reload_ext autoreload\n"
     ]
    }
   ],
   "source": [
    "import numpy as np # import for math and array operations\n",
    "import pandas as pd # import for dataframe handle\n",
    "import matplotlib.pyplot as plt # import for visual representation\n",
    "import seaborn as sns # import for visual representation\n",
    "import math\n",
    "from bs4 import BeautifulSoup\n",
    "import requests\n",
    "import datetime as dt\n",
    "\n",
    "%load_ext autoreload\n",
    "%autoreload 2"
   ]
  },
  {
   "cell_type": "code",
   "execution_count": 2,
   "id": "2b9d978e-6310-477d-8b94-26acbe07c3e1",
   "metadata": {},
   "outputs": [],
   "source": [
    "df = pd.read_csv('../raw_data/steam_games.csv')"
   ]
  },
  {
   "cell_type": "markdown",
   "id": "aa761375-d3e5-4dd1-9f0c-1dd798d6da67",
   "metadata": {},
   "source": [
    "# Cleaning columns"
   ]
  },
  {
   "cell_type": "markdown",
   "id": "9c7dd4fd-d83b-4444-8087-8a6a170c7cd5",
   "metadata": {},
   "source": [
    "### URL"
   ]
  },
  {
   "cell_type": "raw",
   "id": "240ad662-1929-4d1c-be05-4437725cb496",
   "metadata": {},
   "source": [
    "No Cleaning done!"
   ]
  },
  {
   "cell_type": "markdown",
   "id": "8bc9b6ad-18ae-4770-9b8c-224d0993ed71",
   "metadata": {},
   "source": [
    "### Types"
   ]
  },
  {
   "cell_type": "raw",
   "id": "caedd8ef-e484-4f25-9d45-7f8446bd864a",
   "metadata": {},
   "source": [
    "Dropping lines that are not games and keeping only app"
   ]
  },
  {
   "cell_type": "code",
   "execution_count": 6,
   "id": "3669eaf9-8d5e-495a-bf9b-aa8ee7556fbf",
   "metadata": {},
   "outputs": [],
   "source": [
    "new_df = df.copy().dropna(subset=['types'])\n",
    "app_df = new_df[new_df['types'] == 'app']"
   ]
  },
  {
   "cell_type": "markdown",
   "id": "4c740975-d0fb-4944-b4b4-8979216be556",
   "metadata": {},
   "source": [
    "### Names"
   ]
  },
  {
   "cell_type": "raw",
   "id": "5a94440c-51a2-4339-9878-e2172f82b26a",
   "metadata": {},
   "source": [
    "No Cleaning done!"
   ]
  },
  {
   "cell_type": "markdown",
   "id": "a2563545-2880-4d2e-aab7-85b2608c0988",
   "metadata": {},
   "source": [
    "### Desc_snippet"
   ]
  },
  {
   "cell_type": "code",
   "execution_count": 10,
   "id": "51f469bf-c9d8-4234-95df-2c7989b09ea9",
   "metadata": {},
   "outputs": [],
   "source": [
    "# Complete desc_snippet with game_description\n",
    "for index in app_df['desc_snippet'].index:\n",
    "    app_df.loc[index, 'desc_snippet'] = app_df.loc[index, 'game_description']"
   ]
  },
  {
   "cell_type": "markdown",
   "id": "712767a3-a609-4305-a940-9cebbe64708f",
   "metadata": {},
   "source": [
    "### Reviews"
   ]
  },
  {
   "cell_type": "code",
   "execution_count": 11,
   "id": "dceefd11-aba1-42cb-8d76-a6fed98a5a9d",
   "metadata": {},
   "outputs": [],
   "source": [
    "def clean_review(review):\n",
    "    if 'score' in str(review):\n",
    "        return review.split(',')[0]\n",
    "    else:\n",
    "        return float('nan')"
   ]
  },
  {
   "cell_type": "markdown",
   "id": "f89841f7-8c37-4a0b-a5e8-d5077b82595c",
   "metadata": {},
   "source": [
    "### Dates"
   ]
  },
  {
   "cell_type": "code",
   "execution_count": 19,
   "id": "382331cd-2fcc-45f2-bc8b-d5d6738cb146",
   "metadata": {},
   "outputs": [],
   "source": [
    "def convert_date(date):\n",
    "    try:\n",
    "        return dt.datetime.strptime(date, \"%b %d, %Y\")\n",
    "    except:\n",
    "        return date\n",
    "    \n",
    "def valid_date(date):\n",
    "    if isinstance(date, dt.datetime):\n",
    "        return True\n",
    "    else:\n",
    "        return False"
   ]
  },
  {
   "cell_type": "code",
   "execution_count": 20,
   "id": "0cb7e5d9-c033-4f50-98f3-a9a2cae826cc",
   "metadata": {},
   "outputs": [
    {
     "name": "stderr",
     "output_type": "stream",
     "text": [
      "/var/folders/dv/7t_6tkbx07s6mfq_r5jxkp240000gp/T/ipykernel_28408/3659942068.py:1: SettingWithCopyWarning: \n",
      "A value is trying to be set on a copy of a slice from a DataFrame.\n",
      "Try using .loc[row_indexer,col_indexer] = value instead\n",
      "\n",
      "See the caveats in the documentation: https://pandas.pydata.org/pandas-docs/stable/user_guide/indexing.html#returning-a-view-versus-a-copy\n",
      "  app_df['release_date'] = app_df['release_date'].apply(convert_date)\n"
     ]
    }
   ],
   "source": [
    "app_df['release_date'] = app_df['release_date'].apply(convert_date)"
   ]
  },
  {
   "cell_type": "code",
   "execution_count": 30,
   "id": "b6efcf9e-8c54-4054-ab68-5b65834947a2",
   "metadata": {
    "collapsed": true,
    "jupyter": {
     "outputs_hidden": true
    },
    "tags": []
   },
   "outputs": [
    {
     "name": "stderr",
     "output_type": "stream",
     "text": [
      "/var/folders/dv/7t_6tkbx07s6mfq_r5jxkp240000gp/T/ipykernel_28408/1590340263.py:2: SettingWithCopyWarning: \n",
      "A value is trying to be set on a copy of a slice from a DataFrame.\n",
      "Try using .loc[row_indexer,col_indexer] = value instead\n",
      "\n",
      "See the caveats in the documentation: https://pandas.pydata.org/pandas-docs/stable/user_guide/indexing.html#returning-a-view-versus-a-copy\n",
      "  app_df['valid_date'] = app_df['release_date'].apply(valid_date)\n"
     ]
    }
   ],
   "source": [
    "# add a validate column\n",
    "app_df['valid_date'] = app_df['release_date'].apply(valid_date)"
   ]
  },
  {
   "cell_type": "markdown",
   "id": "20c4955e-67b7-40ef-9bc1-f38a37f413e7",
   "metadata": {},
   "source": [
    "### Developer"
   ]
  },
  {
   "cell_type": "raw",
   "id": "0b00a65e-d43f-4c81-8eed-8a867bccb711",
   "metadata": {},
   "source": [
    "No Cleaning done!"
   ]
  },
  {
   "cell_type": "markdown",
   "id": "a4c6eb51-6c29-456e-8c69-5a7b5844a23f",
   "metadata": {},
   "source": [
    "### Publisher"
   ]
  },
  {
   "cell_type": "code",
   "execution_count": null,
   "id": "edb71e12-b745-4e0a-b1f0-c7b9c8bbadf7",
   "metadata": {},
   "outputs": [],
   "source": [
    "### Publisher cleaning sub\n",
    "def clean_pub(x):\n",
    "    if ',' in str(x):\n",
    "        if x.split(',')[0] == x.split(',')[1]:\n",
    "            return x.split(',')[0] \n",
    "df['publisher'] = df['publisher'].apply(lambda x : clean_pub(x))"
   ]
  },
  {
   "cell_type": "markdown",
   "id": "262ff5c3-6d33-4cf1-a9ce-69a1058cf7ff",
   "metadata": {},
   "source": [
    "### Popular tags"
   ]
  },
  {
   "cell_type": "code",
   "execution_count": 27,
   "id": "2311cc61-4706-4ace-ad4c-d7108715cb1c",
   "metadata": {},
   "outputs": [
    {
     "data": {
      "text/html": [
       "<div>\n",
       "<style scoped>\n",
       "    .dataframe tbody tr th:only-of-type {\n",
       "        vertical-align: middle;\n",
       "    }\n",
       "\n",
       "    .dataframe tbody tr th {\n",
       "        vertical-align: top;\n",
       "    }\n",
       "\n",
       "    .dataframe thead th {\n",
       "        text-align: right;\n",
       "    }\n",
       "</style>\n",
       "<table border=\"1\" class=\"dataframe\">\n",
       "  <thead>\n",
       "    <tr style=\"text-align: right;\">\n",
       "      <th></th>\n",
       "      <th>tag</th>\n",
       "      <th>count</th>\n",
       "    </tr>\n",
       "  </thead>\n",
       "  <tbody>\n",
       "    <tr>\n",
       "      <th>50</th>\n",
       "      <td>Indie</td>\n",
       "      <td>23718</td>\n",
       "    </tr>\n",
       "    <tr>\n",
       "      <th>2</th>\n",
       "      <td>Action</td>\n",
       "      <td>16112</td>\n",
       "    </tr>\n",
       "    <tr>\n",
       "      <th>42</th>\n",
       "      <td>Adventure</td>\n",
       "      <td>13378</td>\n",
       "    </tr>\n",
       "    <tr>\n",
       "      <th>76</th>\n",
       "      <td>Casual</td>\n",
       "      <td>12969</td>\n",
       "    </tr>\n",
       "    <tr>\n",
       "      <th>31</th>\n",
       "      <td>Simulation</td>\n",
       "      <td>9273</td>\n",
       "    </tr>\n",
       "    <tr>\n",
       "      <th>...</th>\n",
       "      <td>...</td>\n",
       "      <td>...</td>\n",
       "    </tr>\n",
       "    <tr>\n",
       "      <th>362</th>\n",
       "      <td>ATV</td>\n",
       "      <td>3</td>\n",
       "    </tr>\n",
       "    <tr>\n",
       "      <th>369</th>\n",
       "      <td>Snowboarding</td>\n",
       "      <td>3</td>\n",
       "    </tr>\n",
       "    <tr>\n",
       "      <th>351</th>\n",
       "      <td>Snow</td>\n",
       "      <td>3</td>\n",
       "    </tr>\n",
       "    <tr>\n",
       "      <th>203</th>\n",
       "      <td>Asymmetric VR</td>\n",
       "      <td>3</td>\n",
       "    </tr>\n",
       "    <tr>\n",
       "      <th>370</th>\n",
       "      <td>Skiing</td>\n",
       "      <td>2</td>\n",
       "    </tr>\n",
       "  </tbody>\n",
       "</table>\n",
       "<p>377 rows × 2 columns</p>\n",
       "</div>"
      ],
      "text/plain": [
       "               tag  count\n",
       "50           Indie  23718\n",
       "2           Action  16112\n",
       "42       Adventure  13378\n",
       "76          Casual  12969\n",
       "31      Simulation   9273\n",
       "..             ...    ...\n",
       "362            ATV      3\n",
       "369   Snowboarding      3\n",
       "351           Snow      3\n",
       "203  Asymmetric VR      3\n",
       "370         Skiing      2\n",
       "\n",
       "[377 rows x 2 columns]"
      ]
     },
     "execution_count": 27,
     "metadata": {},
     "output_type": "execute_result"
    }
   ],
   "source": [
    "### creating a loop of all the different tags, calculating the occurences to select the top used.\n",
    "tags = {}\n",
    "for index, row in df.iterrows():\n",
    "    tags_list= str(row['popular_tags']).split(',')\n",
    "    for tag in tags_list:\n",
    "        if not tag in tags:\n",
    "            tags[tag] = 1\n",
    "        else:\n",
    "            tags[tag] += 1\n",
    "            \n",
    "            \n",
    "tags_df = pd.DataFrame(list(tags.items()),columns = ['tag','count'])\n",
    "tags_df.sort_values('count', ascending =False)"
   ]
  },
  {
   "cell_type": "markdown",
   "id": "f620e995-4f80-4dc2-9287-22afdc2a0e88",
   "metadata": {},
   "source": [
    "### Languages"
   ]
  },
  {
   "cell_type": "code",
   "execution_count": 26,
   "id": "3334e523-768f-412f-9bbc-dbfc4f22b6cb",
   "metadata": {},
   "outputs": [
    {
     "data": {
      "text/html": [
       "<div>\n",
       "<style scoped>\n",
       "    .dataframe tbody tr th:only-of-type {\n",
       "        vertical-align: middle;\n",
       "    }\n",
       "\n",
       "    .dataframe tbody tr th {\n",
       "        vertical-align: top;\n",
       "    }\n",
       "\n",
       "    .dataframe thead th {\n",
       "        text-align: right;\n",
       "    }\n",
       "</style>\n",
       "<table border=\"1\" class=\"dataframe\">\n",
       "  <thead>\n",
       "    <tr style=\"text-align: right;\">\n",
       "      <th></th>\n",
       "      <th>language</th>\n",
       "      <th>count</th>\n",
       "    </tr>\n",
       "  </thead>\n",
       "  <tbody>\n",
       "    <tr>\n",
       "      <th>0</th>\n",
       "      <td>English</td>\n",
       "      <td>40718</td>\n",
       "    </tr>\n",
       "    <tr>\n",
       "      <th>3</th>\n",
       "      <td>German</td>\n",
       "      <td>13053</td>\n",
       "    </tr>\n",
       "    <tr>\n",
       "      <th>1</th>\n",
       "      <td>French</td>\n",
       "      <td>12515</td>\n",
       "    </tr>\n",
       "    <tr>\n",
       "      <th>4</th>\n",
       "      <td>Spanish - Spain</td>\n",
       "      <td>11555</td>\n",
       "    </tr>\n",
       "    <tr>\n",
       "      <th>8</th>\n",
       "      <td>Russian</td>\n",
       "      <td>9724</td>\n",
       "    </tr>\n",
       "    <tr>\n",
       "      <th>...</th>\n",
       "      <td>...</td>\n",
       "      <td>...</td>\n",
       "    </tr>\n",
       "    <tr>\n",
       "      <th>59</th>\n",
       "      <td>#lang_#lang_spanish*#lang_full_audio</td>\n",
       "      <td>1</td>\n",
       "    </tr>\n",
       "    <tr>\n",
       "      <th>60</th>\n",
       "      <td>Slovakian</td>\n",
       "      <td>1</td>\n",
       "    </tr>\n",
       "    <tr>\n",
       "      <th>61</th>\n",
       "      <td>(all with full audio support)</td>\n",
       "      <td>1</td>\n",
       "    </tr>\n",
       "    <tr>\n",
       "      <th>63</th>\n",
       "      <td>#lang_german;</td>\n",
       "      <td>1</td>\n",
       "    </tr>\n",
       "    <tr>\n",
       "      <th>64</th>\n",
       "      <td>#lang_#lang_#lang_english**#lang_full_audio*#l...</td>\n",
       "      <td>1</td>\n",
       "    </tr>\n",
       "  </tbody>\n",
       "</table>\n",
       "<p>65 rows × 2 columns</p>\n",
       "</div>"
      ],
      "text/plain": [
       "                                             language  count\n",
       "0                                             English  40718\n",
       "3                                              German  13053\n",
       "1                                              French  12515\n",
       "4                                     Spanish - Spain  11555\n",
       "8                                             Russian   9724\n",
       "..                                                ...    ...\n",
       "59               #lang_#lang_spanish*#lang_full_audio      1\n",
       "60                                          Slovakian      1\n",
       "61                      (all with full audio support)      1\n",
       "63                                      #lang_german;      1\n",
       "64  #lang_#lang_#lang_english**#lang_full_audio*#l...      1\n",
       "\n",
       "[65 rows x 2 columns]"
      ]
     },
     "execution_count": 26,
     "metadata": {},
     "output_type": "execute_result"
    }
   ],
   "source": [
    "### creating a loop of all the different languages, calculating the occurences to select the top used.\n",
    "languages = {}\n",
    "for index, row in df.iterrows():\n",
    "    languages_list= str(row['languages']).split(',')\n",
    "    for language in languages_list:\n",
    "        if not language in languages:\n",
    "            languages[language] = 1\n",
    "        else:\n",
    "            languages[language] += 1\n",
    "\n",
    "languages_df = pd.DataFrame(list(languages.items()),columns = ['language','count'])\n",
    "languages_df.sort_values('count', ascending =False)"
   ]
  },
  {
   "cell_type": "markdown",
   "id": "cba13c9e-9274-4db4-b544-bc17d02a33b5",
   "metadata": {},
   "source": [
    "### Game details"
   ]
  },
  {
   "cell_type": "code",
   "execution_count": 32,
   "id": "79df334c-5788-4127-930c-f903aa0b3530",
   "metadata": {},
   "outputs": [
    {
     "data": {
      "text/html": [
       "<div>\n",
       "<style scoped>\n",
       "    .dataframe tbody tr th:only-of-type {\n",
       "        vertical-align: middle;\n",
       "    }\n",
       "\n",
       "    .dataframe tbody tr th {\n",
       "        vertical-align: top;\n",
       "    }\n",
       "\n",
       "    .dataframe thead th {\n",
       "        text-align: right;\n",
       "    }\n",
       "</style>\n",
       "<table border=\"1\" class=\"dataframe\">\n",
       "  <thead>\n",
       "    <tr style=\"text-align: right;\">\n",
       "      <th></th>\n",
       "      <th>game_details</th>\n",
       "      <th>count</th>\n",
       "    </tr>\n",
       "  </thead>\n",
       "  <tbody>\n",
       "    <tr>\n",
       "      <th>0</th>\n",
       "      <td>Single-player</td>\n",
       "      <td>36463</td>\n",
       "    </tr>\n",
       "    <tr>\n",
       "      <th>3</th>\n",
       "      <td>Steam Achievements</td>\n",
       "      <td>22045</td>\n",
       "    </tr>\n",
       "    <tr>\n",
       "      <th>14</th>\n",
       "      <td>Downloadable Content</td>\n",
       "      <td>14815</td>\n",
       "    </tr>\n",
       "    <tr>\n",
       "      <th>4</th>\n",
       "      <td>Steam Trading Cards</td>\n",
       "      <td>13219</td>\n",
       "    </tr>\n",
       "    <tr>\n",
       "      <th>6</th>\n",
       "      <td>Steam Cloud</td>\n",
       "      <td>13155</td>\n",
       "    </tr>\n",
       "    <tr>\n",
       "      <th>15</th>\n",
       "      <td>Full controller support</td>\n",
       "      <td>10012</td>\n",
       "    </tr>\n",
       "    <tr>\n",
       "      <th>1</th>\n",
       "      <td>Multi-player</td>\n",
       "      <td>9096</td>\n",
       "    </tr>\n",
       "    <tr>\n",
       "      <th>25</th>\n",
       "      <td>Profile Features Limited</td>\n",
       "      <td>8443</td>\n",
       "    </tr>\n",
       "    <tr>\n",
       "      <th>5</th>\n",
       "      <td>Partial Controller Support</td>\n",
       "      <td>7748</td>\n",
       "    </tr>\n",
       "    <tr>\n",
       "      <th>18</th>\n",
       "      <td>Steam Leaderboards</td>\n",
       "      <td>6801</td>\n",
       "    </tr>\n",
       "    <tr>\n",
       "      <th>2</th>\n",
       "      <td>Co-op</td>\n",
       "      <td>4865</td>\n",
       "    </tr>\n",
       "    <tr>\n",
       "      <th>7</th>\n",
       "      <td>Online Multi-Player</td>\n",
       "      <td>4522</td>\n",
       "    </tr>\n",
       "    <tr>\n",
       "      <th>17</th>\n",
       "      <td>Shared/Split Screen</td>\n",
       "      <td>4360</td>\n",
       "    </tr>\n",
       "    <tr>\n",
       "      <th>8</th>\n",
       "      <td>Stats</td>\n",
       "      <td>2953</td>\n",
       "    </tr>\n",
       "    <tr>\n",
       "      <th>9</th>\n",
       "      <td>Cross-Platform Multiplayer</td>\n",
       "      <td>2805</td>\n",
       "    </tr>\n",
       "    <tr>\n",
       "      <th>19</th>\n",
       "      <td>Local Multi-Player</td>\n",
       "      <td>2368</td>\n",
       "    </tr>\n",
       "    <tr>\n",
       "      <th>10</th>\n",
       "      <td>Steam Workshop</td>\n",
       "      <td>2329</td>\n",
       "    </tr>\n",
       "    <tr>\n",
       "      <th>29</th>\n",
       "      <td>Steam is learning about this game</td>\n",
       "      <td>2260</td>\n",
       "    </tr>\n",
       "    <tr>\n",
       "      <th>13</th>\n",
       "      <td>Online Co-op</td>\n",
       "      <td>2151</td>\n",
       "    </tr>\n",
       "    <tr>\n",
       "      <th>21</th>\n",
       "      <td>Includes level editor</td>\n",
       "      <td>1736</td>\n",
       "    </tr>\n",
       "    <tr>\n",
       "      <th>16</th>\n",
       "      <td>Local Co-op</td>\n",
       "      <td>1529</td>\n",
       "    </tr>\n",
       "    <tr>\n",
       "      <th>22</th>\n",
       "      <td>In-App Purchases</td>\n",
       "      <td>1492</td>\n",
       "    </tr>\n",
       "    <tr>\n",
       "      <th>20</th>\n",
       "      <td>Captions available</td>\n",
       "      <td>1275</td>\n",
       "    </tr>\n",
       "    <tr>\n",
       "      <th>12</th>\n",
       "      <td>MMO</td>\n",
       "      <td>886</td>\n",
       "    </tr>\n",
       "    <tr>\n",
       "      <th>27</th>\n",
       "      <td>nan</td>\n",
       "      <td>520</td>\n",
       "    </tr>\n",
       "    <tr>\n",
       "      <th>11</th>\n",
       "      <td>Valve Anti-Cheat enabled</td>\n",
       "      <td>388</td>\n",
       "    </tr>\n",
       "    <tr>\n",
       "      <th>24</th>\n",
       "      <td>Commentary available</td>\n",
       "      <td>246</td>\n",
       "    </tr>\n",
       "    <tr>\n",
       "      <th>32</th>\n",
       "      <td>Game demo</td>\n",
       "      <td>235</td>\n",
       "    </tr>\n",
       "    <tr>\n",
       "      <th>34</th>\n",
       "      <td>Steam is learning about this downloadable content</td>\n",
       "      <td>218</td>\n",
       "    </tr>\n",
       "    <tr>\n",
       "      <th>28</th>\n",
       "      <td>Steam Turn Notifications</td>\n",
       "      <td>116</td>\n",
       "    </tr>\n",
       "    <tr>\n",
       "      <th>23</th>\n",
       "      <td>Includes Source SDK</td>\n",
       "      <td>71</td>\n",
       "    </tr>\n",
       "    <tr>\n",
       "      <th>26</th>\n",
       "      <td>SteamVR Collectibles</td>\n",
       "      <td>55</td>\n",
       "    </tr>\n",
       "    <tr>\n",
       "      <th>30</th>\n",
       "      <td>Steam is learning about this software</td>\n",
       "      <td>35</td>\n",
       "    </tr>\n",
       "    <tr>\n",
       "      <th>31</th>\n",
       "      <td>Mods</td>\n",
       "      <td>9</td>\n",
       "    </tr>\n",
       "    <tr>\n",
       "      <th>33</th>\n",
       "      <td>Mods (require HL2)</td>\n",
       "      <td>7</td>\n",
       "    </tr>\n",
       "  </tbody>\n",
       "</table>\n",
       "</div>"
      ],
      "text/plain": [
       "                                         game_details  count\n",
       "0                                       Single-player  36463\n",
       "3                                  Steam Achievements  22045\n",
       "14                               Downloadable Content  14815\n",
       "4                                 Steam Trading Cards  13219\n",
       "6                                         Steam Cloud  13155\n",
       "15                            Full controller support  10012\n",
       "1                                        Multi-player   9096\n",
       "25                           Profile Features Limited   8443\n",
       "5                          Partial Controller Support   7748\n",
       "18                                 Steam Leaderboards   6801\n",
       "2                                               Co-op   4865\n",
       "7                                 Online Multi-Player   4522\n",
       "17                                Shared/Split Screen   4360\n",
       "8                                               Stats   2953\n",
       "9                          Cross-Platform Multiplayer   2805\n",
       "19                                 Local Multi-Player   2368\n",
       "10                                     Steam Workshop   2329\n",
       "29                  Steam is learning about this game   2260\n",
       "13                                       Online Co-op   2151\n",
       "21                              Includes level editor   1736\n",
       "16                                        Local Co-op   1529\n",
       "22                                   In-App Purchases   1492\n",
       "20                                 Captions available   1275\n",
       "12                                                MMO    886\n",
       "27                                                nan    520\n",
       "11                           Valve Anti-Cheat enabled    388\n",
       "24                               Commentary available    246\n",
       "32                                          Game demo    235\n",
       "34  Steam is learning about this downloadable content    218\n",
       "28                           Steam Turn Notifications    116\n",
       "23                                Includes Source SDK     71\n",
       "26                               SteamVR Collectibles     55\n",
       "30              Steam is learning about this software     35\n",
       "31                                               Mods      9\n",
       "33                                 Mods (require HL2)      7"
      ]
     },
     "execution_count": 32,
     "metadata": {},
     "output_type": "execute_result"
    }
   ],
   "source": [
    "### creating a loop of all the different details, calculating the occurences to select the top used.\n",
    "details = {}\n",
    "# Stripping game details\n",
    "df.game_details = df.game_details.str.strip()\n",
    "for index, row in df.iterrows():\n",
    "    details_list= str(row['game_details']).split(',')\n",
    "    for detail in details_list:\n",
    "        if not detail in details:\n",
    "            details[detail] = 1\n",
    "        else:\n",
    "            details[detail] += 1\n",
    "\n",
    "details_df = pd.DataFrame(list(details.items()),columns = ['game_details','count'])\n",
    "details_df.sort_values('count', ascending =False)"
   ]
  },
  {
   "cell_type": "markdown",
   "id": "aa860998-a315-4294-a2ce-6b273b43d95e",
   "metadata": {},
   "source": [
    "### Achievements"
   ]
  },
  {
   "cell_type": "code",
   "execution_count": 36,
   "id": "449a6332-be93-499d-a2f8-56615bd6f509",
   "metadata": {},
   "outputs": [],
   "source": [
    "#categorization - adding a column for achievement cat\n",
    "for i in df.index:\n",
    "    df.at[i, 'achievement_cat'] = 0 if math.isnan(df.loc[i]['achievements']) == True else 1"
   ]
  },
  {
   "cell_type": "markdown",
   "id": "22e749b6-fe25-404e-b75f-c923866c6ed5",
   "metadata": {},
   "source": [
    "# Scraping Columns"
   ]
  },
  {
   "cell_type": "markdown",
   "id": "3bc9eafc-9207-4a73-b034-8977b0c93a29",
   "metadata": {},
   "source": [
    "### Names"
   ]
  },
  {
   "cell_type": "code",
   "execution_count": 37,
   "id": "333e76be-1a3b-438c-8fda-223d84903ccd",
   "metadata": {},
   "outputs": [],
   "source": [
    "def get_name(url):\n",
    "    response = requests.get(url).text\n",
    "    soup = BeautifulSoup(response, \"html.parser\")\n",
    "    try: \n",
    "        return soup.find('h2', class_='pageheader').text.strip()\n",
    "    except AttributeError:\n",
    "        try:\n",
    "            return soup.find('div', class_='apphub_AppName').text.strip()\n",
    "        except AttributeError:\n",
    "            return float('nan')"
   ]
  },
  {
   "cell_type": "code",
   "execution_count": 9,
   "id": "3f56afe5-e116-4f20-b2a6-a8b92843035f",
   "metadata": {},
   "outputs": [
    {
     "ename": "NameError",
     "evalue": "name 'get_name' is not defined",
     "output_type": "error",
     "traceback": [
      "\u001b[0;31m---------------------------------------------------------------------------\u001b[0m",
      "\u001b[0;31mNameError\u001b[0m                                 Traceback (most recent call last)",
      "Input \u001b[0;32mIn [9]\u001b[0m, in \u001b[0;36m<cell line: 1>\u001b[0;34m()\u001b[0m\n\u001b[1;32m      1\u001b[0m \u001b[38;5;28;01mfor\u001b[39;00m index \u001b[38;5;129;01min\u001b[39;00m app_df[app_df[\u001b[38;5;124m'\u001b[39m\u001b[38;5;124mname\u001b[39m\u001b[38;5;124m'\u001b[39m]\u001b[38;5;241m.\u001b[39misnull()]\u001b[38;5;241m.\u001b[39mindex:\n\u001b[0;32m----> 2\u001b[0m     app_df\u001b[38;5;241m.\u001b[39mloc[index, \u001b[38;5;124m'\u001b[39m\u001b[38;5;124mname\u001b[39m\u001b[38;5;124m'\u001b[39m] \u001b[38;5;241m=\u001b[39m \u001b[43mget_name\u001b[49m(app_df\u001b[38;5;241m.\u001b[39mloc[index, \u001b[38;5;124m'\u001b[39m\u001b[38;5;124murl\u001b[39m\u001b[38;5;124m'\u001b[39m])\n",
      "\u001b[0;31mNameError\u001b[0m: name 'get_name' is not defined"
     ]
    }
   ],
   "source": [
    "for index in app_df[app_df['name'].isnull()].index:\n",
    "    app_df.loc[index, 'name'] = get_name(app_df.loc[index, 'url'])"
   ]
  },
  {
   "cell_type": "markdown",
   "id": "25d869cb-49e7-4148-b24a-d71f7fddcc68",
   "metadata": {},
   "source": [
    "### Reviews"
   ]
  },
  {
   "cell_type": "code",
   "execution_count": null,
   "id": "34acbb20-b16b-4045-b006-c25e9c2f82ea",
   "metadata": {},
   "outputs": [],
   "source": [
    "def get_review(url):\n",
    "    response = requests.get(url).text\n",
    "    soup = BeautifulSoup(response, \"html.parser\")\n",
    "    try: \n",
    "        return soup.find('span', class_='game_review_summary').text.strip()\n",
    "    except AttributeError:\n",
    "        return float('nan')"
   ]
  },
  {
   "cell_type": "code",
   "execution_count": null,
   "id": "8001b715-dd9c-433b-ba2c-dcea939b6764",
   "metadata": {},
   "outputs": [],
   "source": [
    "for index in app_df[app_df['all_reviews'].isnull()].index:\n",
    "    app_df.loc[index, 'all_reviews'] = get_review(app_df.loc[index, 'url'])"
   ]
  },
  {
   "cell_type": "markdown",
   "id": "a08b3513-ea43-413f-b96c-2adcf2e88126",
   "metadata": {},
   "source": [
    "### Dates"
   ]
  },
  {
   "cell_type": "code",
   "execution_count": 12,
   "id": "3a4c9f6b-c2f5-4fda-9ca7-61c7ed3506a8",
   "metadata": {},
   "outputs": [],
   "source": [
    "def get_date(url):\n",
    "    response = requests.get(url).text\n",
    "    soup = BeautifulSoup(response, \"html.parser\")\n",
    "    try: \n",
    "        return soup.find('div', class_='date').text.strip()\n",
    "    except AttributeError:\n",
    "        return float('nan')"
   ]
  },
  {
   "cell_type": "code",
   "execution_count": null,
   "id": "a5855c4f-e0a7-4bd6-bbbb-b16528b65c2a",
   "metadata": {},
   "outputs": [],
   "source": [
    "for index in app_df[app_df['release_date'].isnull()].index:\n",
    "    app_df.loc[index, 'release_date'] = get_date(app_df.loc[index, 'url'])"
   ]
  },
  {
   "cell_type": "markdown",
   "id": "1f70009d-6708-417a-b756-c8bfef2fda69",
   "metadata": {},
   "source": [
    "### Developer"
   ]
  },
  {
   "cell_type": "code",
   "execution_count": null,
   "id": "3ce9fe7e-e454-4ba6-a4ab-fc160434ebd7",
   "metadata": {},
   "outputs": [],
   "source": [
    "def get_dev(url):\n",
    "    response = requests.get(url).text\n",
    "    soup = BeautifulSoup(response, \"html.parser\")\n",
    "    try: \n",
    "        return soup.find('div', id='developers_list').text.strip().split(',')[0]\n",
    "    except:\n",
    "        return float('nan')"
   ]
  },
  {
   "cell_type": "code",
   "execution_count": null,
   "id": "97109d0c-3de0-447b-b44e-3a343dc2b859",
   "metadata": {},
   "outputs": [],
   "source": [
    "temp = df_app[app_df['developer'].isnull() == True]\n",
    "for index in temp.index:\n",
    "    app_df.loc[index, 'developer'] = get_dev(app_df.loc[index, 'url'])\n",
    "    print(index)"
   ]
  },
  {
   "cell_type": "markdown",
   "id": "627d3b6f-a250-4f5b-9d8f-0c7a55115fb0",
   "metadata": {},
   "source": [
    "### Publisher"
   ]
  },
  {
   "cell_type": "code",
   "execution_count": 38,
   "id": "1559ca33-32bc-45ad-8258-6236c5fc5235",
   "metadata": {},
   "outputs": [],
   "source": [
    "def get_pub(url):\n",
    "    response = requests.get(url).text\n",
    "    soup = BeautifulSoup(response, \"html.parser\")\n",
    "    try: \n",
    "        return soup.find_all('div', class_='summary column')[3].find('a').string.strip().split(',')[0]\n",
    "    except:\n",
    "        return float('nan')"
   ]
  },
  {
   "cell_type": "code",
   "execution_count": null,
   "id": "299c29fe-f544-4c01-b58b-099b676dc31a",
   "metadata": {},
   "outputs": [],
   "source": [
    "temp = df_app[df_app['publisher'].isnull() == True]\n",
    "for index in temp.index:\n",
    "    df_app.loc[index, 'publisher'] = get_pub(df_app.loc[index, 'url'])"
   ]
  },
  {
   "cell_type": "markdown",
   "id": "7271ae97-8850-4965-9dbf-354e44d49ea9",
   "metadata": {},
   "source": [
    "### Popular Tags"
   ]
  },
  {
   "cell_type": "code",
   "execution_count": 23,
   "id": "10225252-2f35-472b-ba3d-74a6307b453c",
   "metadata": {},
   "outputs": [],
   "source": [
    "def get_tags(url):\n",
    "    response = requests.get(url).text\n",
    "    soup = BeautifulSoup(response, \"html.parser\")\n",
    "    try: \n",
    "        return ','.join([tag.text.strip() for tag in soup.find_all('a', class_='app_tag')])\n",
    "    except:\n",
    "        return float('nan')"
   ]
  },
  {
   "cell_type": "code",
   "execution_count": null,
   "id": "d82230ed-2ce7-4ef6-83ee-43b6bdb8c975",
   "metadata": {},
   "outputs": [],
   "source": [
    "temp = app_df[app_df['popular_tags'].isnull() == True]\n",
    "for index in temp.index:\n",
    "    app_df.loc[index, 'popular_tags'] = get_tags(app_df.loc[index, 'url'])\n",
    "app_df['popular_tags'] = app_df['popular_tags'].replace('', float('nan'))"
   ]
  },
  {
   "cell_type": "markdown",
   "id": "6e07d217-0e7f-4e9c-8bf9-192c2c81d38a",
   "metadata": {},
   "source": [
    "### Game Details"
   ]
  },
  {
   "cell_type": "code",
   "execution_count": 39,
   "id": "280b5e81-4d38-4197-a716-4b142cbe675a",
   "metadata": {},
   "outputs": [],
   "source": [
    "def get_det(url):\n",
    "    response = requests.get(url).text\n",
    "    soup = BeautifulSoup(response, \"html.parser\")\n",
    "    try: \n",
    "        return ','.join([tag.text.strip() for tag in soup.find_all('div', class_='label')])\n",
    "       # return soup.find_all('div', class_='label')\n",
    "    except:\n",
    "        return float('nan')"
   ]
  },
  {
   "cell_type": "code",
   "execution_count": null,
   "id": "61905e44-ad83-4e98-b5be-6ac252083b5d",
   "metadata": {},
   "outputs": [],
   "source": [
    "temp = df_app[df_app['game_details'].isnull() == True]\n",
    "for index in temp.index:\n",
    "    app_df.loc[index, 'game_details'] = get_tags(app_df.loc[index, 'url'])\n",
    "app_df['game_details'] = app_df['game_details'].replace('', float('nan'))"
   ]
  },
  {
   "cell_type": "markdown",
   "id": "6eae07b3-2dd1-4f1e-b7ec-a5054182c81d",
   "metadata": {},
   "source": [
    "# Encoding columns"
   ]
  },
  {
   "cell_type": "markdown",
   "id": "0184a1a0-9733-411b-a220-a910b20fe2c3",
   "metadata": {},
   "source": [
    "### Publisher"
   ]
  },
  {
   "cell_type": "code",
   "execution_count": 4,
   "id": "197bb086-d1e6-48c2-9608-70c0c662a68e",
   "metadata": {},
   "outputs": [],
   "source": [
    "#### Replacing missing publisher by developer - add inplace = True\n",
    "#df.publisher = df.publisher.fillna(df.developer)"
   ]
  },
  {
   "cell_type": "code",
   "execution_count": null,
   "id": "1d684289-5803-48d4-834f-40de9cb4c785",
   "metadata": {},
   "outputs": [],
   "source": []
  }
 ],
 "metadata": {
  "kernelspec": {
   "display_name": "Python 3 (ipykernel)",
   "language": "python",
   "name": "python3"
  },
  "language_info": {
   "codemirror_mode": {
    "name": "ipython",
    "version": 3
   },
   "file_extension": ".py",
   "mimetype": "text/x-python",
   "name": "python",
   "nbconvert_exporter": "python",
   "pygments_lexer": "ipython3",
   "version": "3.8.12"
  }
 },
 "nbformat": 4,
 "nbformat_minor": 5
}
