{
 "cells": [
  {
   "cell_type": "code",
   "execution_count": 47,
   "id": "7eb5e0fb-0910-452d-b255-7837323d9873",
   "metadata": {},
   "outputs": [
    {
     "name": "stdout",
     "output_type": "stream",
     "text": [
      "The autoreload extension is already loaded. To reload it, use:\n",
      "  %reload_ext autoreload\n"
     ]
    }
   ],
   "source": [
    "import numpy as np # import for math and array operations\n",
    "import pandas as pd # import for dataframe handle\n",
    "import matplotlib.pyplot as plt # import for visual representation\n",
    "import seaborn as sns # import for visual representation\n",
    "import math\n",
    "from bs4 import BeautifulSoup\n",
    "import requests\n",
    "import datetime as dt\n",
    "\n",
    "%load_ext autoreload\n",
    "%autoreload 2"
   ]
  },
  {
   "cell_type": "code",
   "execution_count": 48,
   "id": "2b9d978e-6310-477d-8b94-26acbe07c3e1",
   "metadata": {},
   "outputs": [],
   "source": [
    "df = pd.read_csv('../raw_data/steam_games.csv')"
   ]
  },
  {
   "cell_type": "markdown",
   "id": "aa761375-d3e5-4dd1-9f0c-1dd798d6da67",
   "metadata": {},
   "source": [
    "# Cleaning columns"
   ]
  },
  {
   "cell_type": "markdown",
   "id": "9c7dd4fd-d83b-4444-8087-8a6a170c7cd5",
   "metadata": {},
   "source": [
    "### URL"
   ]
  },
  {
   "cell_type": "raw",
   "id": "240ad662-1929-4d1c-be05-4437725cb496",
   "metadata": {},
   "source": [
    "No Cleaning done!"
   ]
  },
  {
   "cell_type": "markdown",
   "id": "8bc9b6ad-18ae-4770-9b8c-224d0993ed71",
   "metadata": {},
   "source": [
    "### Types"
   ]
  },
  {
   "cell_type": "raw",
   "id": "caedd8ef-e484-4f25-9d45-7f8446bd864a",
   "metadata": {},
   "source": [
    "Dropping lines that are not games and keeping only app"
   ]
  },
  {
   "cell_type": "code",
   "execution_count": 49,
   "id": "3669eaf9-8d5e-495a-bf9b-aa8ee7556fbf",
   "metadata": {},
   "outputs": [],
   "source": [
    "new_df = df.copy().dropna(subset=['types'])\n",
    "app_df = new_df[new_df['types'] == 'app']"
   ]
  },
  {
   "cell_type": "markdown",
   "id": "4c740975-d0fb-4944-b4b4-8979216be556",
   "metadata": {},
   "source": [
    "### Names"
   ]
  },
  {
   "cell_type": "raw",
   "id": "5a94440c-51a2-4339-9878-e2172f82b26a",
   "metadata": {},
   "source": [
    "No Cleaning done!"
   ]
  },
  {
   "cell_type": "markdown",
   "id": "a2563545-2880-4d2e-aab7-85b2608c0988",
   "metadata": {},
   "source": [
    "### Desc_snippet"
   ]
  },
  {
   "cell_type": "code",
   "execution_count": 50,
   "id": "51f469bf-c9d8-4234-95df-2c7989b09ea9",
   "metadata": {},
   "outputs": [],
   "source": [
    "# Complete desc_snippet with game_description\n",
    "for index in app_df['desc_snippet'].index:\n",
    "    app_df.loc[index, 'desc_snippet'] = app_df.loc[index, 'game_description']"
   ]
  },
  {
   "cell_type": "markdown",
   "id": "712767a3-a609-4305-a940-9cebbe64708f",
   "metadata": {},
   "source": [
    "### Reviews"
   ]
  },
  {
   "cell_type": "code",
   "execution_count": 76,
   "id": "dceefd11-aba1-42cb-8d76-a6fed98a5a9d",
   "metadata": {},
   "outputs": [],
   "source": [
    "def clean_review(review):\n",
    "    if '%' in str(review):\n",
    "        return review.split(',')[0]\n",
    "    else:\n",
    "        return float('nan')"
   ]
  },
  {
   "cell_type": "code",
   "execution_count": null,
   "id": "ae575d27-0625-427a-b7ac-db293312972e",
   "metadata": {},
   "outputs": [],
   "source": []
  },
  {
   "cell_type": "markdown",
   "id": "f89841f7-8c37-4a0b-a5e8-d5077b82595c",
   "metadata": {},
   "source": [
    "### Dates"
   ]
  },
  {
   "cell_type": "code",
   "execution_count": 52,
   "id": "382331cd-2fcc-45f2-bc8b-d5d6738cb146",
   "metadata": {},
   "outputs": [],
   "source": [
    "def convert_date(date):\n",
    "    try:\n",
    "        return dt.datetime.strptime(date, \"%b %d, %Y\")\n",
    "    except:\n",
    "        return date\n",
    "    \n",
    "def valid_date(date):\n",
    "    if isinstance(date, dt.datetime):\n",
    "        return True\n",
    "    else:\n",
    "        return False"
   ]
  },
  {
   "cell_type": "code",
   "execution_count": 53,
   "id": "0cb7e5d9-c033-4f50-98f3-a9a2cae826cc",
   "metadata": {},
   "outputs": [
    {
     "name": "stderr",
     "output_type": "stream",
     "text": [
      "/var/folders/dv/7t_6tkbx07s6mfq_r5jxkp240000gp/T/ipykernel_29419/3659942068.py:1: SettingWithCopyWarning: \n",
      "A value is trying to be set on a copy of a slice from a DataFrame.\n",
      "Try using .loc[row_indexer,col_indexer] = value instead\n",
      "\n",
      "See the caveats in the documentation: https://pandas.pydata.org/pandas-docs/stable/user_guide/indexing.html#returning-a-view-versus-a-copy\n",
      "  app_df['release_date'] = app_df['release_date'].apply(convert_date)\n"
     ]
    }
   ],
   "source": [
    "app_df['release_date'] = app_df['release_date'].apply(convert_date)"
   ]
  },
  {
   "cell_type": "code",
   "execution_count": 54,
   "id": "b6efcf9e-8c54-4054-ab68-5b65834947a2",
   "metadata": {
    "tags": []
   },
   "outputs": [
    {
     "name": "stderr",
     "output_type": "stream",
     "text": [
      "/var/folders/dv/7t_6tkbx07s6mfq_r5jxkp240000gp/T/ipykernel_29419/1590340263.py:2: SettingWithCopyWarning: \n",
      "A value is trying to be set on a copy of a slice from a DataFrame.\n",
      "Try using .loc[row_indexer,col_indexer] = value instead\n",
      "\n",
      "See the caveats in the documentation: https://pandas.pydata.org/pandas-docs/stable/user_guide/indexing.html#returning-a-view-versus-a-copy\n",
      "  app_df['valid_date'] = app_df['release_date'].apply(valid_date)\n"
     ]
    }
   ],
   "source": [
    "# add a validate column\n",
    "app_df['valid_date'] = app_df['release_date'].apply(valid_date)"
   ]
  },
  {
   "cell_type": "markdown",
   "id": "20c4955e-67b7-40ef-9bc1-f38a37f413e7",
   "metadata": {},
   "source": [
    "### Developer"
   ]
  },
  {
   "cell_type": "raw",
   "id": "0b00a65e-d43f-4c81-8eed-8a867bccb711",
   "metadata": {},
   "source": [
    "No Cleaning done!"
   ]
  },
  {
   "cell_type": "markdown",
   "id": "a4c6eb51-6c29-456e-8c69-5a7b5844a23f",
   "metadata": {},
   "source": [
    "### Publisher"
   ]
  },
  {
   "cell_type": "code",
   "execution_count": 55,
   "id": "edb71e12-b745-4e0a-b1f0-c7b9c8bbadf7",
   "metadata": {},
   "outputs": [
    {
     "name": "stderr",
     "output_type": "stream",
     "text": [
      "/var/folders/dv/7t_6tkbx07s6mfq_r5jxkp240000gp/T/ipykernel_29419/3629656861.py:7: SettingWithCopyWarning: \n",
      "A value is trying to be set on a copy of a slice from a DataFrame.\n",
      "Try using .loc[row_indexer,col_indexer] = value instead\n",
      "\n",
      "See the caveats in the documentation: https://pandas.pydata.org/pandas-docs/stable/user_guide/indexing.html#returning-a-view-versus-a-copy\n",
      "  app_df['publisher'] = app_df['publisher'].apply(lambda x : clean_pub(x))\n"
     ]
    }
   ],
   "source": [
    "### Publisher cleaning sub\n",
    "def clean_pub(x):\n",
    "    if ',' in str(x):\n",
    "        if x.split(',')[0] == x.split(',')[1]:\n",
    "            return x.split(',')[0] \n",
    "\n",
    "app_df['publisher'] = app_df['publisher'].apply(lambda x : clean_pub(x))"
   ]
  },
  {
   "cell_type": "code",
   "execution_count": 56,
   "id": "b1c584af-b006-4fca-9b2e-f76edae0a323",
   "metadata": {},
   "outputs": [
    {
     "name": "stderr",
     "output_type": "stream",
     "text": [
      "/var/folders/dv/7t_6tkbx07s6mfq_r5jxkp240000gp/T/ipykernel_29419/1628064062.py:2: SettingWithCopyWarning: \n",
      "A value is trying to be set on a copy of a slice from a DataFrame.\n",
      "Try using .loc[row_indexer,col_indexer] = value instead\n",
      "\n",
      "See the caveats in the documentation: https://pandas.pydata.org/pandas-docs/stable/user_guide/indexing.html#returning-a-view-versus-a-copy\n",
      "  app_df.publisher = app_df.publisher.fillna(app_df.developer)\n"
     ]
    }
   ],
   "source": [
    "#### Replacing missing publisher by developer - add inplace = True\n",
    "app_df.publisher = app_df.publisher.fillna(app_df.developer)"
   ]
  },
  {
   "cell_type": "markdown",
   "id": "262ff5c3-6d33-4cf1-a9ce-69a1058cf7ff",
   "metadata": {},
   "source": [
    "### Popular tags"
   ]
  },
  {
   "cell_type": "code",
   "execution_count": 57,
   "id": "2311cc61-4706-4ace-ad4c-d7108715cb1c",
   "metadata": {},
   "outputs": [
    {
     "data": {
      "text/html": [
       "<div>\n",
       "<style scoped>\n",
       "    .dataframe tbody tr th:only-of-type {\n",
       "        vertical-align: middle;\n",
       "    }\n",
       "\n",
       "    .dataframe tbody tr th {\n",
       "        vertical-align: top;\n",
       "    }\n",
       "\n",
       "    .dataframe thead th {\n",
       "        text-align: right;\n",
       "    }\n",
       "</style>\n",
       "<table border=\"1\" class=\"dataframe\">\n",
       "  <thead>\n",
       "    <tr style=\"text-align: right;\">\n",
       "      <th></th>\n",
       "      <th>tag</th>\n",
       "      <th>count</th>\n",
       "    </tr>\n",
       "  </thead>\n",
       "  <tbody>\n",
       "    <tr>\n",
       "      <th>50</th>\n",
       "      <td>Indie</td>\n",
       "      <td>23718</td>\n",
       "    </tr>\n",
       "    <tr>\n",
       "      <th>2</th>\n",
       "      <td>Action</td>\n",
       "      <td>16112</td>\n",
       "    </tr>\n",
       "    <tr>\n",
       "      <th>42</th>\n",
       "      <td>Adventure</td>\n",
       "      <td>13378</td>\n",
       "    </tr>\n",
       "    <tr>\n",
       "      <th>75</th>\n",
       "      <td>Casual</td>\n",
       "      <td>12969</td>\n",
       "    </tr>\n",
       "    <tr>\n",
       "      <th>31</th>\n",
       "      <td>Simulation</td>\n",
       "      <td>9273</td>\n",
       "    </tr>\n",
       "    <tr>\n",
       "      <th>...</th>\n",
       "      <td>...</td>\n",
       "      <td>...</td>\n",
       "    </tr>\n",
       "    <tr>\n",
       "      <th>369</th>\n",
       "      <td>Snowboarding</td>\n",
       "      <td>3</td>\n",
       "    </tr>\n",
       "    <tr>\n",
       "      <th>364</th>\n",
       "      <td>BMX</td>\n",
       "      <td>3</td>\n",
       "    </tr>\n",
       "    <tr>\n",
       "      <th>362</th>\n",
       "      <td>ATV</td>\n",
       "      <td>3</td>\n",
       "    </tr>\n",
       "    <tr>\n",
       "      <th>202</th>\n",
       "      <td>Asymmetric VR</td>\n",
       "      <td>3</td>\n",
       "    </tr>\n",
       "    <tr>\n",
       "      <th>370</th>\n",
       "      <td>Skiing</td>\n",
       "      <td>2</td>\n",
       "    </tr>\n",
       "  </tbody>\n",
       "</table>\n",
       "<p>377 rows × 2 columns</p>\n",
       "</div>"
      ],
      "text/plain": [
       "               tag  count\n",
       "50           Indie  23718\n",
       "2           Action  16112\n",
       "42       Adventure  13378\n",
       "75          Casual  12969\n",
       "31      Simulation   9273\n",
       "..             ...    ...\n",
       "369   Snowboarding      3\n",
       "364            BMX      3\n",
       "362            ATV      3\n",
       "202  Asymmetric VR      3\n",
       "370         Skiing      2\n",
       "\n",
       "[377 rows x 2 columns]"
      ]
     },
     "execution_count": 57,
     "metadata": {},
     "output_type": "execute_result"
    }
   ],
   "source": [
    "### creating a loop of all the different tags, calculating the occurences to select the top used.\n",
    "tags = {}\n",
    "for index, row in app_df.iterrows():\n",
    "    tags_list= str(row['popular_tags']).split(',')\n",
    "    for tag in tags_list:\n",
    "        if not tag in tags:\n",
    "            tags[tag] = 1\n",
    "        else:\n",
    "            tags[tag] += 1\n",
    "            \n",
    "            \n",
    "tags_df = pd.DataFrame(list(tags.items()),columns = ['tag','count'])\n",
    "tags_df.sort_values('count', ascending =False)"
   ]
  },
  {
   "cell_type": "markdown",
   "id": "f620e995-4f80-4dc2-9287-22afdc2a0e88",
   "metadata": {},
   "source": [
    "### Languages"
   ]
  },
  {
   "cell_type": "code",
   "execution_count": 58,
   "id": "3334e523-768f-412f-9bbc-dbfc4f22b6cb",
   "metadata": {},
   "outputs": [
    {
     "data": {
      "text/html": [
       "<div>\n",
       "<style scoped>\n",
       "    .dataframe tbody tr th:only-of-type {\n",
       "        vertical-align: middle;\n",
       "    }\n",
       "\n",
       "    .dataframe tbody tr th {\n",
       "        vertical-align: top;\n",
       "    }\n",
       "\n",
       "    .dataframe thead th {\n",
       "        text-align: right;\n",
       "    }\n",
       "</style>\n",
       "<table border=\"1\" class=\"dataframe\">\n",
       "  <thead>\n",
       "    <tr style=\"text-align: right;\">\n",
       "      <th></th>\n",
       "      <th>language</th>\n",
       "      <th>count</th>\n",
       "    </tr>\n",
       "  </thead>\n",
       "  <tbody>\n",
       "    <tr>\n",
       "      <th>0</th>\n",
       "      <td>English</td>\n",
       "      <td>38007</td>\n",
       "    </tr>\n",
       "    <tr>\n",
       "      <th>3</th>\n",
       "      <td>German</td>\n",
       "      <td>13050</td>\n",
       "    </tr>\n",
       "    <tr>\n",
       "      <th>1</th>\n",
       "      <td>French</td>\n",
       "      <td>12512</td>\n",
       "    </tr>\n",
       "    <tr>\n",
       "      <th>4</th>\n",
       "      <td>Spanish - Spain</td>\n",
       "      <td>11554</td>\n",
       "    </tr>\n",
       "    <tr>\n",
       "      <th>8</th>\n",
       "      <td>Russian</td>\n",
       "      <td>9716</td>\n",
       "    </tr>\n",
       "    <tr>\n",
       "      <th>2</th>\n",
       "      <td>Italian</td>\n",
       "      <td>9620</td>\n",
       "    </tr>\n",
       "    <tr>\n",
       "      <th>5</th>\n",
       "      <td>Japanese</td>\n",
       "      <td>8693</td>\n",
       "    </tr>\n",
       "    <tr>\n",
       "      <th>11</th>\n",
       "      <td>Simplified Chinese</td>\n",
       "      <td>7116</td>\n",
       "    </tr>\n",
       "    <tr>\n",
       "      <th>7</th>\n",
       "      <td>Portuguese - Brazil</td>\n",
       "      <td>5326</td>\n",
       "    </tr>\n",
       "    <tr>\n",
       "      <th>6</th>\n",
       "      <td>Polish</td>\n",
       "      <td>4935</td>\n",
       "    </tr>\n",
       "    <tr>\n",
       "      <th>10</th>\n",
       "      <td>Korean</td>\n",
       "      <td>4719</td>\n",
       "    </tr>\n",
       "    <tr>\n",
       "      <th>9</th>\n",
       "      <td>Traditional Chinese</td>\n",
       "      <td>4412</td>\n",
       "    </tr>\n",
       "    <tr>\n",
       "      <th>13</th>\n",
       "      <td>Portuguese</td>\n",
       "      <td>2504</td>\n",
       "    </tr>\n",
       "    <tr>\n",
       "      <th>19</th>\n",
       "      <td>Dutch</td>\n",
       "      <td>2463</td>\n",
       "    </tr>\n",
       "    <tr>\n",
       "      <th>17</th>\n",
       "      <td>Czech</td>\n",
       "      <td>2099</td>\n",
       "    </tr>\n",
       "    <tr>\n",
       "      <th>14</th>\n",
       "      <td>Turkish</td>\n",
       "      <td>2004</td>\n",
       "    </tr>\n",
       "    <tr>\n",
       "      <th>24</th>\n",
       "      <td>Swedish</td>\n",
       "      <td>1495</td>\n",
       "    </tr>\n",
       "    <tr>\n",
       "      <th>20</th>\n",
       "      <td>Hungarian</td>\n",
       "      <td>1380</td>\n",
       "    </tr>\n",
       "    <tr>\n",
       "      <th>12</th>\n",
       "      <td>Arabic</td>\n",
       "      <td>1282</td>\n",
       "    </tr>\n",
       "    <tr>\n",
       "      <th>21</th>\n",
       "      <td>Danish</td>\n",
       "      <td>1241</td>\n",
       "    </tr>\n",
       "    <tr>\n",
       "      <th>16</th>\n",
       "      <td>Ukrainian</td>\n",
       "      <td>1203</td>\n",
       "    </tr>\n",
       "    <tr>\n",
       "      <th>22</th>\n",
       "      <td>Finnish</td>\n",
       "      <td>1121</td>\n",
       "    </tr>\n",
       "    <tr>\n",
       "      <th>23</th>\n",
       "      <td>Norwegian</td>\n",
       "      <td>1114</td>\n",
       "    </tr>\n",
       "    <tr>\n",
       "      <th>15</th>\n",
       "      <td>Thai</td>\n",
       "      <td>977</td>\n",
       "    </tr>\n",
       "    <tr>\n",
       "      <th>27</th>\n",
       "      <td>Romanian</td>\n",
       "      <td>900</td>\n",
       "    </tr>\n",
       "    <tr>\n",
       "      <th>25</th>\n",
       "      <td>Greek</td>\n",
       "      <td>899</td>\n",
       "    </tr>\n",
       "    <tr>\n",
       "      <th>26</th>\n",
       "      <td>Bulgarian</td>\n",
       "      <td>804</td>\n",
       "    </tr>\n",
       "    <tr>\n",
       "      <th>18</th>\n",
       "      <td>Spanish - Latin America</td>\n",
       "      <td>714</td>\n",
       "    </tr>\n",
       "    <tr>\n",
       "      <th>29</th>\n",
       "      <td>Vietnamese</td>\n",
       "      <td>347</td>\n",
       "    </tr>\n",
       "    <tr>\n",
       "      <th>28</th>\n",
       "      <td>nan</td>\n",
       "      <td>14</td>\n",
       "    </tr>\n",
       "    <tr>\n",
       "      <th>33</th>\n",
       "      <td>#lang_german;</td>\n",
       "      <td>2</td>\n",
       "    </tr>\n",
       "    <tr>\n",
       "      <th>30</th>\n",
       "      <td>#lang_#lang_spanish*#lang_full_audio</td>\n",
       "      <td>1</td>\n",
       "    </tr>\n",
       "    <tr>\n",
       "      <th>31</th>\n",
       "      <td>Slovakian</td>\n",
       "      <td>1</td>\n",
       "    </tr>\n",
       "    <tr>\n",
       "      <th>32</th>\n",
       "      <td>(all with full audio support)</td>\n",
       "      <td>1</td>\n",
       "    </tr>\n",
       "    <tr>\n",
       "      <th>34</th>\n",
       "      <td>#lang_#lang_#lang_english**#lang_full_audio*#l...</td>\n",
       "      <td>1</td>\n",
       "    </tr>\n",
       "  </tbody>\n",
       "</table>\n",
       "</div>"
      ],
      "text/plain": [
       "                                             language  count\n",
       "0                                             English  38007\n",
       "3                                              German  13050\n",
       "1                                              French  12512\n",
       "4                                     Spanish - Spain  11554\n",
       "8                                             Russian   9716\n",
       "2                                             Italian   9620\n",
       "5                                            Japanese   8693\n",
       "11                                 Simplified Chinese   7116\n",
       "7                                 Portuguese - Brazil   5326\n",
       "6                                              Polish   4935\n",
       "10                                             Korean   4719\n",
       "9                                 Traditional Chinese   4412\n",
       "13                                         Portuguese   2504\n",
       "19                                              Dutch   2463\n",
       "17                                              Czech   2099\n",
       "14                                            Turkish   2004\n",
       "24                                            Swedish   1495\n",
       "20                                          Hungarian   1380\n",
       "12                                             Arabic   1282\n",
       "21                                             Danish   1241\n",
       "16                                          Ukrainian   1203\n",
       "22                                            Finnish   1121\n",
       "23                                          Norwegian   1114\n",
       "15                                               Thai    977\n",
       "27                                           Romanian    900\n",
       "25                                              Greek    899\n",
       "26                                          Bulgarian    804\n",
       "18                            Spanish - Latin America    714\n",
       "29                                         Vietnamese    347\n",
       "28                                                nan     14\n",
       "33                                      #lang_german;      2\n",
       "30               #lang_#lang_spanish*#lang_full_audio      1\n",
       "31                                          Slovakian      1\n",
       "32                      (all with full audio support)      1\n",
       "34  #lang_#lang_#lang_english**#lang_full_audio*#l...      1"
      ]
     },
     "execution_count": 58,
     "metadata": {},
     "output_type": "execute_result"
    }
   ],
   "source": [
    "### creating a loop of all the different languages, calculating the occurences to select the top used.\n",
    "languages = {}\n",
    "for index, row in app_df.iterrows():\n",
    "    languages_list= str(row['languages']).split(',')\n",
    "    for language in languages_list:\n",
    "        if not language in languages:\n",
    "            languages[language] = 1\n",
    "        else:\n",
    "            languages[language] += 1\n",
    "\n",
    "languages_df = pd.DataFrame(list(languages.items()),columns = ['language','count'])\n",
    "languages_df.sort_values('count', ascending =False)"
   ]
  },
  {
   "cell_type": "markdown",
   "id": "cba13c9e-9274-4db4-b544-bc17d02a33b5",
   "metadata": {},
   "source": [
    "### Game details"
   ]
  },
  {
   "cell_type": "code",
   "execution_count": 59,
   "id": "79df334c-5788-4127-930c-f903aa0b3530",
   "metadata": {},
   "outputs": [
    {
     "data": {
      "text/html": [
       "<div>\n",
       "<style scoped>\n",
       "    .dataframe tbody tr th:only-of-type {\n",
       "        vertical-align: middle;\n",
       "    }\n",
       "\n",
       "    .dataframe tbody tr th {\n",
       "        vertical-align: top;\n",
       "    }\n",
       "\n",
       "    .dataframe thead th {\n",
       "        text-align: right;\n",
       "    }\n",
       "</style>\n",
       "<table border=\"1\" class=\"dataframe\">\n",
       "  <thead>\n",
       "    <tr style=\"text-align: right;\">\n",
       "      <th></th>\n",
       "      <th>game_details</th>\n",
       "      <th>count</th>\n",
       "    </tr>\n",
       "  </thead>\n",
       "  <tbody>\n",
       "    <tr>\n",
       "      <th>0</th>\n",
       "      <td>Single-player</td>\n",
       "      <td>33797</td>\n",
       "    </tr>\n",
       "    <tr>\n",
       "      <th>3</th>\n",
       "      <td>Steam Achievements</td>\n",
       "      <td>19891</td>\n",
       "    </tr>\n",
       "    <tr>\n",
       "      <th>29</th>\n",
       "      <td>Downloadable Content</td>\n",
       "      <td>13169</td>\n",
       "    </tr>\n",
       "    <tr>\n",
       "      <th>6</th>\n",
       "      <td>Steam Cloud</td>\n",
       "      <td>11770</td>\n",
       "    </tr>\n",
       "    <tr>\n",
       "      <th>4</th>\n",
       "      <td>Steam Trading Cards</td>\n",
       "      <td>11587</td>\n",
       "    </tr>\n",
       "    <tr>\n",
       "      <th>14</th>\n",
       "      <td>Full controller support</td>\n",
       "      <td>8975</td>\n",
       "    </tr>\n",
       "    <tr>\n",
       "      <th>24</th>\n",
       "      <td>Profile Features Limited \\r\\n\\t\\t\\t\\t\\t\\t\\t\\t\\t</td>\n",
       "      <td>8443</td>\n",
       "    </tr>\n",
       "    <tr>\n",
       "      <th>1</th>\n",
       "      <td>Multi-player</td>\n",
       "      <td>8386</td>\n",
       "    </tr>\n",
       "    <tr>\n",
       "      <th>5</th>\n",
       "      <td>Partial Controller Support</td>\n",
       "      <td>7081</td>\n",
       "    </tr>\n",
       "    <tr>\n",
       "      <th>17</th>\n",
       "      <td>Steam Leaderboards</td>\n",
       "      <td>6142</td>\n",
       "    </tr>\n",
       "    <tr>\n",
       "      <th>2</th>\n",
       "      <td>Co-op</td>\n",
       "      <td>4462</td>\n",
       "    </tr>\n",
       "    <tr>\n",
       "      <th>7</th>\n",
       "      <td>Online Multi-Player</td>\n",
       "      <td>4152</td>\n",
       "    </tr>\n",
       "    <tr>\n",
       "      <th>16</th>\n",
       "      <td>Shared/Split Screen</td>\n",
       "      <td>4038</td>\n",
       "    </tr>\n",
       "    <tr>\n",
       "      <th>8</th>\n",
       "      <td>Stats</td>\n",
       "      <td>2615</td>\n",
       "    </tr>\n",
       "    <tr>\n",
       "      <th>9</th>\n",
       "      <td>Cross-Platform Multiplayer</td>\n",
       "      <td>2572</td>\n",
       "    </tr>\n",
       "    <tr>\n",
       "      <th>28</th>\n",
       "      <td>Steam is learning about this game \\r\\n\\t\\t\\t\\t...</td>\n",
       "      <td>2260</td>\n",
       "    </tr>\n",
       "    <tr>\n",
       "      <th>18</th>\n",
       "      <td>Local Multi-Player</td>\n",
       "      <td>2132</td>\n",
       "    </tr>\n",
       "    <tr>\n",
       "      <th>10</th>\n",
       "      <td>Steam Workshop</td>\n",
       "      <td>2007</td>\n",
       "    </tr>\n",
       "    <tr>\n",
       "      <th>13</th>\n",
       "      <td>Online Co-op</td>\n",
       "      <td>1942</td>\n",
       "    </tr>\n",
       "    <tr>\n",
       "      <th>20</th>\n",
       "      <td>Includes level editor</td>\n",
       "      <td>1473</td>\n",
       "    </tr>\n",
       "    <tr>\n",
       "      <th>21</th>\n",
       "      <td>In-App Purchases</td>\n",
       "      <td>1399</td>\n",
       "    </tr>\n",
       "    <tr>\n",
       "      <th>15</th>\n",
       "      <td>Local Co-op</td>\n",
       "      <td>1345</td>\n",
       "    </tr>\n",
       "    <tr>\n",
       "      <th>19</th>\n",
       "      <td>Captions available</td>\n",
       "      <td>1087</td>\n",
       "    </tr>\n",
       "    <tr>\n",
       "      <th>12</th>\n",
       "      <td>MMO</td>\n",
       "      <td>849</td>\n",
       "    </tr>\n",
       "    <tr>\n",
       "      <th>26</th>\n",
       "      <td>nan</td>\n",
       "      <td>475</td>\n",
       "    </tr>\n",
       "    <tr>\n",
       "      <th>11</th>\n",
       "      <td>Valve Anti-Cheat enabled</td>\n",
       "      <td>340</td>\n",
       "    </tr>\n",
       "    <tr>\n",
       "      <th>32</th>\n",
       "      <td>Game demo</td>\n",
       "      <td>234</td>\n",
       "    </tr>\n",
       "    <tr>\n",
       "      <th>34</th>\n",
       "      <td>Steam is learning about this downloadable cont...</td>\n",
       "      <td>218</td>\n",
       "    </tr>\n",
       "    <tr>\n",
       "      <th>23</th>\n",
       "      <td>Commentary available</td>\n",
       "      <td>208</td>\n",
       "    </tr>\n",
       "    <tr>\n",
       "      <th>27</th>\n",
       "      <td>Steam Turn Notifications</td>\n",
       "      <td>106</td>\n",
       "    </tr>\n",
       "    <tr>\n",
       "      <th>22</th>\n",
       "      <td>Includes Source SDK</td>\n",
       "      <td>60</td>\n",
       "    </tr>\n",
       "    <tr>\n",
       "      <th>25</th>\n",
       "      <td>SteamVR Collectibles</td>\n",
       "      <td>43</td>\n",
       "    </tr>\n",
       "    <tr>\n",
       "      <th>30</th>\n",
       "      <td>Steam is learning about this software \\r\\n\\t\\t...</td>\n",
       "      <td>35</td>\n",
       "    </tr>\n",
       "    <tr>\n",
       "      <th>31</th>\n",
       "      <td>Mods</td>\n",
       "      <td>9</td>\n",
       "    </tr>\n",
       "    <tr>\n",
       "      <th>33</th>\n",
       "      <td>Mods (require HL2)</td>\n",
       "      <td>7</td>\n",
       "    </tr>\n",
       "  </tbody>\n",
       "</table>\n",
       "</div>"
      ],
      "text/plain": [
       "                                         game_details  count\n",
       "0                                       Single-player  33797\n",
       "3                                  Steam Achievements  19891\n",
       "29                               Downloadable Content  13169\n",
       "6                                         Steam Cloud  11770\n",
       "4                                 Steam Trading Cards  11587\n",
       "14                            Full controller support   8975\n",
       "24    Profile Features Limited \\r\\n\\t\\t\\t\\t\\t\\t\\t\\t\\t   8443\n",
       "1                                        Multi-player   8386\n",
       "5                          Partial Controller Support   7081\n",
       "17                                 Steam Leaderboards   6142\n",
       "2                                               Co-op   4462\n",
       "7                                 Online Multi-Player   4152\n",
       "16                                Shared/Split Screen   4038\n",
       "8                                               Stats   2615\n",
       "9                          Cross-Platform Multiplayer   2572\n",
       "28  Steam is learning about this game \\r\\n\\t\\t\\t\\t...   2260\n",
       "18                                 Local Multi-Player   2132\n",
       "10                                     Steam Workshop   2007\n",
       "13                                       Online Co-op   1942\n",
       "20                              Includes level editor   1473\n",
       "21                                   In-App Purchases   1399\n",
       "15                                        Local Co-op   1345\n",
       "19                                 Captions available   1087\n",
       "12                                                MMO    849\n",
       "26                                                nan    475\n",
       "11                           Valve Anti-Cheat enabled    340\n",
       "32                                          Game demo    234\n",
       "34  Steam is learning about this downloadable cont...    218\n",
       "23                               Commentary available    208\n",
       "27                           Steam Turn Notifications    106\n",
       "22                                Includes Source SDK     60\n",
       "25                               SteamVR Collectibles     43\n",
       "30  Steam is learning about this software \\r\\n\\t\\t...     35\n",
       "31                                               Mods      9\n",
       "33                                 Mods (require HL2)      7"
      ]
     },
     "execution_count": 59,
     "metadata": {},
     "output_type": "execute_result"
    }
   ],
   "source": [
    "### creating a loop of all the different details, calculating the occurences to select the top used.\n",
    "details = {}\n",
    "# Stripping game details\n",
    "df.game_details = app_df.game_details.str.strip()\n",
    "for index, row in app_df.iterrows():\n",
    "    details_list= str(row['game_details']).split(',')\n",
    "    for detail in details_list:\n",
    "        if not detail in details:\n",
    "            details[detail] = 1\n",
    "        else:\n",
    "            details[detail] += 1\n",
    "\n",
    "details_df = pd.DataFrame(list(details.items()),columns = ['game_details','count'])\n",
    "details_df.sort_values('count', ascending =False)"
   ]
  },
  {
   "cell_type": "markdown",
   "id": "aa860998-a315-4294-a2ce-6b273b43d95e",
   "metadata": {},
   "source": [
    "### Achievements"
   ]
  },
  {
   "cell_type": "code",
   "execution_count": 60,
   "id": "449a6332-be93-499d-a2f8-56615bd6f509",
   "metadata": {},
   "outputs": [
    {
     "name": "stderr",
     "output_type": "stream",
     "text": [
      "/var/folders/dv/7t_6tkbx07s6mfq_r5jxkp240000gp/T/ipykernel_29419/1847830268.py:3: SettingWithCopyWarning: \n",
      "A value is trying to be set on a copy of a slice from a DataFrame.\n",
      "Try using .loc[row_indexer,col_indexer] = value instead\n",
      "\n",
      "See the caveats in the documentation: https://pandas.pydata.org/pandas-docs/stable/user_guide/indexing.html#returning-a-view-versus-a-copy\n",
      "  app_df.at[i, 'achievement_cat'] = 0 if math.isnan(app_df.loc[i]['achievements']) == True else 1\n"
     ]
    }
   ],
   "source": [
    "#categorization - adding a column for achievement cat\n",
    "for i in app_df.index:\n",
    "    app_df.at[i, 'achievement_cat'] = 0 if math.isnan(app_df.loc[i]['achievements']) == True else 1"
   ]
  },
  {
   "cell_type": "markdown",
   "id": "2f222fd6-b406-4913-8155-c284f67e62c3",
   "metadata": {},
   "source": [
    "### Genre"
   ]
  },
  {
   "cell_type": "code",
   "execution_count": 61,
   "id": "3cd0768c-95cd-475e-aedf-3135655635cc",
   "metadata": {},
   "outputs": [
    {
     "data": {
      "text/html": [
       "<div>\n",
       "<style scoped>\n",
       "    .dataframe tbody tr th:only-of-type {\n",
       "        vertical-align: middle;\n",
       "    }\n",
       "\n",
       "    .dataframe tbody tr th {\n",
       "        vertical-align: top;\n",
       "    }\n",
       "\n",
       "    .dataframe thead th {\n",
       "        text-align: right;\n",
       "    }\n",
       "</style>\n",
       "<table border=\"1\" class=\"dataframe\">\n",
       "  <thead>\n",
       "    <tr style=\"text-align: right;\">\n",
       "      <th></th>\n",
       "      <th>genre</th>\n",
       "      <th>count</th>\n",
       "    </tr>\n",
       "  </thead>\n",
       "  <tbody>\n",
       "    <tr>\n",
       "      <th>6</th>\n",
       "      <td>Indie</td>\n",
       "      <td>22868</td>\n",
       "    </tr>\n",
       "    <tr>\n",
       "      <th>0</th>\n",
       "      <td>Action</td>\n",
       "      <td>15265</td>\n",
       "    </tr>\n",
       "    <tr>\n",
       "      <th>10</th>\n",
       "      <td>Casual</td>\n",
       "      <td>12010</td>\n",
       "    </tr>\n",
       "    <tr>\n",
       "      <th>1</th>\n",
       "      <td>Adventure</td>\n",
       "      <td>11871</td>\n",
       "    </tr>\n",
       "    <tr>\n",
       "      <th>8</th>\n",
       "      <td>Simulation</td>\n",
       "      <td>8711</td>\n",
       "    </tr>\n",
       "    <tr>\n",
       "      <th>3</th>\n",
       "      <td>Strategy</td>\n",
       "      <td>7975</td>\n",
       "    </tr>\n",
       "    <tr>\n",
       "      <th>5</th>\n",
       "      <td>RPG</td>\n",
       "      <td>6962</td>\n",
       "    </tr>\n",
       "    <tr>\n",
       "      <th>7</th>\n",
       "      <td>Early Access</td>\n",
       "      <td>2818</td>\n",
       "    </tr>\n",
       "    <tr>\n",
       "      <th>4</th>\n",
       "      <td>Free to Play</td>\n",
       "      <td>2620</td>\n",
       "    </tr>\n",
       "    <tr>\n",
       "      <th>11</th>\n",
       "      <td>Sports</td>\n",
       "      <td>1725</td>\n",
       "    </tr>\n",
       "    <tr>\n",
       "      <th>9</th>\n",
       "      <td>Racing</td>\n",
       "      <td>1384</td>\n",
       "    </tr>\n",
       "    <tr>\n",
       "      <th>2</th>\n",
       "      <td>Massively Multiplayer</td>\n",
       "      <td>1277</td>\n",
       "    </tr>\n",
       "    <tr>\n",
       "      <th>15</th>\n",
       "      <td>Design &amp; Illustration</td>\n",
       "      <td>622</td>\n",
       "    </tr>\n",
       "    <tr>\n",
       "      <th>16</th>\n",
       "      <td>Utilities</td>\n",
       "      <td>454</td>\n",
       "    </tr>\n",
       "    <tr>\n",
       "      <th>20</th>\n",
       "      <td>Web Publishing</td>\n",
       "      <td>420</td>\n",
       "    </tr>\n",
       "    <tr>\n",
       "      <th>13</th>\n",
       "      <td>nan</td>\n",
       "      <td>396</td>\n",
       "    </tr>\n",
       "    <tr>\n",
       "      <th>14</th>\n",
       "      <td>Animation &amp; Modeling</td>\n",
       "      <td>241</td>\n",
       "    </tr>\n",
       "    <tr>\n",
       "      <th>18</th>\n",
       "      <td>Education</td>\n",
       "      <td>168</td>\n",
       "    </tr>\n",
       "    <tr>\n",
       "      <th>21</th>\n",
       "      <td>Video Production</td>\n",
       "      <td>150</td>\n",
       "    </tr>\n",
       "    <tr>\n",
       "      <th>22</th>\n",
       "      <td>Audio Production</td>\n",
       "      <td>125</td>\n",
       "    </tr>\n",
       "    <tr>\n",
       "      <th>19</th>\n",
       "      <td>Software Training</td>\n",
       "      <td>110</td>\n",
       "    </tr>\n",
       "    <tr>\n",
       "      <th>23</th>\n",
       "      <td>Photo Editing</td>\n",
       "      <td>67</td>\n",
       "    </tr>\n",
       "    <tr>\n",
       "      <th>17</th>\n",
       "      <td>Game Development</td>\n",
       "      <td>65</td>\n",
       "    </tr>\n",
       "    <tr>\n",
       "      <th>24</th>\n",
       "      <td>Accounting</td>\n",
       "      <td>8</td>\n",
       "    </tr>\n",
       "    <tr>\n",
       "      <th>12</th>\n",
       "      <td>Valve</td>\n",
       "      <td>4</td>\n",
       "    </tr>\n",
       "    <tr>\n",
       "      <th>25</th>\n",
       "      <td>Movie</td>\n",
       "      <td>1</td>\n",
       "    </tr>\n",
       "    <tr>\n",
       "      <th>26</th>\n",
       "      <td>HTC</td>\n",
       "      <td>1</td>\n",
       "    </tr>\n",
       "  </tbody>\n",
       "</table>\n",
       "</div>"
      ],
      "text/plain": [
       "                    genre  count\n",
       "6                   Indie  22868\n",
       "0                  Action  15265\n",
       "10                 Casual  12010\n",
       "1               Adventure  11871\n",
       "8              Simulation   8711\n",
       "3                Strategy   7975\n",
       "5                     RPG   6962\n",
       "7            Early Access   2818\n",
       "4            Free to Play   2620\n",
       "11                 Sports   1725\n",
       "9                  Racing   1384\n",
       "2   Massively Multiplayer   1277\n",
       "15  Design & Illustration    622\n",
       "16              Utilities    454\n",
       "20         Web Publishing    420\n",
       "13                    nan    396\n",
       "14   Animation & Modeling    241\n",
       "18              Education    168\n",
       "21       Video Production    150\n",
       "22       Audio Production    125\n",
       "19      Software Training    110\n",
       "23          Photo Editing     67\n",
       "17       Game Development     65\n",
       "24             Accounting      8\n",
       "12                  Valve      4\n",
       "25                  Movie      1\n",
       "26                    HTC      1"
      ]
     },
     "execution_count": 61,
     "metadata": {},
     "output_type": "execute_result"
    }
   ],
   "source": [
    "genre_dict = {}\n",
    "for index, row in app_df.iterrows():\n",
    "    genre_list= str(row['genre']).split(',')\n",
    "    for genre in genre_list:\n",
    "        if not genre in genre_dict:\n",
    "            genre_dict[genre] = 1\n",
    "        else:\n",
    "            genre_dict[genre] += 1\n",
    "genre_df = pd.DataFrame(list(genre_dict.items()),columns = ['genre','count'])\n",
    "genre_df.sort_values('count', ascending =False) "
   ]
  },
  {
   "cell_type": "markdown",
   "id": "183525d2-97d7-4415-bae3-74b8a8e655a3",
   "metadata": {},
   "source": [
    "### Game Desc"
   ]
  },
  {
   "cell_type": "code",
   "execution_count": 62,
   "id": "74cb9504-1d43-4916-9b3f-fd4ddf8d146e",
   "metadata": {},
   "outputs": [
    {
     "name": "stderr",
     "output_type": "stream",
     "text": [
      "/var/folders/dv/7t_6tkbx07s6mfq_r5jxkp240000gp/T/ipykernel_29419/1020820551.py:1: SettingWithCopyWarning: \n",
      "A value is trying to be set on a copy of a slice from a DataFrame.\n",
      "Try using .loc[row_indexer,col_indexer] = value instead\n",
      "\n",
      "See the caveats in the documentation: https://pandas.pydata.org/pandas-docs/stable/user_guide/indexing.html#returning-a-view-versus-a-copy\n",
      "  app_df['game_description']=app_df['game_description'].astype(str)\n"
     ]
    }
   ],
   "source": [
    "app_df['game_description']=app_df['game_description'].astype(str)"
   ]
  },
  {
   "cell_type": "code",
   "execution_count": 63,
   "id": "e94e617f-056d-44ad-b378-2f1191a5dcf0",
   "metadata": {},
   "outputs": [
    {
     "name": "stdout",
     "output_type": "stream",
     "text": [
      "<class 'pandas.core.frame.DataFrame'>\n",
      "Int64Index: 38021 entries, 0 to 40832\n",
      "Data columns (total 22 columns):\n",
      " #   Column                    Non-Null Count  Dtype  \n",
      "---  ------                    --------------  -----  \n",
      " 0   url                       38021 non-null  object \n",
      " 1   types                     38021 non-null  object \n",
      " 2   name                      38007 non-null  object \n",
      " 3   desc_snippet              37920 non-null  object \n",
      " 4   recent_reviews            2706 non-null   object \n",
      " 5   all_reviews               28470 non-null  object \n",
      " 6   release_date              37654 non-null  object \n",
      " 7   developer                 37721 non-null  object \n",
      " 8   publisher                 37779 non-null  object \n",
      " 9   popular_tags              37888 non-null  object \n",
      " 10  game_details              37546 non-null  object \n",
      " 11  languages                 38007 non-null  object \n",
      " 12  achievements              12194 non-null  float64\n",
      " 13  genre                     37625 non-null  object \n",
      " 14  game_description          38021 non-null  object \n",
      " 15  mature_content            2897 non-null   object \n",
      " 16  minimum_requirements      21069 non-null  object \n",
      " 17  recommended_requirements  21075 non-null  object \n",
      " 18  original_price            34999 non-null  object \n",
      " 19  discount_price            11746 non-null  object \n",
      " 20  valid_date                38021 non-null  bool   \n",
      " 21  achievement_cat           38021 non-null  float64\n",
      "dtypes: bool(1), float64(2), object(19)\n",
      "memory usage: 7.4+ MB\n"
     ]
    }
   ],
   "source": [
    "app_df.info()"
   ]
  },
  {
   "cell_type": "markdown",
   "id": "6f66973f-2984-4885-a81e-ff8b98e3f6b9",
   "metadata": {},
   "source": [
    "### Mature Content"
   ]
  },
  {
   "cell_type": "code",
   "execution_count": 64,
   "id": "72cfce1f-c014-4064-92b1-2e3f7afebcfe",
   "metadata": {},
   "outputs": [],
   "source": [
    "app_df=app_df.assign(mature_encoded=lambda x: x.mature_content.isna().replace((True,False),(0,1)))"
   ]
  },
  {
   "cell_type": "markdown",
   "id": "49e31d13-6d19-42a2-9e68-a908ea6b1ac4",
   "metadata": {},
   "source": [
    "### Prices"
   ]
  },
  {
   "cell_type": "code",
   "execution_count": 65,
   "id": "501d3a5b-fd51-487e-8880-40b958bc771d",
   "metadata": {},
   "outputs": [],
   "source": [
    "app_df=app_df.assign(price=lambda x: pd.to_numeric(x.original_price.str.strip('$'), errors='coerce').replace(np.nan, 0))"
   ]
  },
  {
   "cell_type": "markdown",
   "id": "83e5693e-f149-45e8-accb-2f8f68e3fa24",
   "metadata": {},
   "source": [
    "# Cleaning columns"
   ]
  },
  {
   "cell_type": "code",
   "execution_count": 74,
   "id": "5bfc1abe-ec4a-467e-8c45-4669fe3d918e",
   "metadata": {},
   "outputs": [],
   "source": [
    "clean_df = app_df.drop(['mature_content', 'achievements', 'recent_reviews', 'desc_snippet', 'original_price', 'discount_price'], axis = 1)"
   ]
  },
  {
   "cell_type": "code",
   "execution_count": 75,
   "id": "41bca5ea-0ffa-46eb-abfb-48cc7ab47b16",
   "metadata": {},
   "outputs": [
    {
     "name": "stdout",
     "output_type": "stream",
     "text": [
      "<class 'pandas.core.frame.DataFrame'>\n",
      "Int64Index: 38021 entries, 0 to 40832\n",
      "Data columns (total 18 columns):\n",
      " #   Column                    Non-Null Count  Dtype  \n",
      "---  ------                    --------------  -----  \n",
      " 0   url                       38021 non-null  object \n",
      " 1   types                     38021 non-null  object \n",
      " 2   name                      38017 non-null  object \n",
      " 3   all_reviews               28470 non-null  object \n",
      " 4   release_date              37654 non-null  object \n",
      " 5   developer                 37721 non-null  object \n",
      " 6   publisher                 37779 non-null  object \n",
      " 7   popular_tags              37888 non-null  object \n",
      " 8   game_details              37546 non-null  object \n",
      " 9   languages                 38007 non-null  object \n",
      " 10  genre                     37625 non-null  object \n",
      " 11  game_description          38021 non-null  object \n",
      " 12  minimum_requirements      21069 non-null  object \n",
      " 13  recommended_requirements  21075 non-null  object \n",
      " 14  valid_date                38021 non-null  bool   \n",
      " 15  achievement_cat           38021 non-null  float64\n",
      " 16  mature_encoded            38021 non-null  int64  \n",
      " 17  price                     38021 non-null  float64\n",
      "dtypes: bool(1), float64(2), int64(1), object(14)\n",
      "memory usage: 6.3+ MB\n"
     ]
    }
   ],
   "source": [
    "clean_df.info()"
   ]
  },
  {
   "cell_type": "markdown",
   "id": "22e749b6-fe25-404e-b75f-c923866c6ed5",
   "metadata": {},
   "source": [
    "# Scraping Columns"
   ]
  },
  {
   "cell_type": "markdown",
   "id": "3bc9eafc-9207-4a73-b034-8977b0c93a29",
   "metadata": {},
   "source": [
    "### Names"
   ]
  },
  {
   "cell_type": "code",
   "execution_count": 70,
   "id": "333e76be-1a3b-438c-8fda-223d84903ccd",
   "metadata": {},
   "outputs": [],
   "source": [
    "def get_name(url):\n",
    "    response = requests.get(url).text\n",
    "    soup = BeautifulSoup(response, \"html.parser\")\n",
    "    try: \n",
    "        return soup.find('h2', class_='pageheader').text.strip()\n",
    "    except AttributeError:\n",
    "        try:\n",
    "            return soup.find('div', class_='apphub_AppName').text.strip()\n",
    "        except AttributeError:\n",
    "            return float('nan')"
   ]
  },
  {
   "cell_type": "code",
   "execution_count": 71,
   "id": "3f56afe5-e116-4f20-b2a6-a8b92843035f",
   "metadata": {},
   "outputs": [],
   "source": [
    "for index in clean_df[clean_df['name'].isnull()].index:\n",
    "    clean_df.loc[index, 'name'] = get_name(clean_df.loc[index, 'url'])"
   ]
  },
  {
   "cell_type": "code",
   "execution_count": 73,
   "id": "6b16d8b7-710e-45d5-882b-88f426bd889b",
   "metadata": {},
   "outputs": [
    {
     "data": {
      "text/html": [
       "<div>\n",
       "<style scoped>\n",
       "    .dataframe tbody tr th:only-of-type {\n",
       "        vertical-align: middle;\n",
       "    }\n",
       "\n",
       "    .dataframe tbody tr th {\n",
       "        vertical-align: top;\n",
       "    }\n",
       "\n",
       "    .dataframe thead th {\n",
       "        text-align: right;\n",
       "    }\n",
       "</style>\n",
       "<table border=\"1\" class=\"dataframe\">\n",
       "  <thead>\n",
       "    <tr style=\"text-align: right;\">\n",
       "      <th></th>\n",
       "      <th>url</th>\n",
       "      <th>types</th>\n",
       "      <th>name</th>\n",
       "      <th>desc_snippet</th>\n",
       "      <th>recent_reviews</th>\n",
       "      <th>all_reviews</th>\n",
       "      <th>release_date</th>\n",
       "      <th>developer</th>\n",
       "      <th>publisher</th>\n",
       "      <th>popular_tags</th>\n",
       "      <th>...</th>\n",
       "      <th>game_description</th>\n",
       "      <th>mature_content</th>\n",
       "      <th>minimum_requirements</th>\n",
       "      <th>recommended_requirements</th>\n",
       "      <th>original_price</th>\n",
       "      <th>discount_price</th>\n",
       "      <th>valid_date</th>\n",
       "      <th>achievement_cat</th>\n",
       "      <th>mature_encoded</th>\n",
       "      <th>price</th>\n",
       "    </tr>\n",
       "  </thead>\n",
       "  <tbody>\n",
       "    <tr>\n",
       "      <th>6381</th>\n",
       "      <td>https://store.steampowered.com/bundle/7125/Fac...</td>\n",
       "      <td>app</td>\n",
       "      <td>NaN</td>\n",
       "      <td>About this bundle  This bundle contains  thre...</td>\n",
       "      <td>NaN</td>\n",
       "      <td>NaN</td>\n",
       "      <td>NaN</td>\n",
       "      <td>NaN</td>\n",
       "      <td>NaN</td>\n",
       "      <td>NaN</td>\n",
       "      <td>...</td>\n",
       "      <td>About this bundle  This bundle contains  thre...</td>\n",
       "      <td>NaN</td>\n",
       "      <td>NaN</td>\n",
       "      <td>NaN</td>\n",
       "      <td>NaN</td>\n",
       "      <td>$2.67</td>\n",
       "      <td>False</td>\n",
       "      <td>0.0</td>\n",
       "      <td>0</td>\n",
       "      <td>0.0</td>\n",
       "    </tr>\n",
       "    <tr>\n",
       "      <th>12146</th>\n",
       "      <td>https://store.steampowered.com/bundle/10912/Th...</td>\n",
       "      <td>app</td>\n",
       "      <td>NaN</td>\n",
       "      <td>About this bundle  All Joe Papp content.</td>\n",
       "      <td>NaN</td>\n",
       "      <td>NaN</td>\n",
       "      <td>NaN</td>\n",
       "      <td>NaN</td>\n",
       "      <td>NaN</td>\n",
       "      <td>NaN</td>\n",
       "      <td>...</td>\n",
       "      <td>About this bundle  All Joe Papp content.</td>\n",
       "      <td>NaN</td>\n",
       "      <td>NaN</td>\n",
       "      <td>NaN</td>\n",
       "      <td>NaN</td>\n",
       "      <td>$9.96</td>\n",
       "      <td>False</td>\n",
       "      <td>0.0</td>\n",
       "      <td>0</td>\n",
       "      <td>0.0</td>\n",
       "    </tr>\n",
       "    <tr>\n",
       "      <th>28380</th>\n",
       "      <td>https://store.steampowered.com/bundle/10417/Ha...</td>\n",
       "      <td>app</td>\n",
       "      <td>NaN</td>\n",
       "      <td>About this bundle  Purchase this bundle to sa...</td>\n",
       "      <td>NaN</td>\n",
       "      <td>NaN</td>\n",
       "      <td>NaN</td>\n",
       "      <td>NaN</td>\n",
       "      <td>NaN</td>\n",
       "      <td>NaN</td>\n",
       "      <td>...</td>\n",
       "      <td>About this bundle  Purchase this bundle to sa...</td>\n",
       "      <td>NaN</td>\n",
       "      <td>NaN</td>\n",
       "      <td>NaN</td>\n",
       "      <td>NaN</td>\n",
       "      <td>$16.55</td>\n",
       "      <td>False</td>\n",
       "      <td>0.0</td>\n",
       "      <td>0</td>\n",
       "      <td>0.0</td>\n",
       "    </tr>\n",
       "    <tr>\n",
       "      <th>31321</th>\n",
       "      <td>https://store.steampowered.com/app/976190/_/</td>\n",
       "      <td>app</td>\n",
       "      <td>NaN</td>\n",
       "      <td>NaN</td>\n",
       "      <td>NaN</td>\n",
       "      <td>NaN</td>\n",
       "      <td>NaN</td>\n",
       "      <td>NaN</td>\n",
       "      <td>NaN</td>\n",
       "      <td>Action,Indie,Third-Person Shooter,Retro</td>\n",
       "      <td>...</td>\n",
       "      <td>nan</td>\n",
       "      <td>NaN</td>\n",
       "      <td>NaN</td>\n",
       "      <td>NaN</td>\n",
       "      <td>NaN</td>\n",
       "      <td>NaN</td>\n",
       "      <td>False</td>\n",
       "      <td>0.0</td>\n",
       "      <td>0</td>\n",
       "      <td>0.0</td>\n",
       "    </tr>\n",
       "  </tbody>\n",
       "</table>\n",
       "<p>4 rows × 24 columns</p>\n",
       "</div>"
      ],
      "text/plain": [
       "                                                     url types name  \\\n",
       "6381   https://store.steampowered.com/bundle/7125/Fac...   app  NaN   \n",
       "12146  https://store.steampowered.com/bundle/10912/Th...   app  NaN   \n",
       "28380  https://store.steampowered.com/bundle/10417/Ha...   app  NaN   \n",
       "31321       https://store.steampowered.com/app/976190/_/   app  NaN   \n",
       "\n",
       "                                            desc_snippet recent_reviews  \\\n",
       "6381    About this bundle  This bundle contains  thre...            NaN   \n",
       "12146          About this bundle  All Joe Papp content.             NaN   \n",
       "28380   About this bundle  Purchase this bundle to sa...            NaN   \n",
       "31321                                                NaN            NaN   \n",
       "\n",
       "      all_reviews release_date developer publisher  \\\n",
       "6381          NaN          NaN       NaN       NaN   \n",
       "12146         NaN          NaN       NaN       NaN   \n",
       "28380         NaN          NaN       NaN       NaN   \n",
       "31321         NaN          NaN       NaN       NaN   \n",
       "\n",
       "                                  popular_tags  ...  \\\n",
       "6381                                       NaN  ...   \n",
       "12146                                      NaN  ...   \n",
       "28380                                      NaN  ...   \n",
       "31321  Action,Indie,Third-Person Shooter,Retro  ...   \n",
       "\n",
       "                                        game_description mature_content  \\\n",
       "6381    About this bundle  This bundle contains  thre...            NaN   \n",
       "12146          About this bundle  All Joe Papp content.             NaN   \n",
       "28380   About this bundle  Purchase this bundle to sa...            NaN   \n",
       "31321                                                nan            NaN   \n",
       "\n",
       "       minimum_requirements recommended_requirements original_price  \\\n",
       "6381                    NaN                      NaN            NaN   \n",
       "12146                   NaN                      NaN            NaN   \n",
       "28380                   NaN                      NaN            NaN   \n",
       "31321                   NaN                      NaN            NaN   \n",
       "\n",
       "      discount_price valid_date achievement_cat mature_encoded price  \n",
       "6381           $2.67      False             0.0              0   0.0  \n",
       "12146          $9.96      False             0.0              0   0.0  \n",
       "28380         $16.55      False             0.0              0   0.0  \n",
       "31321            NaN      False             0.0              0   0.0  \n",
       "\n",
       "[4 rows x 24 columns]"
      ]
     },
     "execution_count": 73,
     "metadata": {},
     "output_type": "execute_result"
    }
   ],
   "source": [
    "clean_df[clean_df['name'].isnull()== True]"
   ]
  },
  {
   "cell_type": "markdown",
   "id": "25d869cb-49e7-4148-b24a-d71f7fddcc68",
   "metadata": {},
   "source": [
    "### Reviews"
   ]
  },
  {
   "cell_type": "code",
   "execution_count": null,
   "id": "34acbb20-b16b-4045-b006-c25e9c2f82ea",
   "metadata": {},
   "outputs": [],
   "source": [
    "def get_review(url):\n",
    "    response = requests.get(url).text\n",
    "    soup = BeautifulSoup(response, \"html.parser\")\n",
    "    try: \n",
    "        return soup.find('span', class_='game_review_summary').text.strip()\n",
    "    except AttributeError:\n",
    "        return float('nan')"
   ]
  },
  {
   "cell_type": "code",
   "execution_count": null,
   "id": "8001b715-dd9c-433b-ba2c-dcea939b6764",
   "metadata": {},
   "outputs": [],
   "source": [
    "for index in app_df[app_df['all_reviews'].isnull()].index:\n",
    "    app_df.loc[index, 'all_reviews'] = get_review(app_df.loc[index, 'url'])"
   ]
  },
  {
   "cell_type": "markdown",
   "id": "a08b3513-ea43-413f-b96c-2adcf2e88126",
   "metadata": {},
   "source": [
    "### Dates"
   ]
  },
  {
   "cell_type": "code",
   "execution_count": 12,
   "id": "3a4c9f6b-c2f5-4fda-9ca7-61c7ed3506a8",
   "metadata": {},
   "outputs": [],
   "source": [
    "def get_date(url):\n",
    "    response = requests.get(url).text\n",
    "    soup = BeautifulSoup(response, \"html.parser\")\n",
    "    try: \n",
    "        return soup.find('div', class_='date').text.strip()\n",
    "    except AttributeError:\n",
    "        return float('nan')"
   ]
  },
  {
   "cell_type": "code",
   "execution_count": null,
   "id": "a5855c4f-e0a7-4bd6-bbbb-b16528b65c2a",
   "metadata": {},
   "outputs": [],
   "source": [
    "for index in app_df[app_df['release_date'].isnull()].index:\n",
    "    app_df.loc[index, 'release_date'] = get_date(app_df.loc[index, 'url'])"
   ]
  },
  {
   "cell_type": "markdown",
   "id": "1f70009d-6708-417a-b756-c8bfef2fda69",
   "metadata": {},
   "source": [
    "### Developer"
   ]
  },
  {
   "cell_type": "code",
   "execution_count": null,
   "id": "3ce9fe7e-e454-4ba6-a4ab-fc160434ebd7",
   "metadata": {},
   "outputs": [],
   "source": [
    "def get_dev(url):\n",
    "    response = requests.get(url).text\n",
    "    soup = BeautifulSoup(response, \"html.parser\")\n",
    "    try: \n",
    "        return soup.find('div', id='developers_list').text.strip().split(',')[0]\n",
    "    except:\n",
    "        return float('nan')"
   ]
  },
  {
   "cell_type": "code",
   "execution_count": null,
   "id": "97109d0c-3de0-447b-b44e-3a343dc2b859",
   "metadata": {},
   "outputs": [],
   "source": [
    "temp = df_app[app_df['developer'].isnull() == True]\n",
    "for index in temp.index:\n",
    "    app_df.loc[index, 'developer'] = get_dev(app_df.loc[index, 'url'])\n",
    "    print(index)"
   ]
  },
  {
   "cell_type": "markdown",
   "id": "627d3b6f-a250-4f5b-9d8f-0c7a55115fb0",
   "metadata": {},
   "source": [
    "### Publisher"
   ]
  },
  {
   "cell_type": "code",
   "execution_count": 38,
   "id": "1559ca33-32bc-45ad-8258-6236c5fc5235",
   "metadata": {},
   "outputs": [],
   "source": [
    "def get_pub(url):\n",
    "    response = requests.get(url).text\n",
    "    soup = BeautifulSoup(response, \"html.parser\")\n",
    "    try: \n",
    "        return soup.find_all('div', class_='summary column')[3].find('a').string.strip().split(',')[0]\n",
    "    except:\n",
    "        return float('nan')"
   ]
  },
  {
   "cell_type": "code",
   "execution_count": null,
   "id": "299c29fe-f544-4c01-b58b-099b676dc31a",
   "metadata": {},
   "outputs": [],
   "source": [
    "temp = df_app[df_app['publisher'].isnull() == True]\n",
    "for index in temp.index:\n",
    "    df_app.loc[index, 'publisher'] = get_pub(df_app.loc[index, 'url'])"
   ]
  },
  {
   "cell_type": "markdown",
   "id": "7271ae97-8850-4965-9dbf-354e44d49ea9",
   "metadata": {},
   "source": [
    "### Popular Tags"
   ]
  },
  {
   "cell_type": "code",
   "execution_count": 23,
   "id": "10225252-2f35-472b-ba3d-74a6307b453c",
   "metadata": {},
   "outputs": [],
   "source": [
    "def get_tags(url):\n",
    "    response = requests.get(url).text\n",
    "    soup = BeautifulSoup(response, \"html.parser\")\n",
    "    try: \n",
    "        return ','.join([tag.text.strip() for tag in soup.find_all('a', class_='app_tag')])\n",
    "    except:\n",
    "        return float('nan')"
   ]
  },
  {
   "cell_type": "code",
   "execution_count": null,
   "id": "d82230ed-2ce7-4ef6-83ee-43b6bdb8c975",
   "metadata": {},
   "outputs": [],
   "source": [
    "temp = app_df[app_df['popular_tags'].isnull() == True]\n",
    "for index in temp.index:\n",
    "    app_df.loc[index, 'popular_tags'] = get_tags(app_df.loc[index, 'url'])\n",
    "app_df['popular_tags'] = app_df['popular_tags'].replace('', float('nan'))"
   ]
  },
  {
   "cell_type": "markdown",
   "id": "6e07d217-0e7f-4e9c-8bf9-192c2c81d38a",
   "metadata": {},
   "source": [
    "### Game Details"
   ]
  },
  {
   "cell_type": "code",
   "execution_count": 39,
   "id": "280b5e81-4d38-4197-a716-4b142cbe675a",
   "metadata": {},
   "outputs": [],
   "source": [
    "def get_det(url):\n",
    "    response = requests.get(url).text\n",
    "    soup = BeautifulSoup(response, \"html.parser\")\n",
    "    try: \n",
    "        return ','.join([tag.text.strip() for tag in soup.find_all('div', class_='label')])\n",
    "       # return soup.find_all('div', class_='label')\n",
    "    except:\n",
    "        return float('nan')"
   ]
  },
  {
   "cell_type": "code",
   "execution_count": null,
   "id": "61905e44-ad83-4e98-b5be-6ac252083b5d",
   "metadata": {},
   "outputs": [],
   "source": [
    "temp = df_app[df_app['game_details'].isnull() == True]\n",
    "for index in temp.index:\n",
    "    app_df.loc[index, 'game_details'] = get_tags(app_df.loc[index, 'url'])\n",
    "app_df['game_details'] = app_df['game_details'].replace('', float('nan'))"
   ]
  },
  {
   "cell_type": "markdown",
   "id": "3e5ee602-f223-41fd-aace-dad98011b62f",
   "metadata": {},
   "source": [
    "### Prices"
   ]
  },
  {
   "cell_type": "code",
   "execution_count": 40,
   "id": "052dbac8-8ac9-445a-8815-ef7dfc2628d1",
   "metadata": {},
   "outputs": [],
   "source": [
    "def get_price(url):\n",
    "    response = requests.get(url).text\n",
    "    soup = BeautifulSoup(response, \"html.parser\")\n",
    "    try: \n",
    "        return soup.find('div', class_='game_purchase_price.price').text.strip('€')\n",
    "    except AttributeError:\n",
    "        return float('nan')"
   ]
  }
 ],
 "metadata": {
  "kernelspec": {
   "display_name": "Python 3 (ipykernel)",
   "language": "python",
   "name": "python3"
  },
  "language_info": {
   "codemirror_mode": {
    "name": "ipython",
    "version": 3
   },
   "file_extension": ".py",
   "mimetype": "text/x-python",
   "name": "python",
   "nbconvert_exporter": "python",
   "pygments_lexer": "ipython3",
   "version": "3.8.12"
  }
 },
 "nbformat": 4,
 "nbformat_minor": 5
}
