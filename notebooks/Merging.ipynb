{
 "cells": [
  {
   "cell_type": "code",
   "execution_count": 1,
   "id": "7eb5e0fb-0910-452d-b255-7837323d9873",
   "metadata": {},
   "outputs": [],
   "source": [
    "import pandas as pd\n",
    "from bs4 import BeautifulSoup\n",
    "import requests"
   ]
  },
  {
   "cell_type": "code",
   "execution_count": 3,
   "id": "2b9d978e-6310-477d-8b94-26acbe07c3e1",
   "metadata": {},
   "outputs": [],
   "source": [
    "df = pd.read_csv('../raw_data/steam_games.csv')\n",
    "df_app = df[df['types'] == 'app']"
   ]
  },
  {
   "cell_type": "markdown",
   "id": "aa761375-d3e5-4dd1-9f0c-1dd798d6da67",
   "metadata": {},
   "source": [
    "# Cleaning columns"
   ]
  },
  {
   "cell_type": "markdown",
   "id": "20c4955e-67b7-40ef-9bc1-f38a37f413e7",
   "metadata": {},
   "source": [
    "### Developer"
   ]
  },
  {
   "cell_type": "raw",
   "id": "0b00a65e-d43f-4c81-8eed-8a867bccb711",
   "metadata": {},
   "source": [
    "No Cleaning done!"
   ]
  },
  {
   "cell_type": "markdown",
   "id": "a4c6eb51-6c29-456e-8c69-5a7b5844a23f",
   "metadata": {},
   "source": [
    "### Publisher"
   ]
  },
  {
   "cell_type": "code",
   "execution_count": null,
   "id": "edb71e12-b745-4e0a-b1f0-c7b9c8bbadf7",
   "metadata": {},
   "outputs": [],
   "source": [
    "### Publisher cleaning sub\n",
    "def clean_pub(x):\n",
    "    if ',' in str(x):\n",
    "        if x.split(',')[0] == x.split(',')[1]:\n",
    "            return x.split(',')[0] \n",
    "df['publisher'] = df['publisher'].apply(lambda x : clean_pub(x))"
   ]
  },
  {
   "cell_type": "markdown",
   "id": "22e749b6-fe25-404e-b75f-c923866c6ed5",
   "metadata": {},
   "source": [
    "# Scraping Columns"
   ]
  },
  {
   "cell_type": "markdown",
   "id": "1f70009d-6708-417a-b756-c8bfef2fda69",
   "metadata": {},
   "source": [
    "### Developer"
   ]
  },
  {
   "cell_type": "code",
   "execution_count": null,
   "id": "3ce9fe7e-e454-4ba6-a4ab-fc160434ebd7",
   "metadata": {},
   "outputs": [],
   "source": [
    "def get_dev(url):\n",
    "    response = requests.get(url).text\n",
    "    soup = BeautifulSoup(response, \"html.parser\")\n",
    "    try: \n",
    "        return soup.find('div', id='developers_list').text.strip().split(',')[0]\n",
    "    except:\n",
    "        return float('nan')"
   ]
  },
  {
   "cell_type": "code",
   "execution_count": null,
   "id": "97109d0c-3de0-447b-b44e-3a343dc2b859",
   "metadata": {},
   "outputs": [],
   "source": [
    "temp = df_app[df_app['developer'].isnull() == True]\n",
    "for index in temp.index:\n",
    "    df_app.loc[index, 'developer'] = get_dev(df_app.loc[index, 'url'])\n",
    "    print(index)"
   ]
  },
  {
   "cell_type": "markdown",
   "id": "6eae07b3-2dd1-4f1e-b7ec-a5054182c81d",
   "metadata": {},
   "source": [
    "# Encoding columns"
   ]
  },
  {
   "cell_type": "markdown",
   "id": "0184a1a0-9733-411b-a220-a910b20fe2c3",
   "metadata": {},
   "source": [
    "### Publisher"
   ]
  },
  {
   "cell_type": "code",
   "execution_count": 4,
   "id": "197bb086-d1e6-48c2-9608-70c0c662a68e",
   "metadata": {},
   "outputs": [],
   "source": [
    "#### Replacing missing publisher by developer - add inplace = True\n",
    "#df.publisher = df.publisher.fillna(df.developer)"
   ]
  },
  {
   "cell_type": "code",
   "execution_count": null,
   "id": "1d684289-5803-48d4-834f-40de9cb4c785",
   "metadata": {},
   "outputs": [],
   "source": []
  }
 ],
 "metadata": {
  "kernelspec": {
   "display_name": "Python 3 (ipykernel)",
   "language": "python",
   "name": "python3"
  },
  "language_info": {
   "codemirror_mode": {
    "name": "ipython",
    "version": 3
   },
   "file_extension": ".py",
   "mimetype": "text/x-python",
   "name": "python",
   "nbconvert_exporter": "python",
   "pygments_lexer": "ipython3",
   "version": "3.8.12"
  }
 },
 "nbformat": 4,
 "nbformat_minor": 5
}
