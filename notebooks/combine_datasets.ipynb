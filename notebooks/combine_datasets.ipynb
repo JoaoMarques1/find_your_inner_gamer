{
 "cells": [
  {
   "cell_type": "markdown",
   "metadata": {},
   "source": [
    "# Imports"
   ]
  },
  {
   "cell_type": "code",
   "execution_count": 77,
   "metadata": {},
   "outputs": [
    {
     "name": "stdout",
     "output_type": "stream",
     "text": [
      "The autoreload extension is already loaded. To reload it, use:\n",
      "  %reload_ext autoreload\n"
     ]
    }
   ],
   "source": [
    "import pandas as pd # import for dataframe handle\n",
    "#import numpy as np # import for math and array operations\n",
    "#import matplotlib.pyplot as plt # import for visual representation\n",
    "#import seaborn as sns # import for visual representation\n",
    "\n",
    "#from bs4 import BeautifulSoup\n",
    "#import requests\n",
    "\n",
    "from datetime import datetime as dt\n",
    "\n",
    "%load_ext autoreload\n",
    "%autoreload 2"
   ]
  },
  {
   "cell_type": "code",
   "execution_count": 52,
   "metadata": {},
   "outputs": [],
   "source": [
    "reviews_df = pd.read_csv('../raw_data/reviews.csv')\n",
    "dates_df = pd.read_csv('../raw_data/dates.csv')\n",
    "full_df = pd.read_csv('../raw_data/steam_games.csv')"
   ]
  },
  {
   "cell_type": "markdown",
   "metadata": {},
   "source": [
    "### Reviews"
   ]
  },
  {
   "cell_type": "code",
   "execution_count": 61,
   "metadata": {},
   "outputs": [
    {
     "name": "stdout",
     "output_type": "stream",
     "text": [
      "Reviwes shape: (38021, 2)\n",
      "Full shape: (38021, 21)\n"
     ]
    }
   ],
   "source": [
    "full_df = full_df[full_df['types'] == 'app']\n",
    "\n",
    "print(f\"Reviwes shape: {reviews_df.shape}\")\n",
    "print(f\"Full shape: {full_df.shape}\")"
   ]
  },
  {
   "cell_type": "code",
   "execution_count": 54,
   "metadata": {},
   "outputs": [
    {
     "name": "stdout",
     "output_type": "stream",
     "text": [
      "Reviews nulls: 0\n",
      "Full reviews nulls: 9551\n"
     ]
    }
   ],
   "source": [
    "print(f\"Reviews nulls: {reviews_df['clean_reviews'].isnull().sum()}\")\n",
    "print(f\"Full reviews nulls: {full_df['all_reviews'].isnull().sum()}\")"
   ]
  },
  {
   "cell_type": "code",
   "execution_count": 55,
   "metadata": {},
   "outputs": [
    {
     "data": {
      "text/plain": [
       "(38021, 38021)"
      ]
     },
     "execution_count": 55,
     "metadata": {},
     "output_type": "execute_result"
    }
   ],
   "source": [
    "len(full_df['all_reviews']), len(reviews_df['clean_reviews'])"
   ]
  },
  {
   "cell_type": "code",
   "execution_count": 57,
   "metadata": {},
   "outputs": [],
   "source": [
    "full_df = full_df.merge(reviews_df, on='url')"
   ]
  },
  {
   "cell_type": "code",
   "execution_count": 58,
   "metadata": {},
   "outputs": [
    {
     "data": {
      "text/plain": [
       "0"
      ]
     },
     "execution_count": 58,
     "metadata": {},
     "output_type": "execute_result"
    }
   ],
   "source": [
    "full_df['clean_reviews'].isnull().sum()"
   ]
  },
  {
   "cell_type": "markdown",
   "metadata": {},
   "source": [
    "### Dates"
   ]
  },
  {
   "cell_type": "code",
   "execution_count": 62,
   "metadata": {},
   "outputs": [
    {
     "name": "stdout",
     "output_type": "stream",
     "text": [
      "Dates shape: (38021, 2)\n",
      "Full shape: (38021, 21)\n"
     ]
    }
   ],
   "source": [
    "print(f\"Dates shape: {dates_df.shape}\")\n",
    "print(f\"Full shape: {full_df.shape}\")"
   ]
  },
  {
   "cell_type": "code",
   "execution_count": 64,
   "metadata": {},
   "outputs": [
    {
     "name": "stdout",
     "output_type": "stream",
     "text": [
      "Dates nulls: 441\n",
      "Full reviews nulls: 367\n"
     ]
    }
   ],
   "source": [
    "print(f\"Dates nulls: {dates_df['release_date'].isnull().sum()}\")\n",
    "print(f\"Full reviews nulls: {full_df['release_date'].isnull().sum()}\")"
   ]
  },
  {
   "cell_type": "code",
   "execution_count": 66,
   "metadata": {},
   "outputs": [],
   "source": [
    "dates_df.rename(columns={'release_date': 'clean_date'}, inplace=True)"
   ]
  },
  {
   "cell_type": "code",
   "execution_count": 70,
   "metadata": {},
   "outputs": [],
   "source": [
    "full_df = full_df.merge(dates_df, on='url')"
   ]
  },
  {
   "cell_type": "markdown",
   "metadata": {},
   "source": [
    "## Save dataframe to csv file"
   ]
  },
  {
   "cell_type": "code",
   "execution_count": 82,
   "metadata": {},
   "outputs": [],
   "source": [
    "full_df.to_csv('../raw_data/combine_df.csv', index=False)"
   ]
  }
 ],
 "metadata": {
  "interpreter": {
   "hash": "3619575748f6e42651277d3cff28b3ae9c40e810b514da6b6be8384b32e1d373"
  },
  "kernelspec": {
   "display_name": "Python 3.8.12 64-bit ('find_your_inner_gamer')",
   "language": "python",
   "name": "python3"
  },
  "language_info": {
   "codemirror_mode": {
    "name": "ipython",
    "version": 3
   },
   "file_extension": ".py",
   "mimetype": "text/x-python",
   "name": "python",
   "nbconvert_exporter": "python",
   "pygments_lexer": "ipython3",
   "version": "3.8.12"
  },
  "orig_nbformat": 4
 },
 "nbformat": 4,
 "nbformat_minor": 2
}
