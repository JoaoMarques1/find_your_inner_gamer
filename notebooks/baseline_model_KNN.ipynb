{
 "cells": [
  {
   "cell_type": "code",
   "execution_count": 2,
   "id": "7878b494-ade6-4df5-aaba-f18bed1ccc4e",
   "metadata": {},
   "outputs": [],
   "source": [
    "import numpy as np # import for math and array operations\n",
    "import pandas as pd # import for dataframe handle\n",
    "import matplotlib.pyplot as plt # import for visual representation\n",
    "import seaborn as sns # import for visual representation\n",
    "import math\n",
    "from bs4 import BeautifulSoup\n",
    "import requests\n",
    "import datetime as dt\n",
    "from sklearn.feature_extraction.text import TfidfVectorizer\n",
    "from sklearn.neighbors import KNeighborsRegressor\n",
    "from sklearn import preprocessing\n",
    "\n",
    "%load_ext autoreload\n",
    "%autoreload 2"
   ]
  },
  {
   "cell_type": "code",
   "execution_count": 3,
   "id": "8c503de4-1dda-4b3d-a26f-58d1dc1151fb",
   "metadata": {},
   "outputs": [],
   "source": [
    "df = pd.read_csv('../raw_data/combine_df.csv')"
   ]
  },
  {
   "cell_type": "code",
   "execution_count": 4,
   "id": "95326ec6-88af-46b0-b6eb-d186f0f2d8dd",
   "metadata": {},
   "outputs": [],
   "source": [
    "def clean_tags(tag):\n",
    "    if ',' in str(tag):\n",
    "        tag = ','.join(list(set(str(tag).split(','))))\n",
    "        return tag\n",
    "df['tags'] = df[\"popular_tags\"].astype(str) +',' + df['genre'].astype(str)\n",
    "df['tags'] = df['tags'].apply(lambda x : clean_tags(x))"
   ]
  },
  {
   "cell_type": "code",
   "execution_count": 5,
   "id": "d7cd3e3b-690f-4ee3-bb2e-d7c516a8989f",
   "metadata": {},
   "outputs": [
    {
     "data": {
      "text/plain": [
       "38021"
      ]
     },
     "execution_count": 5,
     "metadata": {},
     "output_type": "execute_result"
    }
   ],
   "source": [
    "df.shape[0]"
   ]
  },
  {
   "cell_type": "code",
   "execution_count": 6,
   "id": "b6962aa4-f709-4411-9fca-cd2d2f36f106",
   "metadata": {},
   "outputs": [],
   "source": [
    "from nltk.tokenize import word_tokenize\n",
    "from nltk.corpus import stopwords \n",
    "from unidecode import unidecode\n",
    "import string\n",
    "\n",
    "def clean (text):\n",
    "    \n",
    "    for punctuation in string.punctuation:\n",
    "        text = text.replace(punctuation, ' ') # Remove Punctuation\n",
    "        \n",
    "    lowercased = text.lower() # Lower Case\n",
    "    tokenized = word_tokenize(lowercased) # Tokenize\n",
    "    words_only = [word for word in tokenized if word.isalpha()] # Remove numbers\n",
    "    stop_words = set(stopwords.words('English')) # Make stopword list\n",
    "    without_stopwords = [word for word in words_only if not word in stop_words] # Remove Stop Words\n",
    "    return \" \".join(without_stopwords)"
   ]
  },
  {
   "cell_type": "code",
   "execution_count": 7,
   "id": "2f6ecf03-9493-4d04-ab7d-8e9cee308431",
   "metadata": {},
   "outputs": [],
   "source": [
    "df['clean_tag'] = df['tags'].apply(clean)"
   ]
  },
  {
   "cell_type": "code",
   "execution_count": 8,
   "id": "976e7649-b15b-4a69-9eda-5814dd4c1257",
   "metadata": {},
   "outputs": [],
   "source": [
    "df = df.drop(['tags','genre' , 'popular_tags'],axis  =1)"
   ]
  },
  {
   "cell_type": "code",
   "execution_count": 9,
   "id": "cb5df439-4f99-423a-95fa-9aae4017897c",
   "metadata": {},
   "outputs": [],
   "source": [
    "# Tuned TFidfvectorizer\n",
    "vec = TfidfVectorizer(min_df = 0.05).fit(df.clean_tag)\n",
    "vectors = vec.transform(df.clean_tag) # Transform text to vectors\n"
   ]
  },
  {
   "cell_type": "code",
   "execution_count": 10,
   "id": "aad375b5-c83d-47e3-ac52-b94034a71466",
   "metadata": {},
   "outputs": [],
   "source": [
    "X_proj = pd.DataFrame(vectors.toarray(), index=df.name.tolist())\n",
    "\n",
    "# Define X and y\n",
    "y = X_proj[0]\n",
    "knn_model = KNeighborsRegressor().fit(X_proj,y) "
   ]
  },
  {
   "cell_type": "code",
   "execution_count": 11,
   "id": "c0136293-109e-4252-8aac-a007e7aaedeb",
   "metadata": {
    "tags": []
   },
   "outputs": [
    {
     "data": {
      "text/html": [
       "<div>\n",
       "<style scoped>\n",
       "    .dataframe tbody tr th:only-of-type {\n",
       "        vertical-align: middle;\n",
       "    }\n",
       "\n",
       "    .dataframe tbody tr th {\n",
       "        vertical-align: top;\n",
       "    }\n",
       "\n",
       "    .dataframe thead th {\n",
       "        text-align: right;\n",
       "    }\n",
       "</style>\n",
       "<table border=\"1\" class=\"dataframe\">\n",
       "  <thead>\n",
       "    <tr style=\"text-align: right;\">\n",
       "      <th></th>\n",
       "      <th>distance</th>\n",
       "    </tr>\n",
       "  </thead>\n",
       "  <tbody>\n",
       "    <tr>\n",
       "      <th>Counter-Strike</th>\n",
       "      <td>0.000000</td>\n",
       "    </tr>\n",
       "    <tr>\n",
       "      <th>Project Xandata</th>\n",
       "      <td>0.365622</td>\n",
       "    </tr>\n",
       "    <tr>\n",
       "      <th>Holdfast: Nations At War</th>\n",
       "      <td>0.505440</td>\n",
       "    </tr>\n",
       "    <tr>\n",
       "      <th>Primal Carnage: Extinction</th>\n",
       "      <td>0.551667</td>\n",
       "    </tr>\n",
       "    <tr>\n",
       "      <th>ARMA: Cold War Assault</th>\n",
       "      <td>0.567837</td>\n",
       "    </tr>\n",
       "    <tr>\n",
       "      <th>Primal Carnage</th>\n",
       "      <td>0.577521</td>\n",
       "    </tr>\n",
       "    <tr>\n",
       "      <th>Nexuiz</th>\n",
       "      <td>0.600543</td>\n",
       "    </tr>\n",
       "    <tr>\n",
       "      <th>BLACK CLOVER: QUARTET KNIGHTS</th>\n",
       "      <td>0.600543</td>\n",
       "    </tr>\n",
       "    <tr>\n",
       "      <th>Arma Tactics</th>\n",
       "      <td>0.618359</td>\n",
       "    </tr>\n",
       "    <tr>\n",
       "      <th>Fortress Forever</th>\n",
       "      <td>0.638026</td>\n",
       "    </tr>\n",
       "  </tbody>\n",
       "</table>\n",
       "</div>"
      ],
      "text/plain": [
       "                               distance\n",
       "Counter-Strike                 0.000000\n",
       "Project Xandata                0.365622\n",
       "Holdfast: Nations At War       0.505440\n",
       "Primal Carnage: Extinction     0.551667\n",
       "ARMA: Cold War Assault         0.567837\n",
       "Primal Carnage                 0.577521\n",
       "Nexuiz                         0.600543\n",
       "BLACK CLOVER: QUARTET KNIGHTS  0.600543\n",
       "Arma Tactics                   0.618359\n",
       "Fortress Forever               0.638026"
      ]
     },
     "execution_count": 11,
     "metadata": {},
     "output_type": "execute_result"
    }
   ],
   "source": [
    "#Test\n",
    "neighbors_list = list(knn_model.kneighbors(X_proj.loc[['Counter-Strike']],n_neighbors=df.shape[0])[1][0])\n",
    "pd.DataFrame(knn_model.kneighbors(X_proj.loc[['Counter-Strike']],n_neighbors=df.shape[0])[0][0], index = X_proj.iloc[neighbors_list, :].index, columns = ['distance']).head(10)"
   ]
  },
  {
   "cell_type": "markdown",
   "id": "949b2299-460f-447d-9e8a-758993d98b7c",
   "metadata": {
    "jp-MarkdownHeadingCollapsed": true,
    "tags": []
   },
   "source": [
    "### Testing"
   ]
  },
  {
   "cell_type": "code",
   "execution_count": 28,
   "id": "90128e13-b92c-485e-8be7-adb3c5b11fa2",
   "metadata": {},
   "outputs": [
    {
     "data": {
      "text/html": [
       "<div>\n",
       "<style scoped>\n",
       "    .dataframe tbody tr th:only-of-type {\n",
       "        vertical-align: middle;\n",
       "    }\n",
       "\n",
       "    .dataframe tbody tr th {\n",
       "        vertical-align: top;\n",
       "    }\n",
       "\n",
       "    .dataframe thead th {\n",
       "        text-align: right;\n",
       "    }\n",
       "</style>\n",
       "<table border=\"1\" class=\"dataframe\">\n",
       "  <thead>\n",
       "    <tr style=\"text-align: right;\">\n",
       "      <th></th>\n",
       "      <th>userid</th>\n",
       "      <th>game</th>\n",
       "      <th>behavior</th>\n",
       "      <th>hoursplayed</th>\n",
       "    </tr>\n",
       "  </thead>\n",
       "  <tbody>\n",
       "    <tr>\n",
       "      <th>0</th>\n",
       "      <td>151603712</td>\n",
       "      <td>The Elder Scrolls V Skyrim</td>\n",
       "      <td>purchase</td>\n",
       "      <td>1.0</td>\n",
       "    </tr>\n",
       "    <tr>\n",
       "      <th>1</th>\n",
       "      <td>151603712</td>\n",
       "      <td>The Elder Scrolls V Skyrim</td>\n",
       "      <td>play</td>\n",
       "      <td>273.0</td>\n",
       "    </tr>\n",
       "    <tr>\n",
       "      <th>2</th>\n",
       "      <td>151603712</td>\n",
       "      <td>Fallout 4</td>\n",
       "      <td>purchase</td>\n",
       "      <td>1.0</td>\n",
       "    </tr>\n",
       "    <tr>\n",
       "      <th>3</th>\n",
       "      <td>151603712</td>\n",
       "      <td>Fallout 4</td>\n",
       "      <td>play</td>\n",
       "      <td>87.0</td>\n",
       "    </tr>\n",
       "    <tr>\n",
       "      <th>4</th>\n",
       "      <td>151603712</td>\n",
       "      <td>Spore</td>\n",
       "      <td>purchase</td>\n",
       "      <td>1.0</td>\n",
       "    </tr>\n",
       "  </tbody>\n",
       "</table>\n",
       "</div>"
      ],
      "text/plain": [
       "      userid                        game  behavior  hoursplayed\n",
       "0  151603712  The Elder Scrolls V Skyrim  purchase          1.0\n",
       "1  151603712  The Elder Scrolls V Skyrim      play        273.0\n",
       "2  151603712                   Fallout 4  purchase          1.0\n",
       "3  151603712                   Fallout 4      play         87.0\n",
       "4  151603712                       Spore  purchase          1.0"
      ]
     },
     "execution_count": 28,
     "metadata": {},
     "output_type": "execute_result"
    }
   ],
   "source": [
    "user_df= pd.read_csv('../raw_data/steam-200k.csv',usecols=[0,1,2,3],names=['userid','game','behavior','hoursplayed'])\n",
    "user_df.head()"
   ]
  },
  {
   "cell_type": "code",
   "execution_count": 29,
   "id": "3559fe71-f432-4bfc-8cda-8c2576e9acfe",
   "metadata": {},
   "outputs": [],
   "source": [
    "user_df['name']=user_df['game']\n",
    "user_df = user_df[user_df['behavior']== 'play']"
   ]
  },
  {
   "cell_type": "code",
   "execution_count": 30,
   "id": "20a35981-4bf5-4ac3-90fb-1db64d65049d",
   "metadata": {},
   "outputs": [
    {
     "data": {
      "text/html": [
       "<div>\n",
       "<style scoped>\n",
       "    .dataframe tbody tr th:only-of-type {\n",
       "        vertical-align: middle;\n",
       "    }\n",
       "\n",
       "    .dataframe tbody tr th {\n",
       "        vertical-align: top;\n",
       "    }\n",
       "\n",
       "    .dataframe thead th {\n",
       "        text-align: right;\n",
       "    }\n",
       "</style>\n",
       "<table border=\"1\" class=\"dataframe\">\n",
       "  <thead>\n",
       "    <tr style=\"text-align: right;\">\n",
       "      <th></th>\n",
       "      <th>name</th>\n",
       "    </tr>\n",
       "  </thead>\n",
       "  <tbody>\n",
       "    <tr>\n",
       "      <th>0</th>\n",
       "      <td>The Elder Scrolls V Skyrim</td>\n",
       "    </tr>\n",
       "    <tr>\n",
       "      <th>1</th>\n",
       "      <td>Fallout 4</td>\n",
       "    </tr>\n",
       "    <tr>\n",
       "      <th>2</th>\n",
       "      <td>Spore</td>\n",
       "    </tr>\n",
       "    <tr>\n",
       "      <th>3</th>\n",
       "      <td>Fallout New Vegas</td>\n",
       "    </tr>\n",
       "    <tr>\n",
       "      <th>4</th>\n",
       "      <td>Left 4 Dead 2</td>\n",
       "    </tr>\n",
       "    <tr>\n",
       "      <th>...</th>\n",
       "      <td>...</td>\n",
       "    </tr>\n",
       "    <tr>\n",
       "      <th>3595</th>\n",
       "      <td>Space Colony</td>\n",
       "    </tr>\n",
       "    <tr>\n",
       "      <th>3596</th>\n",
       "      <td>Life is Hard</td>\n",
       "    </tr>\n",
       "    <tr>\n",
       "      <th>3597</th>\n",
       "      <td>Executive Assault</td>\n",
       "    </tr>\n",
       "    <tr>\n",
       "      <th>3598</th>\n",
       "      <td>O.R.B.</td>\n",
       "    </tr>\n",
       "    <tr>\n",
       "      <th>3599</th>\n",
       "      <td>MirrorMoon EP</td>\n",
       "    </tr>\n",
       "  </tbody>\n",
       "</table>\n",
       "<p>3600 rows × 1 columns</p>\n",
       "</div>"
      ],
      "text/plain": [
       "                            name\n",
       "0     The Elder Scrolls V Skyrim\n",
       "1                      Fallout 4\n",
       "2                          Spore\n",
       "3              Fallout New Vegas\n",
       "4                  Left 4 Dead 2\n",
       "...                          ...\n",
       "3595                Space Colony\n",
       "3596                Life is Hard\n",
       "3597           Executive Assault\n",
       "3598                      O.R.B.\n",
       "3599               MirrorMoon EP\n",
       "\n",
       "[3600 rows x 1 columns]"
      ]
     },
     "execution_count": 30,
     "metadata": {},
     "output_type": "execute_result"
    }
   ],
   "source": [
    "user_test= pd.DataFrame(user_df['name'].unique(),columns=['name'])\n",
    "user_test"
   ]
  },
  {
   "cell_type": "code",
   "execution_count": 31,
   "id": "3b341209-1eb7-42e2-9d79-c444241b4038",
   "metadata": {},
   "outputs": [],
   "source": [
    "join_df=df.merge(user_test, on='name')\n",
    "join_name = list(join_df.name.unique())"
   ]
  },
  {
   "cell_type": "code",
   "execution_count": 32,
   "id": "9c777e61-c842-4266-ba98-76b2f0ff6b23",
   "metadata": {
    "tags": []
   },
   "outputs": [
    {
     "data": {
      "text/plain": [
       "1513"
      ]
     },
     "execution_count": 32,
     "metadata": {},
     "output_type": "execute_result"
    }
   ],
   "source": [
    "len(join_name)"
   ]
  },
  {
   "cell_type": "code",
   "execution_count": 33,
   "id": "dfefd7fa-0e95-4563-8b72-3e8f3b5bb31a",
   "metadata": {},
   "outputs": [],
   "source": [
    "test_df = user_df[user_df['game'].isin(join_name)]"
   ]
  },
  {
   "cell_type": "code",
   "execution_count": 34,
   "id": "55e03d00-55e9-4603-8c14-f25ecc421a4f",
   "metadata": {
    "tags": []
   },
   "outputs": [],
   "source": [
    "test_df = test_df.drop(columns = ['game', 'behavior'])"
   ]
  },
  {
   "cell_type": "code",
   "execution_count": 35,
   "id": "e39a6af9-589d-40cc-9547-4cdf938d9ca3",
   "metadata": {},
   "outputs": [
    {
     "data": {
      "text/html": [
       "<div>\n",
       "<style scoped>\n",
       "    .dataframe tbody tr th:only-of-type {\n",
       "        vertical-align: middle;\n",
       "    }\n",
       "\n",
       "    .dataframe tbody tr th {\n",
       "        vertical-align: top;\n",
       "    }\n",
       "\n",
       "    .dataframe thead th {\n",
       "        text-align: right;\n",
       "    }\n",
       "</style>\n",
       "<table border=\"1\" class=\"dataframe\">\n",
       "  <thead>\n",
       "    <tr style=\"text-align: right;\">\n",
       "      <th></th>\n",
       "      <th>userid</th>\n",
       "      <th>hoursplayed</th>\n",
       "      <th>name</th>\n",
       "    </tr>\n",
       "  </thead>\n",
       "  <tbody>\n",
       "    <tr>\n",
       "      <th>3</th>\n",
       "      <td>151603712</td>\n",
       "      <td>87.0</td>\n",
       "      <td>Fallout 4</td>\n",
       "    </tr>\n",
       "    <tr>\n",
       "      <th>9</th>\n",
       "      <td>151603712</td>\n",
       "      <td>8.9</td>\n",
       "      <td>Left 4 Dead 2</td>\n",
       "    </tr>\n",
       "    <tr>\n",
       "      <th>11</th>\n",
       "      <td>151603712</td>\n",
       "      <td>8.5</td>\n",
       "      <td>HuniePop</td>\n",
       "    </tr>\n",
       "    <tr>\n",
       "      <th>13</th>\n",
       "      <td>151603712</td>\n",
       "      <td>8.1</td>\n",
       "      <td>Path of Exile</td>\n",
       "    </tr>\n",
       "    <tr>\n",
       "      <th>15</th>\n",
       "      <td>151603712</td>\n",
       "      <td>7.5</td>\n",
       "      <td>Poly Bridge</td>\n",
       "    </tr>\n",
       "    <tr>\n",
       "      <th>...</th>\n",
       "      <td>...</td>\n",
       "      <td>...</td>\n",
       "      <td>...</td>\n",
       "    </tr>\n",
       "    <tr>\n",
       "      <th>199987</th>\n",
       "      <td>128470551</td>\n",
       "      <td>2.6</td>\n",
       "      <td>Rogue Legacy</td>\n",
       "    </tr>\n",
       "    <tr>\n",
       "      <th>199989</th>\n",
       "      <td>128470551</td>\n",
       "      <td>2.5</td>\n",
       "      <td>Mortal Kombat Komplete Edition</td>\n",
       "    </tr>\n",
       "    <tr>\n",
       "      <th>199993</th>\n",
       "      <td>128470551</td>\n",
       "      <td>2.2</td>\n",
       "      <td>Magic Duels</td>\n",
       "    </tr>\n",
       "    <tr>\n",
       "      <th>199995</th>\n",
       "      <td>128470551</td>\n",
       "      <td>1.5</td>\n",
       "      <td>Titan Souls</td>\n",
       "    </tr>\n",
       "    <tr>\n",
       "      <th>199999</th>\n",
       "      <td>128470551</td>\n",
       "      <td>1.4</td>\n",
       "      <td>RUSH</td>\n",
       "    </tr>\n",
       "  </tbody>\n",
       "</table>\n",
       "<p>36163 rows × 3 columns</p>\n",
       "</div>"
      ],
      "text/plain": [
       "           userid  hoursplayed                            name\n",
       "3       151603712         87.0                       Fallout 4\n",
       "9       151603712          8.9                   Left 4 Dead 2\n",
       "11      151603712          8.5                        HuniePop\n",
       "13      151603712          8.1                   Path of Exile\n",
       "15      151603712          7.5                     Poly Bridge\n",
       "...           ...          ...                             ...\n",
       "199987  128470551          2.6                    Rogue Legacy\n",
       "199989  128470551          2.5  Mortal Kombat Komplete Edition\n",
       "199993  128470551          2.2                     Magic Duels\n",
       "199995  128470551          1.5                     Titan Souls\n",
       "199999  128470551          1.4                            RUSH\n",
       "\n",
       "[36163 rows x 3 columns]"
      ]
     },
     "execution_count": 35,
     "metadata": {},
     "output_type": "execute_result"
    }
   ],
   "source": [
    "test_df"
   ]
  },
  {
   "cell_type": "code",
   "execution_count": 36,
   "id": "655a1bef-6ec4-4f52-a34e-988c0df571d5",
   "metadata": {},
   "outputs": [
    {
     "data": {
      "text/html": [
       "<div>\n",
       "<style scoped>\n",
       "    .dataframe tbody tr th:only-of-type {\n",
       "        vertical-align: middle;\n",
       "    }\n",
       "\n",
       "    .dataframe tbody tr th {\n",
       "        vertical-align: top;\n",
       "    }\n",
       "\n",
       "    .dataframe thead th {\n",
       "        text-align: right;\n",
       "    }\n",
       "</style>\n",
       "<table border=\"1\" class=\"dataframe\">\n",
       "  <thead>\n",
       "    <tr style=\"text-align: right;\">\n",
       "      <th></th>\n",
       "      <th>name</th>\n",
       "      <th>hoursplayed</th>\n",
       "    </tr>\n",
       "    <tr>\n",
       "      <th>userid</th>\n",
       "      <th></th>\n",
       "      <th></th>\n",
       "    </tr>\n",
       "  </thead>\n",
       "  <tbody>\n",
       "    <tr>\n",
       "      <th>5250</th>\n",
       "      <td>Portal 2</td>\n",
       "      <td>13.6</td>\n",
       "    </tr>\n",
       "    <tr>\n",
       "      <th>76767</th>\n",
       "      <td>Counter-Strike</td>\n",
       "      <td>365.0</td>\n",
       "    </tr>\n",
       "    <tr>\n",
       "      <th>86540</th>\n",
       "      <td>Far Cry 3</td>\n",
       "      <td>17.8</td>\n",
       "    </tr>\n",
       "    <tr>\n",
       "      <th>144736</th>\n",
       "      <td>Counter-Strike</td>\n",
       "      <td>0.1</td>\n",
       "    </tr>\n",
       "    <tr>\n",
       "      <th>181212</th>\n",
       "      <td>Counter-Strike</td>\n",
       "      <td>1.8</td>\n",
       "    </tr>\n",
       "    <tr>\n",
       "      <th>...</th>\n",
       "      <td>...</td>\n",
       "      <td>...</td>\n",
       "    </tr>\n",
       "    <tr>\n",
       "      <th>309265377</th>\n",
       "      <td>Brawlhalla</td>\n",
       "      <td>2.0</td>\n",
       "    </tr>\n",
       "    <tr>\n",
       "      <th>309404240</th>\n",
       "      <td>Unturned</td>\n",
       "      <td>13.0</td>\n",
       "    </tr>\n",
       "    <tr>\n",
       "      <th>309434439</th>\n",
       "      <td>Dota 2</td>\n",
       "      <td>0.8</td>\n",
       "    </tr>\n",
       "    <tr>\n",
       "      <th>309824202</th>\n",
       "      <td>Dota 2</td>\n",
       "      <td>0.7</td>\n",
       "    </tr>\n",
       "    <tr>\n",
       "      <th>309903146</th>\n",
       "      <td>Dota 2</td>\n",
       "      <td>0.2</td>\n",
       "    </tr>\n",
       "  </tbody>\n",
       "</table>\n",
       "<p>9240 rows × 2 columns</p>\n",
       "</div>"
      ],
      "text/plain": [
       "                     name  hoursplayed\n",
       "userid                                \n",
       "5250             Portal 2         13.6\n",
       "76767      Counter-Strike        365.0\n",
       "86540           Far Cry 3         17.8\n",
       "144736     Counter-Strike          0.1\n",
       "181212     Counter-Strike          1.8\n",
       "...                   ...          ...\n",
       "309265377      Brawlhalla          2.0\n",
       "309404240        Unturned         13.0\n",
       "309434439          Dota 2          0.8\n",
       "309824202          Dota 2          0.7\n",
       "309903146          Dota 2          0.2\n",
       "\n",
       "[9240 rows x 2 columns]"
      ]
     },
     "execution_count": 36,
     "metadata": {},
     "output_type": "execute_result"
    }
   ],
   "source": [
    "test_df.groupby(['userid', 'name']).sum().sort_values(['userid','hoursplayed'], ascending = [True, False]).reset_index().groupby(['userid']).first()"
   ]
  },
  {
   "cell_type": "code",
   "execution_count": 37,
   "id": "5a729c20-0d0d-4c1a-b360-8c9b2f78b8bf",
   "metadata": {},
   "outputs": [
    {
     "data": {
      "text/html": [
       "<div>\n",
       "<style scoped>\n",
       "    .dataframe tbody tr th:only-of-type {\n",
       "        vertical-align: middle;\n",
       "    }\n",
       "\n",
       "    .dataframe tbody tr th {\n",
       "        vertical-align: top;\n",
       "    }\n",
       "\n",
       "    .dataframe thead th {\n",
       "        text-align: right;\n",
       "    }\n",
       "</style>\n",
       "<table border=\"1\" class=\"dataframe\">\n",
       "  <thead>\n",
       "    <tr style=\"text-align: right;\">\n",
       "      <th></th>\n",
       "      <th></th>\n",
       "      <th>hoursplayed</th>\n",
       "    </tr>\n",
       "    <tr>\n",
       "      <th>userid</th>\n",
       "      <th>name</th>\n",
       "      <th></th>\n",
       "    </tr>\n",
       "  </thead>\n",
       "  <tbody>\n",
       "    <tr>\n",
       "      <th rowspan=\"4\" valign=\"top\">5250</th>\n",
       "      <th>Portal 2</th>\n",
       "      <td>13.6</td>\n",
       "    </tr>\n",
       "    <tr>\n",
       "      <th>Alien Swarm</th>\n",
       "      <td>4.9</td>\n",
       "    </tr>\n",
       "    <tr>\n",
       "      <th>Team Fortress 2</th>\n",
       "      <td>0.8</td>\n",
       "    </tr>\n",
       "    <tr>\n",
       "      <th>Dota 2</th>\n",
       "      <td>0.2</td>\n",
       "    </tr>\n",
       "    <tr>\n",
       "      <th>76767</th>\n",
       "      <th>Counter-Strike</th>\n",
       "      <td>365.0</td>\n",
       "    </tr>\n",
       "    <tr>\n",
       "      <th>...</th>\n",
       "      <th>...</th>\n",
       "      <td>...</td>\n",
       "    </tr>\n",
       "    <tr>\n",
       "      <th rowspan=\"2\" valign=\"top\">309404240</th>\n",
       "      <th>AdVenture Capitalist</th>\n",
       "      <td>0.7</td>\n",
       "    </tr>\n",
       "    <tr>\n",
       "      <th>Transformice</th>\n",
       "      <td>0.3</td>\n",
       "    </tr>\n",
       "    <tr>\n",
       "      <th>309434439</th>\n",
       "      <th>Dota 2</th>\n",
       "      <td>0.8</td>\n",
       "    </tr>\n",
       "    <tr>\n",
       "      <th>309824202</th>\n",
       "      <th>Dota 2</th>\n",
       "      <td>0.7</td>\n",
       "    </tr>\n",
       "    <tr>\n",
       "      <th>309903146</th>\n",
       "      <th>Dota 2</th>\n",
       "      <td>0.2</td>\n",
       "    </tr>\n",
       "  </tbody>\n",
       "</table>\n",
       "<p>36161 rows × 1 columns</p>\n",
       "</div>"
      ],
      "text/plain": [
       "                                hoursplayed\n",
       "userid    name                             \n",
       "5250      Portal 2                     13.6\n",
       "          Alien Swarm                   4.9\n",
       "          Team Fortress 2               0.8\n",
       "          Dota 2                        0.2\n",
       "76767     Counter-Strike              365.0\n",
       "...                                     ...\n",
       "309404240 AdVenture Capitalist          0.7\n",
       "          Transformice                  0.3\n",
       "309434439 Dota 2                        0.8\n",
       "309824202 Dota 2                        0.7\n",
       "309903146 Dota 2                        0.2\n",
       "\n",
       "[36161 rows x 1 columns]"
      ]
     },
     "execution_count": 37,
     "metadata": {},
     "output_type": "execute_result"
    }
   ],
   "source": [
    "test_df.groupby(['userid', 'name']).sum().sort_values(['userid','hoursplayed'], ascending = [True, False])"
   ]
  },
  {
   "cell_type": "code",
   "execution_count": 41,
   "id": "082392e8-5962-4d63-8eae-2ac501be6029",
   "metadata": {},
   "outputs": [],
   "source": [
    "count_df = test_df[test_df['hoursplayed'] > 1]"
   ]
  },
  {
   "cell_type": "code",
   "execution_count": 42,
   "id": "42aacac3-6103-4ab0-ba39-bd45b443ca4d",
   "metadata": {},
   "outputs": [],
   "source": [
    "list_user_more_hour = list(count_df[count_df['hoursplayed'] > 1].index)"
   ]
  },
  {
   "cell_type": "code",
   "execution_count": 43,
   "id": "47e015fb-49a9-4501-97d7-53fff723f6cf",
   "metadata": {},
   "outputs": [
    {
     "data": {
      "text/plain": [
       "7551"
      ]
     },
     "execution_count": 43,
     "metadata": {},
     "output_type": "execute_result"
    }
   ],
   "source": [
    "len(list(set(count_df[count_df['hoursplayed'] > 1].reset_index().userid)))"
   ]
  },
  {
   "cell_type": "code",
   "execution_count": 44,
   "id": "61eee5d9-253f-4d10-9ac5-31081b927b8b",
   "metadata": {},
   "outputs": [
    {
     "ename": "KeyError",
     "evalue": "\"None of [Index(['game'], dtype='object')] are in the [columns]\"",
     "output_type": "error",
     "traceback": [
      "\u001b[0;31m---------------------------------------------------------------------------\u001b[0m",
      "\u001b[0;31mKeyError\u001b[0m                                  Traceback (most recent call last)",
      "Input \u001b[0;32mIn [44]\u001b[0m, in \u001b[0;36m<cell line: 1>\u001b[0;34m()\u001b[0m\n\u001b[0;32m----> 1\u001b[0m sum_df \u001b[38;5;241m=\u001b[39m \u001b[43mtest_df\u001b[49m\u001b[43m[\u001b[49m\u001b[43mtest_df\u001b[49m\u001b[43m[\u001b[49m\u001b[38;5;124;43m'\u001b[39;49m\u001b[38;5;124;43muserid\u001b[39;49m\u001b[38;5;124;43m'\u001b[39;49m\u001b[43m]\u001b[49m\u001b[38;5;241;43m.\u001b[39;49m\u001b[43misin\u001b[49m\u001b[43m(\u001b[49m\u001b[43mlist_user_more_hour\u001b[49m\u001b[43m)\u001b[49m\u001b[43m \u001b[49m\u001b[38;5;241;43m==\u001b[39;49m\u001b[43m \u001b[49m\u001b[38;5;28;43;01mTrue\u001b[39;49;00m\u001b[43m]\u001b[49m\u001b[38;5;241;43m.\u001b[39;49m\u001b[43mgroupby\u001b[49m\u001b[43m(\u001b[49m\u001b[38;5;124;43m'\u001b[39;49m\u001b[38;5;124;43muserid\u001b[39;49m\u001b[38;5;124;43m'\u001b[39;49m\u001b[43m)\u001b[49m\u001b[38;5;241;43m.\u001b[39;49m\u001b[43mcount\u001b[49m\u001b[43m(\u001b[49m\u001b[43m)\u001b[49m\u001b[43m[\u001b[49m\u001b[43m[\u001b[49m\u001b[38;5;124;43m'\u001b[39;49m\u001b[38;5;124;43mgame\u001b[39;49m\u001b[38;5;124;43m'\u001b[39;49m\u001b[43m]\u001b[49m\u001b[43m]\u001b[49m\n",
      "File \u001b[0;32m~/.pyenv/versions/3.8.12/envs/find_your_inner_gamer/lib/python3.8/site-packages/pandas/core/frame.py:3511\u001b[0m, in \u001b[0;36mDataFrame.__getitem__\u001b[0;34m(self, key)\u001b[0m\n\u001b[1;32m   3509\u001b[0m     \u001b[38;5;28;01mif\u001b[39;00m is_iterator(key):\n\u001b[1;32m   3510\u001b[0m         key \u001b[38;5;241m=\u001b[39m \u001b[38;5;28mlist\u001b[39m(key)\n\u001b[0;32m-> 3511\u001b[0m     indexer \u001b[38;5;241m=\u001b[39m \u001b[38;5;28;43mself\u001b[39;49m\u001b[38;5;241;43m.\u001b[39;49m\u001b[43mcolumns\u001b[49m\u001b[38;5;241;43m.\u001b[39;49m\u001b[43m_get_indexer_strict\u001b[49m\u001b[43m(\u001b[49m\u001b[43mkey\u001b[49m\u001b[43m,\u001b[49m\u001b[43m \u001b[49m\u001b[38;5;124;43m\"\u001b[39;49m\u001b[38;5;124;43mcolumns\u001b[39;49m\u001b[38;5;124;43m\"\u001b[39;49m\u001b[43m)\u001b[49m[\u001b[38;5;241m1\u001b[39m]\n\u001b[1;32m   3513\u001b[0m \u001b[38;5;66;03m# take() does not accept boolean indexers\u001b[39;00m\n\u001b[1;32m   3514\u001b[0m \u001b[38;5;28;01mif\u001b[39;00m \u001b[38;5;28mgetattr\u001b[39m(indexer, \u001b[38;5;124m\"\u001b[39m\u001b[38;5;124mdtype\u001b[39m\u001b[38;5;124m\"\u001b[39m, \u001b[38;5;28;01mNone\u001b[39;00m) \u001b[38;5;241m==\u001b[39m \u001b[38;5;28mbool\u001b[39m:\n",
      "File \u001b[0;32m~/.pyenv/versions/3.8.12/envs/find_your_inner_gamer/lib/python3.8/site-packages/pandas/core/indexes/base.py:5782\u001b[0m, in \u001b[0;36mIndex._get_indexer_strict\u001b[0;34m(self, key, axis_name)\u001b[0m\n\u001b[1;32m   5779\u001b[0m \u001b[38;5;28;01melse\u001b[39;00m:\n\u001b[1;32m   5780\u001b[0m     keyarr, indexer, new_indexer \u001b[38;5;241m=\u001b[39m \u001b[38;5;28mself\u001b[39m\u001b[38;5;241m.\u001b[39m_reindex_non_unique(keyarr)\n\u001b[0;32m-> 5782\u001b[0m \u001b[38;5;28;43mself\u001b[39;49m\u001b[38;5;241;43m.\u001b[39;49m\u001b[43m_raise_if_missing\u001b[49m\u001b[43m(\u001b[49m\u001b[43mkeyarr\u001b[49m\u001b[43m,\u001b[49m\u001b[43m \u001b[49m\u001b[43mindexer\u001b[49m\u001b[43m,\u001b[49m\u001b[43m \u001b[49m\u001b[43maxis_name\u001b[49m\u001b[43m)\u001b[49m\n\u001b[1;32m   5784\u001b[0m keyarr \u001b[38;5;241m=\u001b[39m \u001b[38;5;28mself\u001b[39m\u001b[38;5;241m.\u001b[39mtake(indexer)\n\u001b[1;32m   5785\u001b[0m \u001b[38;5;28;01mif\u001b[39;00m \u001b[38;5;28misinstance\u001b[39m(key, Index):\n\u001b[1;32m   5786\u001b[0m     \u001b[38;5;66;03m# GH 42790 - Preserve name from an Index\u001b[39;00m\n",
      "File \u001b[0;32m~/.pyenv/versions/3.8.12/envs/find_your_inner_gamer/lib/python3.8/site-packages/pandas/core/indexes/base.py:5842\u001b[0m, in \u001b[0;36mIndex._raise_if_missing\u001b[0;34m(self, key, indexer, axis_name)\u001b[0m\n\u001b[1;32m   5840\u001b[0m     \u001b[38;5;28;01mif\u001b[39;00m use_interval_msg:\n\u001b[1;32m   5841\u001b[0m         key \u001b[38;5;241m=\u001b[39m \u001b[38;5;28mlist\u001b[39m(key)\n\u001b[0;32m-> 5842\u001b[0m     \u001b[38;5;28;01mraise\u001b[39;00m \u001b[38;5;167;01mKeyError\u001b[39;00m(\u001b[38;5;124mf\u001b[39m\u001b[38;5;124m\"\u001b[39m\u001b[38;5;124mNone of [\u001b[39m\u001b[38;5;132;01m{\u001b[39;00mkey\u001b[38;5;132;01m}\u001b[39;00m\u001b[38;5;124m] are in the [\u001b[39m\u001b[38;5;132;01m{\u001b[39;00maxis_name\u001b[38;5;132;01m}\u001b[39;00m\u001b[38;5;124m]\u001b[39m\u001b[38;5;124m\"\u001b[39m)\n\u001b[1;32m   5844\u001b[0m not_found \u001b[38;5;241m=\u001b[39m \u001b[38;5;28mlist\u001b[39m(ensure_index(key)[missing_mask\u001b[38;5;241m.\u001b[39mnonzero()[\u001b[38;5;241m0\u001b[39m]]\u001b[38;5;241m.\u001b[39munique())\n\u001b[1;32m   5845\u001b[0m \u001b[38;5;28;01mraise\u001b[39;00m \u001b[38;5;167;01mKeyError\u001b[39;00m(\u001b[38;5;124mf\u001b[39m\u001b[38;5;124m\"\u001b[39m\u001b[38;5;132;01m{\u001b[39;00mnot_found\u001b[38;5;132;01m}\u001b[39;00m\u001b[38;5;124m not in index\u001b[39m\u001b[38;5;124m\"\u001b[39m)\n",
      "\u001b[0;31mKeyError\u001b[0m: \"None of [Index(['game'], dtype='object')] are in the [columns]\""
     ]
    }
   ],
   "source": [
    "sum_df = test_df[test_df['userid'].isin(list_user_more_hour) == True].groupby('userid').count()[['game']]"
   ]
  },
  {
   "cell_type": "code",
   "execution_count": null,
   "id": "ab684bfa-ee44-47d0-a9a5-c1c1e654f06c",
   "metadata": {},
   "outputs": [],
   "source": [
    "sum_df"
   ]
  },
  {
   "cell_type": "code",
   "execution_count": null,
   "id": "1cb0e1f4-bab0-40a7-8b2f-584f39d1ae91",
   "metadata": {},
   "outputs": [],
   "source": [
    "list_user_more_game = list(sum_df[sum_df['game'] > 1].index)"
   ]
  },
  {
   "cell_type": "code",
   "execution_count": null,
   "id": "cc764fbd-d950-4200-a820-e876eef4f2d6",
   "metadata": {},
   "outputs": [],
   "source": [
    "final_test_df = test_df[test_df['userid'].isin(list_user_more_game) == True]"
   ]
  },
  {
   "cell_type": "code",
   "execution_count": 45,
   "id": "3e6d5b3b-783f-46e5-8590-fae524ce43a5",
   "metadata": {},
   "outputs": [
    {
     "ename": "KeyError",
     "evalue": "\"None of [Index(['game'], dtype='object')] are in the [columns]\"",
     "output_type": "error",
     "traceback": [
      "\u001b[0;31m---------------------------------------------------------------------------\u001b[0m",
      "\u001b[0;31mKeyError\u001b[0m                                  Traceback (most recent call last)",
      "Input \u001b[0;32mIn [45]\u001b[0m, in \u001b[0;36m<cell line: 1>\u001b[0;34m()\u001b[0m\n\u001b[0;32m----> 1\u001b[0m game_df \u001b[38;5;241m=\u001b[39m \u001b[43mtest_df\u001b[49m\u001b[38;5;241;43m.\u001b[39;49m\u001b[43mgroupby\u001b[49m\u001b[43m(\u001b[49m\u001b[38;5;124;43m'\u001b[39;49m\u001b[38;5;124;43muserid\u001b[39;49m\u001b[38;5;124;43m'\u001b[39;49m\u001b[43m)\u001b[49m\u001b[38;5;241;43m.\u001b[39;49m\u001b[43mcount\u001b[49m\u001b[43m(\u001b[49m\u001b[43m)\u001b[49m\u001b[43m[\u001b[49m\u001b[43m[\u001b[49m\u001b[38;5;124;43m'\u001b[39;49m\u001b[38;5;124;43mgame\u001b[39;49m\u001b[38;5;124;43m'\u001b[39;49m\u001b[43m]\u001b[49m\u001b[43m]\u001b[49m\n",
      "File \u001b[0;32m~/.pyenv/versions/3.8.12/envs/find_your_inner_gamer/lib/python3.8/site-packages/pandas/core/frame.py:3511\u001b[0m, in \u001b[0;36mDataFrame.__getitem__\u001b[0;34m(self, key)\u001b[0m\n\u001b[1;32m   3509\u001b[0m     \u001b[38;5;28;01mif\u001b[39;00m is_iterator(key):\n\u001b[1;32m   3510\u001b[0m         key \u001b[38;5;241m=\u001b[39m \u001b[38;5;28mlist\u001b[39m(key)\n\u001b[0;32m-> 3511\u001b[0m     indexer \u001b[38;5;241m=\u001b[39m \u001b[38;5;28;43mself\u001b[39;49m\u001b[38;5;241;43m.\u001b[39;49m\u001b[43mcolumns\u001b[49m\u001b[38;5;241;43m.\u001b[39;49m\u001b[43m_get_indexer_strict\u001b[49m\u001b[43m(\u001b[49m\u001b[43mkey\u001b[49m\u001b[43m,\u001b[49m\u001b[43m \u001b[49m\u001b[38;5;124;43m\"\u001b[39;49m\u001b[38;5;124;43mcolumns\u001b[39;49m\u001b[38;5;124;43m\"\u001b[39;49m\u001b[43m)\u001b[49m[\u001b[38;5;241m1\u001b[39m]\n\u001b[1;32m   3513\u001b[0m \u001b[38;5;66;03m# take() does not accept boolean indexers\u001b[39;00m\n\u001b[1;32m   3514\u001b[0m \u001b[38;5;28;01mif\u001b[39;00m \u001b[38;5;28mgetattr\u001b[39m(indexer, \u001b[38;5;124m\"\u001b[39m\u001b[38;5;124mdtype\u001b[39m\u001b[38;5;124m\"\u001b[39m, \u001b[38;5;28;01mNone\u001b[39;00m) \u001b[38;5;241m==\u001b[39m \u001b[38;5;28mbool\u001b[39m:\n",
      "File \u001b[0;32m~/.pyenv/versions/3.8.12/envs/find_your_inner_gamer/lib/python3.8/site-packages/pandas/core/indexes/base.py:5782\u001b[0m, in \u001b[0;36mIndex._get_indexer_strict\u001b[0;34m(self, key, axis_name)\u001b[0m\n\u001b[1;32m   5779\u001b[0m \u001b[38;5;28;01melse\u001b[39;00m:\n\u001b[1;32m   5780\u001b[0m     keyarr, indexer, new_indexer \u001b[38;5;241m=\u001b[39m \u001b[38;5;28mself\u001b[39m\u001b[38;5;241m.\u001b[39m_reindex_non_unique(keyarr)\n\u001b[0;32m-> 5782\u001b[0m \u001b[38;5;28;43mself\u001b[39;49m\u001b[38;5;241;43m.\u001b[39;49m\u001b[43m_raise_if_missing\u001b[49m\u001b[43m(\u001b[49m\u001b[43mkeyarr\u001b[49m\u001b[43m,\u001b[49m\u001b[43m \u001b[49m\u001b[43mindexer\u001b[49m\u001b[43m,\u001b[49m\u001b[43m \u001b[49m\u001b[43maxis_name\u001b[49m\u001b[43m)\u001b[49m\n\u001b[1;32m   5784\u001b[0m keyarr \u001b[38;5;241m=\u001b[39m \u001b[38;5;28mself\u001b[39m\u001b[38;5;241m.\u001b[39mtake(indexer)\n\u001b[1;32m   5785\u001b[0m \u001b[38;5;28;01mif\u001b[39;00m \u001b[38;5;28misinstance\u001b[39m(key, Index):\n\u001b[1;32m   5786\u001b[0m     \u001b[38;5;66;03m# GH 42790 - Preserve name from an Index\u001b[39;00m\n",
      "File \u001b[0;32m~/.pyenv/versions/3.8.12/envs/find_your_inner_gamer/lib/python3.8/site-packages/pandas/core/indexes/base.py:5842\u001b[0m, in \u001b[0;36mIndex._raise_if_missing\u001b[0;34m(self, key, indexer, axis_name)\u001b[0m\n\u001b[1;32m   5840\u001b[0m     \u001b[38;5;28;01mif\u001b[39;00m use_interval_msg:\n\u001b[1;32m   5841\u001b[0m         key \u001b[38;5;241m=\u001b[39m \u001b[38;5;28mlist\u001b[39m(key)\n\u001b[0;32m-> 5842\u001b[0m     \u001b[38;5;28;01mraise\u001b[39;00m \u001b[38;5;167;01mKeyError\u001b[39;00m(\u001b[38;5;124mf\u001b[39m\u001b[38;5;124m\"\u001b[39m\u001b[38;5;124mNone of [\u001b[39m\u001b[38;5;132;01m{\u001b[39;00mkey\u001b[38;5;132;01m}\u001b[39;00m\u001b[38;5;124m] are in the [\u001b[39m\u001b[38;5;132;01m{\u001b[39;00maxis_name\u001b[38;5;132;01m}\u001b[39;00m\u001b[38;5;124m]\u001b[39m\u001b[38;5;124m\"\u001b[39m)\n\u001b[1;32m   5844\u001b[0m not_found \u001b[38;5;241m=\u001b[39m \u001b[38;5;28mlist\u001b[39m(ensure_index(key)[missing_mask\u001b[38;5;241m.\u001b[39mnonzero()[\u001b[38;5;241m0\u001b[39m]]\u001b[38;5;241m.\u001b[39munique())\n\u001b[1;32m   5845\u001b[0m \u001b[38;5;28;01mraise\u001b[39;00m \u001b[38;5;167;01mKeyError\u001b[39;00m(\u001b[38;5;124mf\u001b[39m\u001b[38;5;124m\"\u001b[39m\u001b[38;5;132;01m{\u001b[39;00mnot_found\u001b[38;5;132;01m}\u001b[39;00m\u001b[38;5;124m not in index\u001b[39m\u001b[38;5;124m\"\u001b[39m)\n",
      "\u001b[0;31mKeyError\u001b[0m: \"None of [Index(['game'], dtype='object')] are in the [columns]\""
     ]
    }
   ],
   "source": [
    "game_df = test_df.groupby('userid').count()[['game']]"
   ]
  },
  {
   "cell_type": "code",
   "execution_count": null,
   "id": "685ffad1-f183-485c-8200-c481af13ac2b",
   "metadata": {
    "tags": []
   },
   "outputs": [],
   "source": [
    "list(game_df[game_df['game'] > 1].index)"
   ]
  },
  {
   "cell_type": "code",
   "execution_count": null,
   "id": "c73960b5-19f3-44fc-acc1-91aabe5e4bad",
   "metadata": {},
   "outputs": [],
   "source": [
    "final_test_df.groupby(['userid','game']).sum().sort_values('hoursplayed')"
   ]
  },
  {
   "cell_type": "markdown",
   "id": "46303309-80fd-4843-b3ce-4de54368050a",
   "metadata": {
    "tags": []
   },
   "source": [
    "## Game Description"
   ]
  },
  {
   "cell_type": "code",
   "execution_count": 46,
   "id": "e6295d98-5aad-4675-a364-47df9a40a1d7",
   "metadata": {},
   "outputs": [],
   "source": [
    "from nltk.stem import WordNetLemmatizer\n",
    "\n",
    "def clean_2 (text):\n",
    "    \n",
    "    for punctuation in string.punctuation:\n",
    "        text = text.replace(punctuation, ' ') # Remove Punctuation\n",
    "        \n",
    "    lowercased = text.lower() # Lower Case\n",
    "    lemmatizer = WordNetLemmatizer()\n",
    "    #lemmatized = [lemmatizer.lemmatize(word) for word in lowercased]\n",
    "    #lowercased = lemmatized     \n",
    "    tokenized = word_tokenize(lowercased) # Tokenize\n",
    "    words_only = [word for word in tokenized if word.isalpha()] # Remove numbers\n",
    "    stop_words = set(stopwords.words('English')) # Make stopword list\n",
    "    without_stopwords = [word for word in words_only if not word in stop_words]# Remove Stop Words\n",
    "    lemmatized = [lemmatizer.lemmatize(word) for word in without_stopwords]\n",
    "    \n",
    "    return \" \".join(lemmatized)\n",
    "\n"
   ]
  },
  {
   "cell_type": "code",
   "execution_count": 47,
   "id": "fa3bf3dd-8aeb-4587-bf86-0f51ca9e9292",
   "metadata": {},
   "outputs": [],
   "source": [
    "df['game_description']= df['game_description'].fillna('')\n",
    "df['clean_des'] = df['game_description'].apply(clean_2)\n",
    "#df = df.drop(['game_description'],axis  =1)"
   ]
  },
  {
   "cell_type": "code",
   "execution_count": 65,
   "id": "c02ed17b-7fe7-422e-8591-b98a30e1198c",
   "metadata": {},
   "outputs": [],
   "source": [
    "# Tuned TFidfvectorizer\n",
    "vec_2 = TfidfVectorizer(min_df = 0.2).fit(df.clean_des)\n",
    "vectors_2 = vec_2.transform(df.clean_des) # Transform text to vectors\n"
   ]
  },
  {
   "cell_type": "code",
   "execution_count": 66,
   "id": "6d9fac5d-e2be-49e6-ac8a-b6c11d1ffde1",
   "metadata": {},
   "outputs": [],
   "source": [
    "X_proj_2 = pd.DataFrame(vectors_2.toarray(), index=df.name.tolist())\n",
    "\n",
    "# Define X and y\n",
    "y = X_proj_2[0]\n",
    "knn_model = KNeighborsRegressor().fit(X_proj_2,y) "
   ]
  },
  {
   "cell_type": "code",
   "execution_count": 67,
   "id": "86ce4dd4-3787-4c01-a890-8d468c270ca1",
   "metadata": {},
   "outputs": [
    {
     "data": {
      "text/plain": [
       "distance    0.513091\n",
       "Name: Blood of Patriots, dtype: float64"
      ]
     },
     "execution_count": 67,
     "metadata": {},
     "output_type": "execute_result"
    }
   ],
   "source": [
    "neighbors_list = list(knn_model.kneighbors(X_proj_2.loc[['QUAKE II']],n_neighbors=38021)[1][0])\n",
    "pd.DataFrame(knn_model.kneighbors(X_proj_2.loc[['QUAKE II']],n_neighbors=38021)[0][0], index = X_proj_2.iloc[neighbors_list, :].index, columns = ['distance']).loc['Blood of Patriots']"
   ]
  },
  {
   "cell_type": "code",
   "execution_count": 68,
   "id": "fccc8e18-6a3b-42cd-9f25-42a78f1d7b8d",
   "metadata": {
    "tags": []
   },
   "outputs": [
    {
     "data": {
      "text/html": [
       "<div>\n",
       "<style scoped>\n",
       "    .dataframe tbody tr th:only-of-type {\n",
       "        vertical-align: middle;\n",
       "    }\n",
       "\n",
       "    .dataframe tbody tr th {\n",
       "        vertical-align: top;\n",
       "    }\n",
       "\n",
       "    .dataframe thead th {\n",
       "        text-align: right;\n",
       "    }\n",
       "</style>\n",
       "<table border=\"1\" class=\"dataframe\">\n",
       "  <thead>\n",
       "    <tr style=\"text-align: right;\">\n",
       "      <th></th>\n",
       "      <th>distance</th>\n",
       "    </tr>\n",
       "  </thead>\n",
       "  <tbody>\n",
       "    <tr>\n",
       "      <th>DOOM</th>\n",
       "      <td>0.000000</td>\n",
       "    </tr>\n",
       "    <tr>\n",
       "      <th>Pumped BMX +</th>\n",
       "      <td>0.367757</td>\n",
       "    </tr>\n",
       "    <tr>\n",
       "      <th>ShapeRockets</th>\n",
       "      <td>0.416261</td>\n",
       "    </tr>\n",
       "    <tr>\n",
       "      <th>The Isle</th>\n",
       "      <td>0.418785</td>\n",
       "    </tr>\n",
       "    <tr>\n",
       "      <th>Pop Island - Let's Code !!!</th>\n",
       "      <td>0.427378</td>\n",
       "    </tr>\n",
       "    <tr>\n",
       "      <th>Braveland Heroes</th>\n",
       "      <td>0.429762</td>\n",
       "    </tr>\n",
       "    <tr>\n",
       "      <th>Dragon Souls</th>\n",
       "      <td>0.435963</td>\n",
       "    </tr>\n",
       "    <tr>\n",
       "      <th>DayZ</th>\n",
       "      <td>0.436352</td>\n",
       "    </tr>\n",
       "    <tr>\n",
       "      <th>Eden Rising</th>\n",
       "      <td>0.439171</td>\n",
       "    </tr>\n",
       "    <tr>\n",
       "      <th>Onirism</th>\n",
       "      <td>0.448336</td>\n",
       "    </tr>\n",
       "  </tbody>\n",
       "</table>\n",
       "</div>"
      ],
      "text/plain": [
       "                             distance\n",
       "DOOM                         0.000000\n",
       "Pumped BMX +                 0.367757\n",
       "ShapeRockets                 0.416261\n",
       "The Isle                     0.418785\n",
       "Pop Island - Let's Code !!!  0.427378\n",
       "Braveland Heroes             0.429762\n",
       "Dragon Souls                 0.435963\n",
       "DayZ                         0.436352\n",
       "Eden Rising                  0.439171\n",
       "Onirism                      0.448336"
      ]
     },
     "execution_count": 68,
     "metadata": {},
     "output_type": "execute_result"
    }
   ],
   "source": [
    "neighbors_list = list(knn_model.kneighbors(X_proj_2.loc[['DOOM']],n_neighbors=10)[1][0])\n",
    "pd.DataFrame(knn_model.kneighbors(X_proj_2.loc[['DOOM']],n_neighbors=10)[0][0], index = X_proj_2.iloc[neighbors_list, :].index, columns = ['distance'])"
   ]
  },
  {
   "cell_type": "code",
   "execution_count": 52,
   "id": "71748311-c0dc-4f6e-8502-9325fc2591c1",
   "metadata": {},
   "outputs": [
    {
     "data": {
      "text/plain": [
       "array([0.41313401])"
      ]
     },
     "execution_count": 52,
     "metadata": {},
     "output_type": "execute_result"
    }
   ],
   "source": [
    "knn_model.predict(X_proj_2.loc[['Battlegun']])"
   ]
  },
  {
   "cell_type": "code",
   "execution_count": 69,
   "id": "b174e51d-4afa-4186-9b9a-c5ae4261a021",
   "metadata": {},
   "outputs": [
    {
     "data": {
      "text/plain": [
       "[0, 7249, 18005, 155, 32474, 4171, 34838, 3, 916, 3625]"
      ]
     },
     "execution_count": 69,
     "metadata": {},
     "output_type": "execute_result"
    }
   ],
   "source": [
    "neighbors_list"
   ]
  },
  {
   "cell_type": "code",
   "execution_count": 70,
   "id": "582d3043-0559-4cbc-a239-d75f9146152f",
   "metadata": {},
   "outputs": [
    {
     "data": {
      "text/plain": [
       "Index(['DOOM', 'Pumped BMX +', 'ShapeRockets', 'The Isle',\n",
       "       'Pop Island - Let's Code !!!', 'Braveland Heroes', 'Dragon Souls',\n",
       "       'DayZ', 'Eden Rising', 'Onirism'],\n",
       "      dtype='object')"
      ]
     },
     "execution_count": 70,
     "metadata": {},
     "output_type": "execute_result"
    }
   ],
   "source": [
    "X_proj_2.iloc[neighbors_list, :].index"
   ]
  },
  {
   "cell_type": "code",
   "execution_count": 53,
   "id": "802de742-b3b5-4050-a593-8cfe57abe082",
   "metadata": {},
   "outputs": [
    {
     "data": {
      "text/plain": [
       "array([0.        , 0.36775738, 0.41626061, 0.41878506, 0.42737789,\n",
       "       0.42976182, 0.43596269, 0.43635249, 0.43917078, 0.44833614])"
      ]
     },
     "execution_count": 53,
     "metadata": {},
     "output_type": "execute_result"
    }
   ],
   "source": [
    "knn_model.kneighbors(X_proj_2.loc[['DOOM']],n_neighbors=10)[0][0]"
   ]
  },
  {
   "cell_type": "markdown",
   "id": "c899720d-376c-410a-9014-e255aaf2d465",
   "metadata": {
    "tags": []
   },
   "source": [
    "## TESTING MODELS"
   ]
  },
  {
   "cell_type": "code",
   "execution_count": 54,
   "id": "f45d97ed-6f05-4922-864a-f32767f53eba",
   "metadata": {},
   "outputs": [],
   "source": [
    "user_df = pd.read_csv('../raw_data/steam-200k.csv',usecols=[0,1,2,3],names=['userid','game','behavior','hoursplayed'])"
   ]
  },
  {
   "cell_type": "code",
   "execution_count": 55,
   "id": "c9ecc400-18c3-43fb-b814-ca31bfa71a61",
   "metadata": {},
   "outputs": [],
   "source": [
    "df_play = user_df[user_df['behavior']=='play']"
   ]
  },
  {
   "cell_type": "code",
   "execution_count": 56,
   "id": "ac98ace7-f42d-4779-a7fd-4f9324edab2e",
   "metadata": {},
   "outputs": [],
   "source": [
    "df_play=df_play.drop(columns='behavior')"
   ]
  },
  {
   "cell_type": "code",
   "execution_count": 57,
   "id": "9a4a0f72-83d8-47be-9029-e2db308d63bc",
   "metadata": {},
   "outputs": [],
   "source": [
    "user_name= pd.DataFrame(df_play['game'].unique(),columns=['name'])"
   ]
  },
  {
   "cell_type": "code",
   "execution_count": 58,
   "id": "95aa65dd-42f2-4dcf-b8b9-e83109870c64",
   "metadata": {},
   "outputs": [],
   "source": [
    "join_df=df.merge(user_name, on='name')\n",
    "join_name = list(join_df.name.unique())"
   ]
  },
  {
   "cell_type": "code",
   "execution_count": 59,
   "id": "b982af1b-be78-4440-86ee-50cb921f8b02",
   "metadata": {},
   "outputs": [],
   "source": [
    "df_play = df_play[df_play['game'].isin(join_name)]"
   ]
  },
  {
   "cell_type": "code",
   "execution_count": 60,
   "id": "5e74babb-bca7-40c6-b78d-d25be158bd6d",
   "metadata": {},
   "outputs": [],
   "source": [
    "game_df = df_play.groupby('userid').count()[['game']]\n",
    "user_list=list(game_df[game_df['game'] > 1].index)"
   ]
  },
  {
   "cell_type": "code",
   "execution_count": 61,
   "id": "d2972e0b-619e-4677-bfb4-705a89358a75",
   "metadata": {},
   "outputs": [],
   "source": [
    "def get_fav_games(df,user):\n",
    "    db = df[df['userid']==user].sort_values(by='hoursplayed', ascending=False)\n",
    "    return list(db['game'].iloc[0:2])\n",
    "\n",
    "def get_user_list(df):\n",
    "    temp_df=df.groupby('userid').count()[['game']]\n",
    "    return list(temp_df[temp_df['game']>1].index)\n",
    "\n",
    "def get_fav_list(df):\n",
    "    user_list= get_user_list(df)\n",
    "    fav_list=[]\n",
    "    for user in user_list:\n",
    "        fav_list.append(get_fav_games(df,user))\n",
    "    fav1=[]\n",
    "    fav2=[]\n",
    "    for fav in fav_list:\n",
    "        fav1.append(fav[0])\n",
    "        fav2.append(fav[1])\n",
    "    return pd.DataFrame(data=list(zip( fav1, fav2)),\n",
    "                         columns=['most_fav_game', 'sec_fav_game'],index=user_list)"
   ]
  },
  {
   "cell_type": "code",
   "execution_count": 62,
   "id": "c7959f9f-3a66-4ca3-992f-64a62f4c5d97",
   "metadata": {},
   "outputs": [],
   "source": [
    "test_df = get_fav_list(df_play)"
   ]
  },
  {
   "cell_type": "code",
   "execution_count": 296,
   "id": "e224da61-bfbf-4210-9fc2-ed1574e14250",
   "metadata": {},
   "outputs": [],
   "source": [
    "test_df['distance_1'] = ''"
   ]
  },
  {
   "cell_type": "code",
   "execution_count": 297,
   "id": "86dd9a54-34d5-4229-9dc4-7c1cd86aa8b0",
   "metadata": {
    "tags": []
   },
   "outputs": [],
   "source": [
    "for index, row in test_df.iterrows():\n",
    "    res = pd.DataFrame(knn_model.kneighbors(X_proj.loc[[row['most_fav_game']]],n_neighbors=df.shape[0])[0][0], index = X_proj.iloc[neighbors_list, :]\\\n",
    "             .index, columns = ['distance_1']).loc[row['sec_fav_game']][0]\n",
    "    test_df.loc[index, 'distance_1'] = res\n"
   ]
  },
  {
   "cell_type": "code",
   "execution_count": 63,
   "id": "036ca76d-1a48-47f7-8617-e7496ac9bf5f",
   "metadata": {},
   "outputs": [
    {
     "data": {
      "text/html": [
       "<div>\n",
       "<style scoped>\n",
       "    .dataframe tbody tr th:only-of-type {\n",
       "        vertical-align: middle;\n",
       "    }\n",
       "\n",
       "    .dataframe tbody tr th {\n",
       "        vertical-align: top;\n",
       "    }\n",
       "\n",
       "    .dataframe thead th {\n",
       "        text-align: right;\n",
       "    }\n",
       "</style>\n",
       "<table border=\"1\" class=\"dataframe\">\n",
       "  <thead>\n",
       "    <tr style=\"text-align: right;\">\n",
       "      <th></th>\n",
       "      <th>0</th>\n",
       "      <th>1</th>\n",
       "      <th>2</th>\n",
       "      <th>3</th>\n",
       "      <th>4</th>\n",
       "      <th>5</th>\n",
       "      <th>6</th>\n",
       "      <th>7</th>\n",
       "      <th>8</th>\n",
       "      <th>9</th>\n",
       "      <th>...</th>\n",
       "      <th>22</th>\n",
       "      <th>23</th>\n",
       "      <th>24</th>\n",
       "      <th>25</th>\n",
       "      <th>26</th>\n",
       "      <th>27</th>\n",
       "      <th>28</th>\n",
       "      <th>29</th>\n",
       "      <th>30</th>\n",
       "      <th>31</th>\n",
       "    </tr>\n",
       "  </thead>\n",
       "  <tbody>\n",
       "    <tr>\n",
       "      <th>DOOM</th>\n",
       "      <td>0.000000</td>\n",
       "      <td>0.146101</td>\n",
       "      <td>0.000000</td>\n",
       "      <td>0.275495</td>\n",
       "      <td>0.000000</td>\n",
       "      <td>0.000000</td>\n",
       "      <td>0.298439</td>\n",
       "      <td>0.307517</td>\n",
       "      <td>0.000000</td>\n",
       "      <td>0.000000</td>\n",
       "      <td>...</td>\n",
       "      <td>0.000000</td>\n",
       "      <td>0.309003</td>\n",
       "      <td>0.000000</td>\n",
       "      <td>0.214804</td>\n",
       "      <td>0.271478</td>\n",
       "      <td>0.0</td>\n",
       "      <td>0.000000</td>\n",
       "      <td>0.0</td>\n",
       "      <td>0.0</td>\n",
       "      <td>0.000000</td>\n",
       "    </tr>\n",
       "    <tr>\n",
       "      <th>Pumped BMX +</th>\n",
       "      <td>0.000000</td>\n",
       "      <td>0.000000</td>\n",
       "      <td>0.000000</td>\n",
       "      <td>0.000000</td>\n",
       "      <td>0.000000</td>\n",
       "      <td>0.000000</td>\n",
       "      <td>0.000000</td>\n",
       "      <td>0.000000</td>\n",
       "      <td>0.000000</td>\n",
       "      <td>0.000000</td>\n",
       "      <td>...</td>\n",
       "      <td>0.000000</td>\n",
       "      <td>0.000000</td>\n",
       "      <td>0.000000</td>\n",
       "      <td>0.000000</td>\n",
       "      <td>0.000000</td>\n",
       "      <td>0.0</td>\n",
       "      <td>0.000000</td>\n",
       "      <td>0.0</td>\n",
       "      <td>0.0</td>\n",
       "      <td>0.000000</td>\n",
       "    </tr>\n",
       "    <tr>\n",
       "      <th>ShapeRockets</th>\n",
       "      <td>0.000000</td>\n",
       "      <td>0.313192</td>\n",
       "      <td>0.000000</td>\n",
       "      <td>0.000000</td>\n",
       "      <td>0.000000</td>\n",
       "      <td>0.000000</td>\n",
       "      <td>0.000000</td>\n",
       "      <td>0.000000</td>\n",
       "      <td>0.000000</td>\n",
       "      <td>0.000000</td>\n",
       "      <td>...</td>\n",
       "      <td>0.000000</td>\n",
       "      <td>0.662400</td>\n",
       "      <td>0.000000</td>\n",
       "      <td>0.000000</td>\n",
       "      <td>0.000000</td>\n",
       "      <td>0.0</td>\n",
       "      <td>0.000000</td>\n",
       "      <td>0.0</td>\n",
       "      <td>0.0</td>\n",
       "      <td>0.000000</td>\n",
       "    </tr>\n",
       "    <tr>\n",
       "      <th>The Isle</th>\n",
       "      <td>0.264294</td>\n",
       "      <td>0.144095</td>\n",
       "      <td>0.158200</td>\n",
       "      <td>0.000000</td>\n",
       "      <td>0.299058</td>\n",
       "      <td>0.000000</td>\n",
       "      <td>0.294341</td>\n",
       "      <td>0.000000</td>\n",
       "      <td>0.264294</td>\n",
       "      <td>0.000000</td>\n",
       "      <td>...</td>\n",
       "      <td>0.204469</td>\n",
       "      <td>0.000000</td>\n",
       "      <td>0.187222</td>\n",
       "      <td>0.000000</td>\n",
       "      <td>0.000000</td>\n",
       "      <td>0.0</td>\n",
       "      <td>0.193135</td>\n",
       "      <td>0.0</td>\n",
       "      <td>0.0</td>\n",
       "      <td>0.309852</td>\n",
       "    </tr>\n",
       "    <tr>\n",
       "      <th>Pop Island - Let's Code !!!</th>\n",
       "      <td>0.000000</td>\n",
       "      <td>0.548985</td>\n",
       "      <td>0.000000</td>\n",
       "      <td>0.000000</td>\n",
       "      <td>0.000000</td>\n",
       "      <td>0.000000</td>\n",
       "      <td>0.000000</td>\n",
       "      <td>0.000000</td>\n",
       "      <td>0.000000</td>\n",
       "      <td>0.000000</td>\n",
       "      <td>...</td>\n",
       "      <td>0.000000</td>\n",
       "      <td>0.000000</td>\n",
       "      <td>0.713297</td>\n",
       "      <td>0.000000</td>\n",
       "      <td>0.000000</td>\n",
       "      <td>0.0</td>\n",
       "      <td>0.000000</td>\n",
       "      <td>0.0</td>\n",
       "      <td>0.0</td>\n",
       "      <td>0.000000</td>\n",
       "    </tr>\n",
       "    <tr>\n",
       "      <th>Braveland Heroes</th>\n",
       "      <td>0.208129</td>\n",
       "      <td>0.000000</td>\n",
       "      <td>0.124581</td>\n",
       "      <td>0.213971</td>\n",
       "      <td>0.471010</td>\n",
       "      <td>0.126895</td>\n",
       "      <td>0.231791</td>\n",
       "      <td>0.000000</td>\n",
       "      <td>0.208129</td>\n",
       "      <td>0.236091</td>\n",
       "      <td>...</td>\n",
       "      <td>0.322034</td>\n",
       "      <td>0.000000</td>\n",
       "      <td>0.000000</td>\n",
       "      <td>0.000000</td>\n",
       "      <td>0.000000</td>\n",
       "      <td>0.0</td>\n",
       "      <td>0.304184</td>\n",
       "      <td>0.0</td>\n",
       "      <td>0.0</td>\n",
       "      <td>0.000000</td>\n",
       "    </tr>\n",
       "    <tr>\n",
       "      <th>Dragon Souls</th>\n",
       "      <td>0.000000</td>\n",
       "      <td>0.242566</td>\n",
       "      <td>0.266310</td>\n",
       "      <td>0.000000</td>\n",
       "      <td>0.000000</td>\n",
       "      <td>0.000000</td>\n",
       "      <td>0.000000</td>\n",
       "      <td>0.000000</td>\n",
       "      <td>0.000000</td>\n",
       "      <td>0.000000</td>\n",
       "      <td>...</td>\n",
       "      <td>0.344198</td>\n",
       "      <td>0.000000</td>\n",
       "      <td>0.000000</td>\n",
       "      <td>0.000000</td>\n",
       "      <td>0.000000</td>\n",
       "      <td>0.0</td>\n",
       "      <td>0.325120</td>\n",
       "      <td>0.0</td>\n",
       "      <td>0.0</td>\n",
       "      <td>0.000000</td>\n",
       "    </tr>\n",
       "    <tr>\n",
       "      <th>DayZ</th>\n",
       "      <td>0.234482</td>\n",
       "      <td>0.127841</td>\n",
       "      <td>0.140355</td>\n",
       "      <td>0.241064</td>\n",
       "      <td>0.000000</td>\n",
       "      <td>0.000000</td>\n",
       "      <td>0.261140</td>\n",
       "      <td>0.000000</td>\n",
       "      <td>0.234482</td>\n",
       "      <td>0.000000</td>\n",
       "      <td>...</td>\n",
       "      <td>0.000000</td>\n",
       "      <td>0.270383</td>\n",
       "      <td>0.166104</td>\n",
       "      <td>0.000000</td>\n",
       "      <td>0.000000</td>\n",
       "      <td>0.0</td>\n",
       "      <td>0.000000</td>\n",
       "      <td>0.0</td>\n",
       "      <td>0.0</td>\n",
       "      <td>0.274902</td>\n",
       "    </tr>\n",
       "    <tr>\n",
       "      <th>Eden Rising</th>\n",
       "      <td>0.226078</td>\n",
       "      <td>0.123259</td>\n",
       "      <td>0.135325</td>\n",
       "      <td>0.000000</td>\n",
       "      <td>0.000000</td>\n",
       "      <td>0.000000</td>\n",
       "      <td>0.503561</td>\n",
       "      <td>0.000000</td>\n",
       "      <td>0.226078</td>\n",
       "      <td>0.000000</td>\n",
       "      <td>...</td>\n",
       "      <td>0.174903</td>\n",
       "      <td>0.000000</td>\n",
       "      <td>0.000000</td>\n",
       "      <td>0.000000</td>\n",
       "      <td>0.000000</td>\n",
       "      <td>0.0</td>\n",
       "      <td>0.165209</td>\n",
       "      <td>0.0</td>\n",
       "      <td>0.0</td>\n",
       "      <td>0.265049</td>\n",
       "    </tr>\n",
       "    <tr>\n",
       "      <th>Onirism</th>\n",
       "      <td>0.593103</td>\n",
       "      <td>0.323363</td>\n",
       "      <td>0.355017</td>\n",
       "      <td>0.000000</td>\n",
       "      <td>0.000000</td>\n",
       "      <td>0.000000</td>\n",
       "      <td>0.000000</td>\n",
       "      <td>0.000000</td>\n",
       "      <td>0.593103</td>\n",
       "      <td>0.000000</td>\n",
       "      <td>...</td>\n",
       "      <td>0.000000</td>\n",
       "      <td>0.000000</td>\n",
       "      <td>0.000000</td>\n",
       "      <td>0.000000</td>\n",
       "      <td>0.000000</td>\n",
       "      <td>0.0</td>\n",
       "      <td>0.000000</td>\n",
       "      <td>0.0</td>\n",
       "      <td>0.0</td>\n",
       "      <td>0.000000</td>\n",
       "    </tr>\n",
       "  </tbody>\n",
       "</table>\n",
       "<p>10 rows × 32 columns</p>\n",
       "</div>"
      ],
      "text/plain": [
       "                                   0         1         2         3         4   \\\n",
       "DOOM                         0.000000  0.146101  0.000000  0.275495  0.000000   \n",
       "Pumped BMX +                 0.000000  0.000000  0.000000  0.000000  0.000000   \n",
       "ShapeRockets                 0.000000  0.313192  0.000000  0.000000  0.000000   \n",
       "The Isle                     0.264294  0.144095  0.158200  0.000000  0.299058   \n",
       "Pop Island - Let's Code !!!  0.000000  0.548985  0.000000  0.000000  0.000000   \n",
       "Braveland Heroes             0.208129  0.000000  0.124581  0.213971  0.471010   \n",
       "Dragon Souls                 0.000000  0.242566  0.266310  0.000000  0.000000   \n",
       "DayZ                         0.234482  0.127841  0.140355  0.241064  0.000000   \n",
       "Eden Rising                  0.226078  0.123259  0.135325  0.000000  0.000000   \n",
       "Onirism                      0.593103  0.323363  0.355017  0.000000  0.000000   \n",
       "\n",
       "                                   5         6         7         8         9   \\\n",
       "DOOM                         0.000000  0.298439  0.307517  0.000000  0.000000   \n",
       "Pumped BMX +                 0.000000  0.000000  0.000000  0.000000  0.000000   \n",
       "ShapeRockets                 0.000000  0.000000  0.000000  0.000000  0.000000   \n",
       "The Isle                     0.000000  0.294341  0.000000  0.264294  0.000000   \n",
       "Pop Island - Let's Code !!!  0.000000  0.000000  0.000000  0.000000  0.000000   \n",
       "Braveland Heroes             0.126895  0.231791  0.000000  0.208129  0.236091   \n",
       "Dragon Souls                 0.000000  0.000000  0.000000  0.000000  0.000000   \n",
       "DayZ                         0.000000  0.261140  0.000000  0.234482  0.000000   \n",
       "Eden Rising                  0.000000  0.503561  0.000000  0.226078  0.000000   \n",
       "Onirism                      0.000000  0.000000  0.000000  0.593103  0.000000   \n",
       "\n",
       "                             ...        22        23        24        25  \\\n",
       "DOOM                         ...  0.000000  0.309003  0.000000  0.214804   \n",
       "Pumped BMX +                 ...  0.000000  0.000000  0.000000  0.000000   \n",
       "ShapeRockets                 ...  0.000000  0.662400  0.000000  0.000000   \n",
       "The Isle                     ...  0.204469  0.000000  0.187222  0.000000   \n",
       "Pop Island - Let's Code !!!  ...  0.000000  0.000000  0.713297  0.000000   \n",
       "Braveland Heroes             ...  0.322034  0.000000  0.000000  0.000000   \n",
       "Dragon Souls                 ...  0.344198  0.000000  0.000000  0.000000   \n",
       "DayZ                         ...  0.000000  0.270383  0.166104  0.000000   \n",
       "Eden Rising                  ...  0.174903  0.000000  0.000000  0.000000   \n",
       "Onirism                      ...  0.000000  0.000000  0.000000  0.000000   \n",
       "\n",
       "                                   26   27        28   29   30        31  \n",
       "DOOM                         0.271478  0.0  0.000000  0.0  0.0  0.000000  \n",
       "Pumped BMX +                 0.000000  0.0  0.000000  0.0  0.0  0.000000  \n",
       "ShapeRockets                 0.000000  0.0  0.000000  0.0  0.0  0.000000  \n",
       "The Isle                     0.000000  0.0  0.193135  0.0  0.0  0.309852  \n",
       "Pop Island - Let's Code !!!  0.000000  0.0  0.000000  0.0  0.0  0.000000  \n",
       "Braveland Heroes             0.000000  0.0  0.304184  0.0  0.0  0.000000  \n",
       "Dragon Souls                 0.000000  0.0  0.325120  0.0  0.0  0.000000  \n",
       "DayZ                         0.000000  0.0  0.000000  0.0  0.0  0.274902  \n",
       "Eden Rising                  0.000000  0.0  0.165209  0.0  0.0  0.265049  \n",
       "Onirism                      0.000000  0.0  0.000000  0.0  0.0  0.000000  \n",
       "\n",
       "[10 rows x 32 columns]"
      ]
     },
     "execution_count": 63,
     "metadata": {},
     "output_type": "execute_result"
    }
   ],
   "source": [
    "X_proj.iloc[neighbors_list, :]"
   ]
  },
  {
   "cell_type": "code",
   "execution_count": 64,
   "id": "e20a5d83-7edf-4767-991c-8f6ee449a2a4",
   "metadata": {},
   "outputs": [
    {
     "data": {
      "text/plain": [
       "[0, 7249, 18005, 155, 32474, 4171, 34838, 3, 916, 3625]"
      ]
     },
     "execution_count": 64,
     "metadata": {},
     "output_type": "execute_result"
    }
   ],
   "source": [
    "neighbors_list"
   ]
  },
  {
   "cell_type": "code",
   "execution_count": 323,
   "id": "55b7b344-414c-4673-8918-4eab7b31900f",
   "metadata": {},
   "outputs": [
    {
     "data": {
      "text/plain": [
       "3032.2850842778075"
      ]
     },
     "execution_count": 323,
     "metadata": {},
     "output_type": "execute_result"
    }
   ],
   "source": [
    "test_df['distance_05'].sum()"
   ]
  },
  {
   "cell_type": "code",
   "execution_count": 72,
   "id": "1cee2edc-2a4f-4b0c-9ef8-bbdf8170fad7",
   "metadata": {},
   "outputs": [],
   "source": [
    "test_df_2 = get_fav_list(df_play)"
   ]
  },
  {
   "cell_type": "code",
   "execution_count": 74,
   "id": "5bdd811e-6747-472f-8609-1c598378e652",
   "metadata": {},
   "outputs": [],
   "source": [
    "test_df_2['distance_02'] = ''\n",
    "\n",
    "for index, row in test_df_2.iterrows():\n",
    "    neighbors_list = list(knn_model.kneighbors(X_proj_2.loc[[row['most_fav_game']]],n_neighbors=df.shape[0])[1][0])\n",
    "    res = pd.DataFrame(knn_model.kneighbors(X_proj_2.loc[[row['most_fav_game']]],n_neighbors=df.shape[0])[0][0], index = X_proj_2.iloc[neighbors_list, :]\\\n",
    "             .index, columns = ['distance_02']).loc[row['sec_fav_game']][0]\n",
    "    test_df_2.loc[index, 'distance_02'] = res"
   ]
  },
  {
   "cell_type": "code",
   "execution_count": 75,
   "id": "6a285085-8c78-4c4c-af82-4d7b39b2a26f",
   "metadata": {},
   "outputs": [
    {
     "data": {
      "text/html": [
       "<div>\n",
       "<style scoped>\n",
       "    .dataframe tbody tr th:only-of-type {\n",
       "        vertical-align: middle;\n",
       "    }\n",
       "\n",
       "    .dataframe tbody tr th {\n",
       "        vertical-align: top;\n",
       "    }\n",
       "\n",
       "    .dataframe thead th {\n",
       "        text-align: right;\n",
       "    }\n",
       "</style>\n",
       "<table border=\"1\" class=\"dataframe\">\n",
       "  <thead>\n",
       "    <tr style=\"text-align: right;\">\n",
       "      <th></th>\n",
       "      <th>most_fav_game</th>\n",
       "      <th>sec_fav_game</th>\n",
       "      <th>distance_02</th>\n",
       "    </tr>\n",
       "  </thead>\n",
       "  <tbody>\n",
       "    <tr>\n",
       "      <th>5250</th>\n",
       "      <td>Portal 2</td>\n",
       "      <td>Alien Swarm</td>\n",
       "      <td>0.880324</td>\n",
       "    </tr>\n",
       "    <tr>\n",
       "      <th>76767</th>\n",
       "      <td>Counter-Strike</td>\n",
       "      <td>Banished</td>\n",
       "      <td>1.212521</td>\n",
       "    </tr>\n",
       "    <tr>\n",
       "      <th>86540</th>\n",
       "      <td>Far Cry 3</td>\n",
       "      <td>Left 4 Dead 2</td>\n",
       "      <td>0.997489</td>\n",
       "    </tr>\n",
       "    <tr>\n",
       "      <th>229911</th>\n",
       "      <td>Counter-Strike</td>\n",
       "      <td>Worms Reloaded</td>\n",
       "      <td>1.12462</td>\n",
       "    </tr>\n",
       "    <tr>\n",
       "      <th>298950</th>\n",
       "      <td>Team Fortress 2</td>\n",
       "      <td>Far Cry 3</td>\n",
       "      <td>1.074816</td>\n",
       "    </tr>\n",
       "    <tr>\n",
       "      <th>...</th>\n",
       "      <td>...</td>\n",
       "      <td>...</td>\n",
       "      <td>...</td>\n",
       "    </tr>\n",
       "    <tr>\n",
       "      <th>308468736</th>\n",
       "      <td>Magic Duels</td>\n",
       "      <td>War Thunder</td>\n",
       "      <td>1.032863</td>\n",
       "    </tr>\n",
       "    <tr>\n",
       "      <th>308695132</th>\n",
       "      <td>Champions Online</td>\n",
       "      <td>Brawlhalla</td>\n",
       "      <td>0.681081</td>\n",
       "    </tr>\n",
       "    <tr>\n",
       "      <th>308760273</th>\n",
       "      <td>Toribash</td>\n",
       "      <td>Unturned</td>\n",
       "      <td>1.138748</td>\n",
       "    </tr>\n",
       "    <tr>\n",
       "      <th>309052991</th>\n",
       "      <td>Brawlhalla</td>\n",
       "      <td>Heroes &amp; Generals</td>\n",
       "      <td>1.024469</td>\n",
       "    </tr>\n",
       "    <tr>\n",
       "      <th>309404240</th>\n",
       "      <td>Unturned</td>\n",
       "      <td>Team Fortress 2</td>\n",
       "      <td>1.081129</td>\n",
       "    </tr>\n",
       "  </tbody>\n",
       "</table>\n",
       "<p>3217 rows × 3 columns</p>\n",
       "</div>"
      ],
      "text/plain": [
       "              most_fav_game       sec_fav_game distance_02\n",
       "5250               Portal 2        Alien Swarm    0.880324\n",
       "76767        Counter-Strike           Banished    1.212521\n",
       "86540             Far Cry 3      Left 4 Dead 2    0.997489\n",
       "229911       Counter-Strike     Worms Reloaded     1.12462\n",
       "298950      Team Fortress 2          Far Cry 3    1.074816\n",
       "...                     ...                ...         ...\n",
       "308468736       Magic Duels        War Thunder    1.032863\n",
       "308695132  Champions Online         Brawlhalla    0.681081\n",
       "308760273          Toribash           Unturned    1.138748\n",
       "309052991        Brawlhalla  Heroes & Generals    1.024469\n",
       "309404240          Unturned    Team Fortress 2    1.081129\n",
       "\n",
       "[3217 rows x 3 columns]"
      ]
     },
     "execution_count": 75,
     "metadata": {},
     "output_type": "execute_result"
    }
   ],
   "source": [
    "test_df_2"
   ]
  },
  {
   "cell_type": "code",
   "execution_count": 76,
   "id": "5fb924f8-724b-45e4-bd01-d582e1e34b45",
   "metadata": {},
   "outputs": [
    {
     "data": {
      "text/plain": [
       "3123.457132881227"
      ]
     },
     "execution_count": 76,
     "metadata": {},
     "output_type": "execute_result"
    }
   ],
   "source": [
    "test_df_2['distance_02'].sum()"
   ]
  }
 ],
 "metadata": {
  "kernelspec": {
   "display_name": "Python 3 (ipykernel)",
   "language": "python",
   "name": "python3"
  },
  "language_info": {
   "codemirror_mode": {
    "name": "ipython",
    "version": 3
   },
   "file_extension": ".py",
   "mimetype": "text/x-python",
   "name": "python",
   "nbconvert_exporter": "python",
   "pygments_lexer": "ipython3",
   "version": "3.8.12"
  }
 },
 "nbformat": 4,
 "nbformat_minor": 5
}
