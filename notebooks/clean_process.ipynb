{
 "cells": [
  {
   "cell_type": "code",
   "execution_count": 95,
   "id": "3e53e7a4-7b73-451b-8559-d94a2cb65543",
   "metadata": {},
   "outputs": [
    {
     "name": "stdout",
     "output_type": "stream",
     "text": [
      "The autoreload extension is already loaded. To reload it, use:\n",
      "  %reload_ext autoreload\n"
     ]
    }
   ],
   "source": [
    "import pandas as pd # import for dataframe handle\n",
    "from bs4 import BeautifulSoup\n",
    "import requests\n",
    "import math\n",
    "\n",
    "%load_ext autoreload\n",
    "%autoreload 2"
   ]
  },
  {
   "cell_type": "markdown",
   "id": "66cd066d",
   "metadata": {},
   "source": [
    "# Functions to use in the cleaning process"
   ]
  },
  {
   "cell_type": "code",
   "execution_count": 96,
   "id": "1fbc7d72",
   "metadata": {},
   "outputs": [],
   "source": [
    "def get_name(url):\n",
    "    response = requests.get(url).text\n",
    "    soup = BeautifulSoup(response, \"html.parser\")\n",
    "    try:\n",
    "        return soup.find('h2', class_='pageheader').text.strip()\n",
    "    except AttributeError:\n",
    "        try:\n",
    "            return soup.find('div', class_='apphub_AppName').text.strip()\n",
    "        except AttributeError:\n",
    "            return float('nan')\n",
    "\n",
    "def get_tags(url):\n",
    "    response = requests.get(url).text\n",
    "    soup = BeautifulSoup(response, \"html.parser\")\n",
    "    try:\n",
    "        tags = soup.find_all('a', class_='app_tag')\n",
    "        return ' '.join([tags[i].text.strip() for i in range(len(tags))])\n",
    "    except AttributeError:\n",
    "        return float('nan')\n",
    "\n",
    "\n",
    "def get_genre(url):\n",
    "    response = requests.get(url).text\n",
    "    soup = BeautifulSoup(response, \"html.parser\")\n",
    "    try:\n",
    "        return soup.find('div', class_='lable').text.strip()\n",
    "    except AttributeError:\n",
    "        return float('nan')\n",
    "\n",
    "\n",
    "def get_dev(url):\n",
    "    response = requests.get(url).text\n",
    "    soup = BeautifulSoup(response, \"html.parser\")\n",
    "    try:\n",
    "        return soup.find('div', class_='dev_row').text.strip().split('\\n')[2]\n",
    "    except AttributeError:\n",
    "        return float('nan')\n",
    "\n",
    "\n",
    "def get_review(url):\n",
    "    response = requests.get(url).text\n",
    "    soup = BeautifulSoup(response, \"html.parser\")\n",
    "    try:\n",
    "        return soup.find('span', class_='game_review_summary').text.strip().split('\\n')[0]\n",
    "    except AttributeError:\n",
    "        return float('nan')\n",
    "\n",
    "\n",
    "def get_lang(url):\n",
    "    response = requests.get(url).text\n",
    "    soup = BeautifulSoup(response, \"html.parser\")\n",
    "    try:\n",
    "        return soup.find('span', class_='language_list').text.strip().split(',')\n",
    "    except AttributeError:\n",
    "        return float('nan')\n",
    "\n",
    "\n",
    "def operating_system(requirements):\n",
    "    macos = [ 'macos','osx','os x','mac']\n",
    "    linux = ['ubuntu','linux','red hat','fedora', 'mint','steamos', 'chrome os']\n",
    "    existing = []\n",
    "    if 'windows'in str(requirements).lower():\n",
    "        existing.append('windows')\n",
    "    for mac in macos:\n",
    "        if mac in str(requirements).lower() and 'macOS' not in existing:\n",
    "            existing.append('macOS')\n",
    "    for lin in linux:\n",
    "        if lin in str(requirements).lower() and 'Linux' not in existing:\n",
    "            existing.append('Linux')\n",
    "    return \" \".join(existing)"
   ]
  },
  {
   "cell_type": "markdown",
   "id": "8939e751",
   "metadata": {},
   "source": [
    "# Load Dataset"
   ]
  },
  {
   "cell_type": "code",
   "execution_count": 97,
   "id": "f23b86cc-78f1-41aa-9834-817a0f6a6ee5",
   "metadata": {},
   "outputs": [
    {
     "data": {
      "text/plain": [
       "url                             0\n",
       "types                           0\n",
       "name                           14\n",
       "desc_snippet                13219\n",
       "recent_reviews              35315\n",
       "all_reviews                  9551\n",
       "release_date                  367\n",
       "developer                     300\n",
       "publisher                    5000\n",
       "popular_tags                  133\n",
       "game_details                  475\n",
       "languages                      14\n",
       "achievements                25827\n",
       "genre                         396\n",
       "game_description              101\n",
       "mature_content              35124\n",
       "minimum_requirements        16952\n",
       "recommended_requirements    16946\n",
       "original_price               3022\n",
       "discount_price              26275\n",
       "clean_reviews                   0\n",
       "clean_date                    441\n",
       "dtype: int64"
      ]
     },
     "execution_count": 97,
     "metadata": {},
     "output_type": "execute_result"
    }
   ],
   "source": [
    "full_df = pd.read_csv('../raw_data/combine_df.csv')\n",
    "full_df.isnull().sum()"
   ]
  },
  {
   "cell_type": "markdown",
   "id": "e880491b",
   "metadata": {},
   "source": [
    "# Drop unused features"
   ]
  },
  {
   "cell_type": "code",
   "execution_count": 98,
   "id": "8d036283",
   "metadata": {},
   "outputs": [],
   "source": [
    "full_df = full_df.drop(\n",
    "            columns=[\n",
    "                'recent_reviews', \n",
    "                'all_reviews', \n",
    "                'types', \n",
    "                'release_date',\n",
    "                'desc_snippet',\n",
    "                'discount_price',\n",
    "                'game_details',\n",
    "            ])"
   ]
  },
  {
   "cell_type": "markdown",
   "id": "d53a419a",
   "metadata": {},
   "source": [
    "# Drop expansions and hardware"
   ]
  },
  {
   "cell_type": "code",
   "execution_count": 99,
   "id": "e8999ac0",
   "metadata": {},
   "outputs": [],
   "source": [
    "full_df = full_df[\n",
    "        full_df['game_description']\\\n",
    "                .str.contains('About This Content', case=False) == False]\n",
    "\n",
    "full_df = full_df[\n",
    "        full_df['game_description']\\\n",
    "                .str.contains('About This Hardware', case=False) == False]"
   ]
  },
  {
   "cell_type": "markdown",
   "id": "a9c056fa",
   "metadata": {},
   "source": [
    "# Find the missing developers"
   ]
  },
  {
   "cell_type": "code",
   "execution_count": 100,
   "id": "41f85c33",
   "metadata": {},
   "outputs": [],
   "source": [
    "for index in full_df[full_df['developer'].isnull()].index:\n",
    "    full_df.loc[index, 'developer'] = full_df.loc[index, 'publisher']\n",
    "\n",
    "full_df = full_df.drop(columns='publisher')\n",
    "\n",
    "for index in full_df[full_df['developer'].isnull()].index:\n",
    "    full_df.loc[index, 'developer'] = get_name(full_df.loc[index, 'url'])"
   ]
  },
  {
   "cell_type": "markdown",
   "id": "53153f24",
   "metadata": {},
   "source": [
    "# Create column for the operating systems"
   ]
  },
  {
   "cell_type": "code",
   "execution_count": 101,
   "id": "bcbeb3ea",
   "metadata": {},
   "outputs": [],
   "source": [
    "for index in full_df[full_df['minimum_requirements'].isnull()].index:\n",
    "    full_df.loc[index, 'minimum_requirements'] = full_df.loc[index, 'recommended_requirements']\n",
    "\n",
    "full_df = full_df.drop(columns=['recommended_requirements'])\n",
    "\n",
    "full_df['op_sys']= full_df['minimum_requirements'].apply(lambda x: operating_system(x))\n",
    "full_df.drop(columns='minimum_requirements', inplace=True)"
   ]
  },
  {
   "cell_type": "markdown",
   "id": "290be5d7",
   "metadata": {},
   "source": [
    "# Get Missing names"
   ]
  },
  {
   "cell_type": "code",
   "execution_count": 102,
   "id": "56838566",
   "metadata": {},
   "outputs": [],
   "source": [
    "for index in full_df[full_df['name'].isnull()].index:\n",
    "    full_df.loc[index, 'name'] = get_name(full_df.loc[index, 'url'])"
   ]
  },
  {
   "cell_type": "markdown",
   "id": "339a4c7a",
   "metadata": {},
   "source": [
    "# Rename Columns"
   ]
  },
  {
   "cell_type": "code",
   "execution_count": 103,
   "id": "a8d7a548",
   "metadata": {},
   "outputs": [],
   "source": [
    "full_df = full_df.rename(columns={\n",
    "    'popular_tags': 'tags',\n",
    "    'clean_reviews': 'reviews',\n",
    "    'clean_date': 'date',\n",
    "    'original_price': 'price'\n",
    "})"
   ]
  },
  {
   "cell_type": "markdown",
   "id": "7a475f1c",
   "metadata": {},
   "source": [
    "# Filling missing languages with the most common"
   ]
  },
  {
   "cell_type": "code",
   "execution_count": 104,
   "id": "675f672c",
   "metadata": {},
   "outputs": [],
   "source": [
    "full_df['languages'].fillna('English', inplace=True)"
   ]
  },
  {
   "cell_type": "markdown",
   "id": "ee8888db",
   "metadata": {},
   "source": [
    "# Find missing tags and genre"
   ]
  },
  {
   "cell_type": "code",
   "execution_count": 105,
   "id": "42ade7db",
   "metadata": {},
   "outputs": [],
   "source": [
    "for index in full_df[full_df['tags'].isnull()].index:\n",
    "    full_df.loc[index, 'tags'] = get_name(full_df.loc[index, 'url'])"
   ]
  },
  {
   "cell_type": "code",
   "execution_count": 106,
   "id": "302910e0",
   "metadata": {},
   "outputs": [],
   "source": [
    "for index in full_df[full_df['genre'].isnull()].index:\n",
    "    full_df.loc[index, 'genre'] = get_name(full_df.loc[index, 'url'])"
   ]
  },
  {
   "cell_type": "markdown",
   "id": "1b9a4f6a",
   "metadata": {},
   "source": [
    "# Encode achievements"
   ]
  },
  {
   "cell_type": "code",
   "execution_count": 107,
   "id": "38184c87",
   "metadata": {},
   "outputs": [],
   "source": [
    "for i in full_df.index:\n",
    "    full_df.at[i, 'achievement_cat'] = 0 if math.isnan(full_df.loc[i]['achievements']) == True else 1"
   ]
  },
  {
   "cell_type": "code",
   "execution_count": 108,
   "id": "cf750593",
   "metadata": {},
   "outputs": [],
   "source": [
    "full_df = full_df.drop(columns='achievements')"
   ]
  },
  {
   "cell_type": "code",
   "execution_count": 109,
   "id": "a1b78732",
   "metadata": {},
   "outputs": [],
   "source": [
    "full_df.rename(columns={'achievement_cat': 'achievements'}, inplace=True)"
   ]
  },
  {
   "cell_type": "markdown",
   "id": "a3d0d08b",
   "metadata": {},
   "source": [
    "# Encode mature content"
   ]
  },
  {
   "cell_type": "code",
   "execution_count": 110,
   "id": "75f87869",
   "metadata": {},
   "outputs": [],
   "source": [
    "full_df['mature_content'] = full_df['mature_content'].apply(\n",
    "    lambda x: 1 if isinstance(x, str) else 0\n",
    ")"
   ]
  },
  {
   "cell_type": "markdown",
   "id": "b9c2c54b",
   "metadata": {},
   "source": [
    "# Removing demos, trials and convert price to €"
   ]
  },
  {
   "cell_type": "code",
   "execution_count": 111,
   "id": "45c5f7f4",
   "metadata": {},
   "outputs": [],
   "source": [
    "full_df['price'] = full_df['price'].astype(str)"
   ]
  },
  {
   "cell_type": "code",
   "execution_count": 112,
   "id": "1852a6b1",
   "metadata": {},
   "outputs": [],
   "source": [
    "full_df['demo'] = full_df['price'].apply(\n",
    "    lambda x: True if 'demo' in x.lower() else False\n",
    ")"
   ]
  },
  {
   "cell_type": "code",
   "execution_count": 113,
   "id": "e9ba733a",
   "metadata": {},
   "outputs": [],
   "source": [
    "full_df = full_df[full_df['demo'] == False]"
   ]
  },
  {
   "cell_type": "code",
   "execution_count": 114,
   "id": "ccd70ded",
   "metadata": {},
   "outputs": [],
   "source": [
    "full_df['trial'] = full_df['price'].apply(\n",
    "    lambda x: True if 'trial' in x.lower() else False\n",
    ")"
   ]
  },
  {
   "cell_type": "code",
   "execution_count": 115,
   "id": "c1ebbf2d",
   "metadata": {},
   "outputs": [],
   "source": [
    "full_df = full_df[full_df.trial == False]"
   ]
  },
  {
   "cell_type": "code",
   "execution_count": 116,
   "id": "b20529a7",
   "metadata": {},
   "outputs": [],
   "source": [
    "for index in full_df[full_df['price'] == 0].index:\n",
    "    full_df.loc[index, 'price'] = '0'"
   ]
  },
  {
   "cell_type": "code",
   "execution_count": 117,
   "id": "3038d765",
   "metadata": {},
   "outputs": [],
   "source": [
    "def price_change(value):\n",
    "    try:\n",
    "        return float(value.strip('$'))*0.90\n",
    "    except:\n",
    "        return float('NaN')"
   ]
  },
  {
   "cell_type": "code",
   "execution_count": 118,
   "id": "adce1518",
   "metadata": {},
   "outputs": [],
   "source": [
    "full_df['price'] = full_df.price.apply(price_change)"
   ]
  },
  {
   "cell_type": "code",
   "execution_count": 119,
   "id": "e60b966c",
   "metadata": {},
   "outputs": [],
   "source": [
    "full_df = full_df.drop(columns=['demo', 'trial'])"
   ]
  },
  {
   "cell_type": "markdown",
   "id": "54986f02-1c0d-4cd1-a4de-4ad7a0137a9e",
   "metadata": {},
   "source": [
    "# Fill missing Op Sys"
   ]
  },
  {
   "cell_type": "code",
   "execution_count": 131,
   "id": "7214d024-ad12-45e8-a8f5-81e98d506301",
   "metadata": {},
   "outputs": [],
   "source": [
    "full_df['op_sys']=full_df['op_sys'].replace('', 'no info available')"
   ]
  },
  {
   "cell_type": "markdown",
   "id": "2fc6098c",
   "metadata": {},
   "source": [
    "# Save df to csv"
   ]
  },
  {
   "cell_type": "code",
   "execution_count": 121,
   "id": "3cbb19bd",
   "metadata": {},
   "outputs": [],
   "source": [
    "full_df.to_csv('clean_df.csv', index=False)"
   ]
  }
 ],
 "metadata": {
  "kernelspec": {
   "display_name": "Python 3 (ipykernel)",
   "language": "python",
   "name": "python3"
  },
  "language_info": {
   "codemirror_mode": {
    "name": "ipython",
    "version": 3
   },
   "file_extension": ".py",
   "mimetype": "text/x-python",
   "name": "python",
   "nbconvert_exporter": "python",
   "pygments_lexer": "ipython3",
   "version": "3.8.12"
  },
  "toc": {
   "base_numbering": 1,
   "nav_menu": {},
   "number_sections": true,
   "sideBar": true,
   "skip_h1_title": false,
   "title_cell": "Table of Contents",
   "title_sidebar": "Contents",
   "toc_cell": false,
   "toc_position": {},
   "toc_section_display": true,
   "toc_window_display": false
  }
 },
 "nbformat": 4,
 "nbformat_minor": 5
}
