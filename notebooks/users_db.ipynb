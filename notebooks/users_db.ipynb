{
 "cells": [
  {
   "cell_type": "code",
   "execution_count": 4,
   "id": "41e56bff",
   "metadata": {},
   "outputs": [],
   "source": [
    "import numpy as np\n",
    "import pandas as pd \n",
    "import matplotlib.pyplot as plt\n",
    "from collections import Counter"
   ]
  },
  {
   "cell_type": "code",
   "execution_count": 5,
   "id": "b17d4206",
   "metadata": {},
   "outputs": [
    {
     "data": {
      "text/html": [
       "<div>\n",
       "<style scoped>\n",
       "    .dataframe tbody tr th:only-of-type {\n",
       "        vertical-align: middle;\n",
       "    }\n",
       "\n",
       "    .dataframe tbody tr th {\n",
       "        vertical-align: top;\n",
       "    }\n",
       "\n",
       "    .dataframe thead th {\n",
       "        text-align: right;\n",
       "    }\n",
       "</style>\n",
       "<table border=\"1\" class=\"dataframe\">\n",
       "  <thead>\n",
       "    <tr style=\"text-align: right;\">\n",
       "      <th></th>\n",
       "      <th>userid</th>\n",
       "      <th>game</th>\n",
       "      <th>behavior</th>\n",
       "      <th>hoursplayed</th>\n",
       "    </tr>\n",
       "  </thead>\n",
       "  <tbody>\n",
       "    <tr>\n",
       "      <th>0</th>\n",
       "      <td>151603712</td>\n",
       "      <td>The Elder Scrolls V Skyrim</td>\n",
       "      <td>purchase</td>\n",
       "      <td>1.0</td>\n",
       "    </tr>\n",
       "    <tr>\n",
       "      <th>1</th>\n",
       "      <td>151603712</td>\n",
       "      <td>The Elder Scrolls V Skyrim</td>\n",
       "      <td>play</td>\n",
       "      <td>273.0</td>\n",
       "    </tr>\n",
       "    <tr>\n",
       "      <th>2</th>\n",
       "      <td>151603712</td>\n",
       "      <td>Fallout 4</td>\n",
       "      <td>purchase</td>\n",
       "      <td>1.0</td>\n",
       "    </tr>\n",
       "    <tr>\n",
       "      <th>3</th>\n",
       "      <td>151603712</td>\n",
       "      <td>Fallout 4</td>\n",
       "      <td>play</td>\n",
       "      <td>87.0</td>\n",
       "    </tr>\n",
       "    <tr>\n",
       "      <th>4</th>\n",
       "      <td>151603712</td>\n",
       "      <td>Spore</td>\n",
       "      <td>purchase</td>\n",
       "      <td>1.0</td>\n",
       "    </tr>\n",
       "  </tbody>\n",
       "</table>\n",
       "</div>"
      ],
      "text/plain": [
       "      userid                        game  behavior  hoursplayed\n",
       "0  151603712  The Elder Scrolls V Skyrim  purchase          1.0\n",
       "1  151603712  The Elder Scrolls V Skyrim      play        273.0\n",
       "2  151603712                   Fallout 4  purchase          1.0\n",
       "3  151603712                   Fallout 4      play         87.0\n",
       "4  151603712                       Spore  purchase          1.0"
      ]
     },
     "execution_count": 5,
     "metadata": {},
     "output_type": "execute_result"
    }
   ],
   "source": [
    "df= pd.read_csv('../raw_data/steam-200k.csv',usecols=[0,1,2,3],names=['userid','game','behavior','hoursplayed'])\n",
    "df.head()"
   ]
  },
  {
   "cell_type": "code",
   "execution_count": 6,
   "id": "f4b8e0c4",
   "metadata": {},
   "outputs": [
    {
     "data": {
      "text/plain": [
       "(200000, 4)"
      ]
     },
     "execution_count": 6,
     "metadata": {},
     "output_type": "execute_result"
    }
   ],
   "source": [
    "df.shape"
   ]
  },
  {
   "cell_type": "code",
   "execution_count": 7,
   "id": "1bd43432",
   "metadata": {},
   "outputs": [
    {
     "data": {
      "text/plain": [
       "(70489, 4)"
      ]
     },
     "execution_count": 7,
     "metadata": {},
     "output_type": "execute_result"
    }
   ],
   "source": [
    "df_play = df[df['behavior']=='play']\n",
    "df_play.shape"
   ]
  },
  {
   "cell_type": "code",
   "execution_count": 8,
   "id": "7b8ee98f",
   "metadata": {},
   "outputs": [
    {
     "name": "stdout",
     "output_type": "stream",
     "text": [
      "<class 'pandas.core.frame.DataFrame'>\n",
      "Int64Index: 70489 entries, 1 to 199999\n",
      "Data columns (total 4 columns):\n",
      " #   Column       Non-Null Count  Dtype  \n",
      "---  ------       --------------  -----  \n",
      " 0   userid       70489 non-null  int64  \n",
      " 1   game         70489 non-null  object \n",
      " 2   behavior     70489 non-null  object \n",
      " 3   hoursplayed  70489 non-null  float64\n",
      "dtypes: float64(1), int64(1), object(2)\n",
      "memory usage: 2.7+ MB\n"
     ]
    }
   ],
   "source": [
    "df_play.info()"
   ]
  },
  {
   "cell_type": "code",
   "execution_count": 9,
   "id": "3bfc44f8",
   "metadata": {},
   "outputs": [
    {
     "data": {
      "text/html": [
       "<div>\n",
       "<style scoped>\n",
       "    .dataframe tbody tr th:only-of-type {\n",
       "        vertical-align: middle;\n",
       "    }\n",
       "\n",
       "    .dataframe tbody tr th {\n",
       "        vertical-align: top;\n",
       "    }\n",
       "\n",
       "    .dataframe thead th {\n",
       "        text-align: right;\n",
       "    }\n",
       "</style>\n",
       "<table border=\"1\" class=\"dataframe\">\n",
       "  <thead>\n",
       "    <tr style=\"text-align: right;\">\n",
       "      <th></th>\n",
       "      <th>userid</th>\n",
       "      <th>hoursplayed</th>\n",
       "    </tr>\n",
       "  </thead>\n",
       "  <tbody>\n",
       "    <tr>\n",
       "      <th>count</th>\n",
       "      <td>7.048900e+04</td>\n",
       "      <td>70489.000000</td>\n",
       "    </tr>\n",
       "    <tr>\n",
       "      <th>mean</th>\n",
       "      <td>1.058812e+08</td>\n",
       "      <td>48.878063</td>\n",
       "    </tr>\n",
       "    <tr>\n",
       "      <th>std</th>\n",
       "      <td>7.150365e+07</td>\n",
       "      <td>229.335236</td>\n",
       "    </tr>\n",
       "    <tr>\n",
       "      <th>min</th>\n",
       "      <td>5.250000e+03</td>\n",
       "      <td>0.100000</td>\n",
       "    </tr>\n",
       "    <tr>\n",
       "      <th>25%</th>\n",
       "      <td>4.934256e+07</td>\n",
       "      <td>1.000000</td>\n",
       "    </tr>\n",
       "    <tr>\n",
       "      <th>50%</th>\n",
       "      <td>9.169067e+07</td>\n",
       "      <td>4.500000</td>\n",
       "    </tr>\n",
       "    <tr>\n",
       "      <th>75%</th>\n",
       "      <td>1.556738e+08</td>\n",
       "      <td>19.100000</td>\n",
       "    </tr>\n",
       "    <tr>\n",
       "      <th>max</th>\n",
       "      <td>3.099031e+08</td>\n",
       "      <td>11754.000000</td>\n",
       "    </tr>\n",
       "  </tbody>\n",
       "</table>\n",
       "</div>"
      ],
      "text/plain": [
       "             userid   hoursplayed\n",
       "count  7.048900e+04  70489.000000\n",
       "mean   1.058812e+08     48.878063\n",
       "std    7.150365e+07    229.335236\n",
       "min    5.250000e+03      0.100000\n",
       "25%    4.934256e+07      1.000000\n",
       "50%    9.169067e+07      4.500000\n",
       "75%    1.556738e+08     19.100000\n",
       "max    3.099031e+08  11754.000000"
      ]
     },
     "execution_count": 9,
     "metadata": {},
     "output_type": "execute_result"
    }
   ],
   "source": [
    "df_play.describe()"
   ]
  },
  {
   "cell_type": "code",
   "execution_count": 10,
   "id": "d8b7437c",
   "metadata": {},
   "outputs": [
    {
     "data": {
      "text/html": [
       "<div>\n",
       "<style scoped>\n",
       "    .dataframe tbody tr th:only-of-type {\n",
       "        vertical-align: middle;\n",
       "    }\n",
       "\n",
       "    .dataframe tbody tr th {\n",
       "        vertical-align: top;\n",
       "    }\n",
       "\n",
       "    .dataframe thead th {\n",
       "        text-align: right;\n",
       "    }\n",
       "</style>\n",
       "<table border=\"1\" class=\"dataframe\">\n",
       "  <thead>\n",
       "    <tr style=\"text-align: right;\">\n",
       "      <th></th>\n",
       "      <th>userid</th>\n",
       "      <th>hoursplayed</th>\n",
       "    </tr>\n",
       "    <tr>\n",
       "      <th>game</th>\n",
       "      <th></th>\n",
       "      <th></th>\n",
       "    </tr>\n",
       "  </thead>\n",
       "  <tbody>\n",
       "    <tr>\n",
       "      <th>Eastside Hockey Manager</th>\n",
       "      <td>2.138543e+08</td>\n",
       "      <td>1295.000000</td>\n",
       "    </tr>\n",
       "    <tr>\n",
       "      <th>Baldur's Gate II Enhanced Edition</th>\n",
       "      <td>7.705612e+07</td>\n",
       "      <td>475.255556</td>\n",
       "    </tr>\n",
       "    <tr>\n",
       "      <th>FIFA Manager 09</th>\n",
       "      <td>4.630176e+07</td>\n",
       "      <td>411.000000</td>\n",
       "    </tr>\n",
       "    <tr>\n",
       "      <th>Perpetuum</th>\n",
       "      <td>6.723111e+07</td>\n",
       "      <td>400.975000</td>\n",
       "    </tr>\n",
       "    <tr>\n",
       "      <th>Football Manager 2014</th>\n",
       "      <td>1.032583e+08</td>\n",
       "      <td>391.984615</td>\n",
       "    </tr>\n",
       "  </tbody>\n",
       "</table>\n",
       "</div>"
      ],
      "text/plain": [
       "                                         userid  hoursplayed\n",
       "game                                                        \n",
       "Eastside Hockey Manager            2.138543e+08  1295.000000\n",
       "Baldur's Gate II Enhanced Edition  7.705612e+07   475.255556\n",
       "FIFA Manager 09                    4.630176e+07   411.000000\n",
       "Perpetuum                          6.723111e+07   400.975000\n",
       "Football Manager 2014              1.032583e+08   391.984615"
      ]
     },
     "execution_count": 10,
     "metadata": {},
     "output_type": "execute_result"
    }
   ],
   "source": [
    "df_play.groupby(['game']).mean().sort_values(by=\"hoursplayed\",ascending=False).head()"
   ]
  },
  {
   "cell_type": "code",
   "execution_count": 11,
   "id": "fed9384e",
   "metadata": {},
   "outputs": [
    {
     "data": {
      "text/html": [
       "<div>\n",
       "<style scoped>\n",
       "    .dataframe tbody tr th:only-of-type {\n",
       "        vertical-align: middle;\n",
       "    }\n",
       "\n",
       "    .dataframe tbody tr th {\n",
       "        vertical-align: top;\n",
       "    }\n",
       "\n",
       "    .dataframe thead th {\n",
       "        text-align: right;\n",
       "    }\n",
       "</style>\n",
       "<table border=\"1\" class=\"dataframe\">\n",
       "  <thead>\n",
       "    <tr style=\"text-align: right;\">\n",
       "      <th></th>\n",
       "      <th>userid</th>\n",
       "      <th>hoursplayed</th>\n",
       "    </tr>\n",
       "    <tr>\n",
       "      <th>game</th>\n",
       "      <th></th>\n",
       "      <th></th>\n",
       "    </tr>\n",
       "  </thead>\n",
       "  <tbody>\n",
       "    <tr>\n",
       "      <th>Dota 2</th>\n",
       "      <td>876244856902</td>\n",
       "      <td>981684.6</td>\n",
       "    </tr>\n",
       "    <tr>\n",
       "      <th>Counter-Strike Global Offensive</th>\n",
       "      <td>197100863262</td>\n",
       "      <td>322771.6</td>\n",
       "    </tr>\n",
       "    <tr>\n",
       "      <th>Team Fortress 2</th>\n",
       "      <td>317607217486</td>\n",
       "      <td>173673.3</td>\n",
       "    </tr>\n",
       "    <tr>\n",
       "      <th>Counter-Strike</th>\n",
       "      <td>35238993239</td>\n",
       "      <td>134261.1</td>\n",
       "    </tr>\n",
       "    <tr>\n",
       "      <th>Sid Meier's Civilization V</th>\n",
       "      <td>51917921874</td>\n",
       "      <td>99821.3</td>\n",
       "    </tr>\n",
       "  </tbody>\n",
       "</table>\n",
       "</div>"
      ],
      "text/plain": [
       "                                       userid  hoursplayed\n",
       "game                                                      \n",
       "Dota 2                           876244856902     981684.6\n",
       "Counter-Strike Global Offensive  197100863262     322771.6\n",
       "Team Fortress 2                  317607217486     173673.3\n",
       "Counter-Strike                    35238993239     134261.1\n",
       "Sid Meier's Civilization V        51917921874      99821.3"
      ]
     },
     "execution_count": 11,
     "metadata": {},
     "output_type": "execute_result"
    }
   ],
   "source": [
    "df_play.groupby(['game']).sum().sort_values(by=\"hoursplayed\",ascending=False).head()"
   ]
  },
  {
   "cell_type": "code",
   "execution_count": 12,
   "id": "f7be5728",
   "metadata": {},
   "outputs": [
    {
     "data": {
      "text/plain": [
       "3600"
      ]
     },
     "execution_count": 12,
     "metadata": {},
     "output_type": "execute_result"
    }
   ],
   "source": [
    "len(df_play['game'].unique())"
   ]
  },
  {
   "cell_type": "code",
   "execution_count": 13,
   "id": "224244fd",
   "metadata": {},
   "outputs": [
    {
     "data": {
      "text/plain": [
       "11350"
      ]
     },
     "execution_count": 13,
     "metadata": {},
     "output_type": "execute_result"
    }
   ],
   "source": [
    "len(df_play['userid'].unique())"
   ]
  },
  {
   "cell_type": "code",
   "execution_count": 14,
   "id": "6ab85ab2",
   "metadata": {},
   "outputs": [],
   "source": [
    "# user_df = df_play.groupby('userid')\n",
    "# user_df.head()"
   ]
  },
  {
   "cell_type": "code",
   "execution_count": 15,
   "id": "f3337319",
   "metadata": {},
   "outputs": [],
   "source": [
    "# games_df = pd.DataFrame(df.game.unique(), columns=['game'])\n",
    "# games_df['index_col'] = games_df.index\n",
    "# games_df\n"
   ]
  },
  {
   "cell_type": "code",
   "execution_count": 16,
   "id": "b9091aa9",
   "metadata": {},
   "outputs": [],
   "source": [
    "# df_play= df_play.merge(games_df, on='game')\n",
    "# df_play.head()\n"
   ]
  },
  {
   "cell_type": "code",
   "execution_count": 17,
   "id": "b31296f1",
   "metadata": {},
   "outputs": [
    {
     "data": {
      "text/plain": [
       "229.335235996813"
      ]
     },
     "execution_count": 17,
     "metadata": {},
     "output_type": "execute_result"
    }
   ],
   "source": [
    "df_play['hoursplayed'].std()"
   ]
  },
  {
   "cell_type": "code",
   "execution_count": 18,
   "id": "0cfc9683",
   "metadata": {},
   "outputs": [],
   "source": [
    "# usergroup = df_play.groupby('userid')\n",
    "# usergroup.head()"
   ]
  },
  {
   "cell_type": "code",
   "execution_count": 19,
   "id": "a630469b",
   "metadata": {},
   "outputs": [],
   "source": [
    "# df_play['game'].unique()"
   ]
  },
  {
   "cell_type": "code",
   "execution_count": 20,
   "id": "b5120114",
   "metadata": {},
   "outputs": [],
   "source": [
    "# len(df_play)"
   ]
  },
  {
   "cell_type": "code",
   "execution_count": 21,
   "id": "0f3eb563",
   "metadata": {},
   "outputs": [],
   "source": [
    "# user_counter = Counter()\n",
    "# for user in df_play.userid.tolist():\n",
    "#     user_counter[user] +=1\n",
    "\n",
    "# game_counter = Counter()\n",
    "# for game in df_play.game.tolist():\n",
    "#     game_counter[game] += 1\n",
    "\n",
    "# user2idx = {user: i for i, user in enumerate(df_play.userid.unique())}\n",
    "# idx2user = {i: user for user, i in user2idx.items()}\n",
    "\n",
    "# game2idx = {game: i for i, game in enumerate(df_play.game.unique())}\n",
    "# idx2game = {i: game for game, i in game2idx.items()}"
   ]
  },
  {
   "cell_type": "code",
   "execution_count": 22,
   "id": "d2c2ad6b",
   "metadata": {},
   "outputs": [],
   "source": [
    "# game2idx"
   ]
  },
  {
   "cell_type": "code",
   "execution_count": 23,
   "id": "be9dcf01",
   "metadata": {},
   "outputs": [],
   "source": [
    "# user_idx = df_play['userid'].apply(lambda x: user2idx[x]).values\n",
    "# game_idx = df_play['gameIdx'] = df_play['game'].apply(lambda x: game2idx[x]).values\n",
    "# hours = df_play['hoursplayed'].values"
   ]
  },
  {
   "cell_type": "code",
   "execution_count": 24,
   "id": "cbb4294e",
   "metadata": {},
   "outputs": [],
   "source": [
    "# user_idx"
   ]
  },
  {
   "cell_type": "code",
   "execution_count": 25,
   "id": "25bef8ed",
   "metadata": {},
   "outputs": [],
   "source": [
    "# df_play.head()"
   ]
  },
  {
   "cell_type": "code",
   "execution_count": 26,
   "id": "ae9e15a1",
   "metadata": {},
   "outputs": [],
   "source": [
    "# df_cleaner= df_play.drop(columns=['behavior', 'index_col', 'gameIdx'])"
   ]
  },
  {
   "cell_type": "code",
   "execution_count": 27,
   "id": "02c3bb07",
   "metadata": {},
   "outputs": [],
   "source": [
    "# df_cleaner.head()"
   ]
  },
  {
   "cell_type": "code",
   "execution_count": 28,
   "id": "08781e2c",
   "metadata": {},
   "outputs": [],
   "source": [
    "df_play=df_play.drop(columns='behavior')"
   ]
  },
  {
   "cell_type": "code",
   "execution_count": 29,
   "id": "82aa1700",
   "metadata": {},
   "outputs": [
    {
     "data": {
      "text/html": [
       "<div>\n",
       "<style scoped>\n",
       "    .dataframe tbody tr th:only-of-type {\n",
       "        vertical-align: middle;\n",
       "    }\n",
       "\n",
       "    .dataframe tbody tr th {\n",
       "        vertical-align: top;\n",
       "    }\n",
       "\n",
       "    .dataframe thead th {\n",
       "        text-align: right;\n",
       "    }\n",
       "</style>\n",
       "<table border=\"1\" class=\"dataframe\">\n",
       "  <thead>\n",
       "    <tr style=\"text-align: right;\">\n",
       "      <th></th>\n",
       "      <th>userid</th>\n",
       "      <th>game</th>\n",
       "      <th>hoursplayed</th>\n",
       "    </tr>\n",
       "  </thead>\n",
       "  <tbody>\n",
       "    <tr>\n",
       "      <th>65424</th>\n",
       "      <td>5250</td>\n",
       "      <td>Cities Skylines</td>\n",
       "      <td>144.0</td>\n",
       "    </tr>\n",
       "    <tr>\n",
       "      <th>65426</th>\n",
       "      <td>5250</td>\n",
       "      <td>Deus Ex Human Revolution</td>\n",
       "      <td>62.0</td>\n",
       "    </tr>\n",
       "    <tr>\n",
       "      <th>65428</th>\n",
       "      <td>5250</td>\n",
       "      <td>Portal 2</td>\n",
       "      <td>13.6</td>\n",
       "    </tr>\n",
       "    <tr>\n",
       "      <th>65430</th>\n",
       "      <td>5250</td>\n",
       "      <td>Alien Swarm</td>\n",
       "      <td>4.9</td>\n",
       "    </tr>\n",
       "    <tr>\n",
       "      <th>65432</th>\n",
       "      <td>5250</td>\n",
       "      <td>Team Fortress 2</td>\n",
       "      <td>0.8</td>\n",
       "    </tr>\n",
       "    <tr>\n",
       "      <th>65434</th>\n",
       "      <td>5250</td>\n",
       "      <td>Dota 2</td>\n",
       "      <td>0.2</td>\n",
       "    </tr>\n",
       "  </tbody>\n",
       "</table>\n",
       "</div>"
      ],
      "text/plain": [
       "       userid                      game  hoursplayed\n",
       "65424    5250           Cities Skylines        144.0\n",
       "65426    5250  Deus Ex Human Revolution         62.0\n",
       "65428    5250                  Portal 2         13.6\n",
       "65430    5250               Alien Swarm          4.9\n",
       "65432    5250           Team Fortress 2          0.8\n",
       "65434    5250                    Dota 2          0.2"
      ]
     },
     "execution_count": 29,
     "metadata": {},
     "output_type": "execute_result"
    }
   ],
   "source": [
    "df_play[df_play['userid']==5250]"
   ]
  },
  {
   "cell_type": "code",
   "execution_count": null,
   "id": "52c67d8e",
   "metadata": {},
   "outputs": [],
   "source": []
  },
  {
   "cell_type": "code",
   "execution_count": 30,
   "id": "0e9b21f6",
   "metadata": {
    "scrolled": true
   },
   "outputs": [],
   "source": [
    "best_df=df_play.groupby(['userid','game']).sum().sort_values(['userid','hoursplayed'], ascending=[True,False]).reset_index().groupby('userid').first()\n"
   ]
  },
  {
   "cell_type": "code",
   "execution_count": 31,
   "id": "639d3851",
   "metadata": {},
   "outputs": [
    {
     "data": {
      "text/html": [
       "<div>\n",
       "<style scoped>\n",
       "    .dataframe tbody tr th:only-of-type {\n",
       "        vertical-align: middle;\n",
       "    }\n",
       "\n",
       "    .dataframe tbody tr th {\n",
       "        vertical-align: top;\n",
       "    }\n",
       "\n",
       "    .dataframe thead th {\n",
       "        text-align: right;\n",
       "    }\n",
       "</style>\n",
       "<table border=\"1\" class=\"dataframe\">\n",
       "  <thead>\n",
       "    <tr style=\"text-align: right;\">\n",
       "      <th></th>\n",
       "      <th>game</th>\n",
       "      <th>hoursplayed</th>\n",
       "    </tr>\n",
       "    <tr>\n",
       "      <th>userid</th>\n",
       "      <th></th>\n",
       "      <th></th>\n",
       "    </tr>\n",
       "  </thead>\n",
       "  <tbody>\n",
       "    <tr>\n",
       "      <th>5250</th>\n",
       "      <td>Cities Skylines</td>\n",
       "      <td>144.0</td>\n",
       "    </tr>\n",
       "    <tr>\n",
       "      <th>76767</th>\n",
       "      <td>Counter-Strike</td>\n",
       "      <td>365.0</td>\n",
       "    </tr>\n",
       "    <tr>\n",
       "      <th>86540</th>\n",
       "      <td>The Elder Scrolls V Skyrim</td>\n",
       "      <td>113.0</td>\n",
       "    </tr>\n",
       "    <tr>\n",
       "      <th>181212</th>\n",
       "      <td>Counter-Strike</td>\n",
       "      <td>1.8</td>\n",
       "    </tr>\n",
       "    <tr>\n",
       "      <th>229911</th>\n",
       "      <td>Counter-Strike Condition Zero</td>\n",
       "      <td>165.0</td>\n",
       "    </tr>\n",
       "    <tr>\n",
       "      <th>...</th>\n",
       "      <td>...</td>\n",
       "      <td>...</td>\n",
       "    </tr>\n",
       "    <tr>\n",
       "      <th>309262440</th>\n",
       "      <td>Team Fortress 2</td>\n",
       "      <td>1.2</td>\n",
       "    </tr>\n",
       "    <tr>\n",
       "      <th>309265377</th>\n",
       "      <td>Brawlhalla</td>\n",
       "      <td>2.0</td>\n",
       "    </tr>\n",
       "    <tr>\n",
       "      <th>309404240</th>\n",
       "      <td>Unturned</td>\n",
       "      <td>13.0</td>\n",
       "    </tr>\n",
       "    <tr>\n",
       "      <th>309554670</th>\n",
       "      <td>Mitos.is The Game</td>\n",
       "      <td>5.9</td>\n",
       "    </tr>\n",
       "    <tr>\n",
       "      <th>309626088</th>\n",
       "      <td>Age of Empires II HD Edition</td>\n",
       "      <td>6.7</td>\n",
       "    </tr>\n",
       "  </tbody>\n",
       "</table>\n",
       "<p>9461 rows × 2 columns</p>\n",
       "</div>"
      ],
      "text/plain": [
       "                                    game  hoursplayed\n",
       "userid                                               \n",
       "5250                     Cities Skylines        144.0\n",
       "76767                     Counter-Strike        365.0\n",
       "86540         The Elder Scrolls V Skyrim        113.0\n",
       "181212                    Counter-Strike          1.8\n",
       "229911     Counter-Strike Condition Zero        165.0\n",
       "...                                  ...          ...\n",
       "309262440                Team Fortress 2          1.2\n",
       "309265377                     Brawlhalla          2.0\n",
       "309404240                       Unturned         13.0\n",
       "309554670              Mitos.is The Game          5.9\n",
       "309626088   Age of Empires II HD Edition          6.7\n",
       "\n",
       "[9461 rows x 2 columns]"
      ]
     },
     "execution_count": 31,
     "metadata": {},
     "output_type": "execute_result"
    }
   ],
   "source": [
    "best_df[best_df['hoursplayed']>1]"
   ]
  },
  {
   "cell_type": "code",
   "execution_count": 32,
   "id": "5edbbba3",
   "metadata": {},
   "outputs": [],
   "source": [
    "game_df = df_play.groupby('userid').count()[['game']]\n",
    "user_list=list(game_df[game_df['game'] > 1].index)"
   ]
  },
  {
   "cell_type": "code",
   "execution_count": 33,
   "id": "1770b8ea",
   "metadata": {},
   "outputs": [
    {
     "name": "stdout",
     "output_type": "stream",
     "text": [
      "['Cities Skylines', 'Deus Ex Human Revolution']\n",
      "['Counter-Strike', 'Call of Duty World at War']\n",
      "['The Elder Scrolls V Skyrim', 'Audiosurf']\n",
      "['Counter-Strike', 'Half-Life 2 Lost Coast']\n",
      "['Counter-Strike Condition Zero', 'Call of Duty Modern Warfare 2 - Multiplayer']\n",
      "['Team Fortress 2', 'Counter-Strike Global Offensive']\n",
      "['Counter-Strike Global Offensive', 'Counter-Strike']\n",
      "['Counter-Strike Source', 'Counter-Strike Global Offensive']\n",
      "['Call of Duty Modern Warfare 3 - Multiplayer', 'Call of Duty Black Ops - Multiplayer']\n",
      "['Counter-Strike Global Offensive', 'Counter-Strike']\n"
     ]
    }
   ],
   "source": [
    "for user in user_list[0:10]:\n",
    "    db=df_play[df_play['userid']==user].sort_values(by='hoursplayed',ascending=False)\n",
    "    print(list(db['game'].iloc[0:2]))"
   ]
  },
  {
   "cell_type": "code",
   "execution_count": 36,
   "id": "f39e80f0",
   "metadata": {},
   "outputs": [],
   "source": [
    "def get_fav_games(df,user):\n",
    "    db = df[df['userid']==user].sort_values(by='hoursplayed', ascending=False)\n",
    "    return list(db['game'].iloc[0:2])"
   ]
  },
  {
   "cell_type": "code",
   "execution_count": 37,
   "id": "d3f8ade5",
   "metadata": {},
   "outputs": [],
   "source": [
    "def get_user_list(df):\n",
    "    temp_df=df.groupby('userid').count()[['game']]\n",
    "    return list(temp_df[temp_df['game']>1].index)"
   ]
  },
  {
   "cell_type": "code",
   "execution_count": 78,
   "id": "1b4e466f",
   "metadata": {},
   "outputs": [],
   "source": [
    "# def get_fav_list(df):\n",
    "#     user_list= get_user_list(df)\n",
    "#     fav_list=[]\n",
    "#     for user in user_list:\n",
    "#         fav_list.append(get_fav_games(df,user))\n",
    "#     return user_list, fav_list"
   ]
  },
  {
   "cell_type": "code",
   "execution_count": 96,
   "id": "5e4c86bf",
   "metadata": {},
   "outputs": [],
   "source": [
    "def get_fav_list(df):\n",
    "    user_list= get_user_list(df)\n",
    "    fav_list=[]\n",
    "    for user in user_list:\n",
    "        fav_list.append(get_fav_games(df,user))\n",
    "    fav1=[]\n",
    "    fav2=[]\n",
    "    for fav in fav_list:\n",
    "        fav1.append(fav[0])\n",
    "        fav2.append(fav[1])\n",
    "    return pd.DataFrame(data=list(zip( fav1, fav2)),\n",
    "                         columns=['most_fav_game', 'sec_fav_game'],index=user_list)"
   ]
  },
  {
   "cell_type": "code",
   "execution_count": 98,
   "id": "7fce3384",
   "metadata": {},
   "outputs": [
    {
     "data": {
      "text/html": [
       "<div>\n",
       "<style scoped>\n",
       "    .dataframe tbody tr th:only-of-type {\n",
       "        vertical-align: middle;\n",
       "    }\n",
       "\n",
       "    .dataframe tbody tr th {\n",
       "        vertical-align: top;\n",
       "    }\n",
       "\n",
       "    .dataframe thead th {\n",
       "        text-align: right;\n",
       "    }\n",
       "</style>\n",
       "<table border=\"1\" class=\"dataframe\">\n",
       "  <thead>\n",
       "    <tr style=\"text-align: right;\">\n",
       "      <th></th>\n",
       "      <th>most_fav_game</th>\n",
       "      <th>sec_fav_game</th>\n",
       "    </tr>\n",
       "  </thead>\n",
       "  <tbody>\n",
       "    <tr>\n",
       "      <th>26122540</th>\n",
       "      <td>Call of Duty Modern Warfare 2 - Multiplayer</td>\n",
       "      <td>Call of Duty Modern Warfare 2</td>\n",
       "    </tr>\n",
       "    <tr>\n",
       "      <th>53875128</th>\n",
       "      <td>Grand Theft Auto V</td>\n",
       "      <td>Insurgency</td>\n",
       "    </tr>\n",
       "    <tr>\n",
       "      <th>59945701</th>\n",
       "      <td>Ultra Street Fighter IV</td>\n",
       "      <td>FINAL FANTASY XIII</td>\n",
       "    </tr>\n",
       "    <tr>\n",
       "      <th>97298878</th>\n",
       "      <td>Medal of Honor(TM) Multiplayer</td>\n",
       "      <td>Max Payne 2 The Fall of Max Payne</td>\n",
       "    </tr>\n",
       "    <tr>\n",
       "      <th>126340495</th>\n",
       "      <td>Dota 2</td>\n",
       "      <td>Counter-Strike Global Offensive</td>\n",
       "    </tr>\n",
       "    <tr>\n",
       "      <th>151603712</th>\n",
       "      <td>The Elder Scrolls V Skyrim</td>\n",
       "      <td>Fallout 4</td>\n",
       "    </tr>\n",
       "    <tr>\n",
       "      <th>194895541</th>\n",
       "      <td>Dota 2</td>\n",
       "      <td>Tactical Intervention</td>\n",
       "    </tr>\n",
       "    <tr>\n",
       "      <th>218323237</th>\n",
       "      <td>Dota 2</td>\n",
       "      <td>Tomb Raider</td>\n",
       "    </tr>\n",
       "    <tr>\n",
       "      <th>297811211</th>\n",
       "      <td>ARK Survival Evolved</td>\n",
       "      <td>Team Fortress 2</td>\n",
       "    </tr>\n",
       "  </tbody>\n",
       "</table>\n",
       "</div>"
      ],
      "text/plain": [
       "                                         most_fav_game  \\\n",
       "26122540   Call of Duty Modern Warfare 2 - Multiplayer   \n",
       "53875128                            Grand Theft Auto V   \n",
       "59945701                       Ultra Street Fighter IV   \n",
       "97298878                Medal of Honor(TM) Multiplayer   \n",
       "126340495                                       Dota 2   \n",
       "151603712                   The Elder Scrolls V Skyrim   \n",
       "194895541                                       Dota 2   \n",
       "218323237                                       Dota 2   \n",
       "297811211                         ARK Survival Evolved   \n",
       "\n",
       "                                sec_fav_game  \n",
       "26122540       Call of Duty Modern Warfare 2  \n",
       "53875128                          Insurgency  \n",
       "59945701                  FINAL FANTASY XIII  \n",
       "97298878   Max Payne 2 The Fall of Max Payne  \n",
       "126340495    Counter-Strike Global Offensive  \n",
       "151603712                          Fallout 4  \n",
       "194895541              Tactical Intervention  \n",
       "218323237                        Tomb Raider  \n",
       "297811211                    Team Fortress 2  "
      ]
     },
     "execution_count": 98,
     "metadata": {},
     "output_type": "execute_result"
    }
   ],
   "source": [
    "get_fav_list(df_play.iloc[0:301])"
   ]
  },
  {
   "cell_type": "code",
   "execution_count": null,
   "id": "9383a8d8",
   "metadata": {},
   "outputs": [],
   "source": []
  }
 ],
 "metadata": {
  "kernelspec": {
   "display_name": "Python 3 (ipykernel)",
   "language": "python",
   "name": "python3"
  },
  "language_info": {
   "codemirror_mode": {
    "name": "ipython",
    "version": 3
   },
   "file_extension": ".py",
   "mimetype": "text/x-python",
   "name": "python",
   "nbconvert_exporter": "python",
   "pygments_lexer": "ipython3",
   "version": "3.8.12"
  },
  "toc": {
   "base_numbering": 1,
   "nav_menu": {},
   "number_sections": true,
   "sideBar": true,
   "skip_h1_title": false,
   "title_cell": "Table of Contents",
   "title_sidebar": "Contents",
   "toc_cell": false,
   "toc_position": {},
   "toc_section_display": true,
   "toc_window_display": false
  }
 },
 "nbformat": 4,
 "nbformat_minor": 5
}
