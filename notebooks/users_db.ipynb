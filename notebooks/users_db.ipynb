{
 "cells": [
  {
   "cell_type": "code",
   "execution_count": 29,
   "id": "41e56bff",
   "metadata": {},
   "outputs": [],
   "source": [
    "import numpy as np\n",
    "import pandas as pd \n",
    "import matplotlib.pyplot as plt"
   ]
  },
  {
   "cell_type": "code",
   "execution_count": 30,
   "id": "b17d4206",
   "metadata": {},
   "outputs": [
    {
     "data": {
      "text/html": [
       "<div>\n",
       "<style scoped>\n",
       "    .dataframe tbody tr th:only-of-type {\n",
       "        vertical-align: middle;\n",
       "    }\n",
       "\n",
       "    .dataframe tbody tr th {\n",
       "        vertical-align: top;\n",
       "    }\n",
       "\n",
       "    .dataframe thead th {\n",
       "        text-align: right;\n",
       "    }\n",
       "</style>\n",
       "<table border=\"1\" class=\"dataframe\">\n",
       "  <thead>\n",
       "    <tr style=\"text-align: right;\">\n",
       "      <th></th>\n",
       "      <th>userid</th>\n",
       "      <th>game</th>\n",
       "      <th>behavior</th>\n",
       "      <th>hoursplayed</th>\n",
       "    </tr>\n",
       "  </thead>\n",
       "  <tbody>\n",
       "    <tr>\n",
       "      <th>0</th>\n",
       "      <td>151603712</td>\n",
       "      <td>The Elder Scrolls V Skyrim</td>\n",
       "      <td>purchase</td>\n",
       "      <td>1.0</td>\n",
       "    </tr>\n",
       "    <tr>\n",
       "      <th>1</th>\n",
       "      <td>151603712</td>\n",
       "      <td>The Elder Scrolls V Skyrim</td>\n",
       "      <td>play</td>\n",
       "      <td>273.0</td>\n",
       "    </tr>\n",
       "    <tr>\n",
       "      <th>2</th>\n",
       "      <td>151603712</td>\n",
       "      <td>Fallout 4</td>\n",
       "      <td>purchase</td>\n",
       "      <td>1.0</td>\n",
       "    </tr>\n",
       "    <tr>\n",
       "      <th>3</th>\n",
       "      <td>151603712</td>\n",
       "      <td>Fallout 4</td>\n",
       "      <td>play</td>\n",
       "      <td>87.0</td>\n",
       "    </tr>\n",
       "    <tr>\n",
       "      <th>4</th>\n",
       "      <td>151603712</td>\n",
       "      <td>Spore</td>\n",
       "      <td>purchase</td>\n",
       "      <td>1.0</td>\n",
       "    </tr>\n",
       "  </tbody>\n",
       "</table>\n",
       "</div>"
      ],
      "text/plain": [
       "      userid                        game  behavior  hoursplayed\n",
       "0  151603712  The Elder Scrolls V Skyrim  purchase          1.0\n",
       "1  151603712  The Elder Scrolls V Skyrim      play        273.0\n",
       "2  151603712                   Fallout 4  purchase          1.0\n",
       "3  151603712                   Fallout 4      play         87.0\n",
       "4  151603712                       Spore  purchase          1.0"
      ]
     },
     "execution_count": 30,
     "metadata": {},
     "output_type": "execute_result"
    }
   ],
   "source": [
    "df= pd.read_csv('../raw_data/steam-200k.csv',usecols=[0,1,2,3],names=['userid','game','behavior','hoursplayed'])\n",
    "df.head()"
   ]
  },
  {
   "cell_type": "code",
   "execution_count": 31,
   "id": "f4b8e0c4",
   "metadata": {},
   "outputs": [
    {
     "data": {
      "text/plain": [
       "(200000, 4)"
      ]
     },
     "execution_count": 31,
     "metadata": {},
     "output_type": "execute_result"
    }
   ],
   "source": [
    "df.shape"
   ]
  },
  {
   "cell_type": "code",
   "execution_count": 32,
   "id": "1bd43432",
   "metadata": {},
   "outputs": [
    {
     "data": {
      "text/plain": [
       "(70489, 4)"
      ]
     },
     "execution_count": 32,
     "metadata": {},
     "output_type": "execute_result"
    }
   ],
   "source": [
    "df_play = df[df['behavior']=='play']\n",
    "df_play.shape"
   ]
  },
  {
   "cell_type": "code",
   "execution_count": 33,
   "id": "7b8ee98f",
   "metadata": {},
   "outputs": [
    {
     "name": "stdout",
     "output_type": "stream",
     "text": [
      "<class 'pandas.core.frame.DataFrame'>\n",
      "Int64Index: 70489 entries, 1 to 199999\n",
      "Data columns (total 4 columns):\n",
      " #   Column       Non-Null Count  Dtype  \n",
      "---  ------       --------------  -----  \n",
      " 0   userid       70489 non-null  int64  \n",
      " 1   game         70489 non-null  object \n",
      " 2   behavior     70489 non-null  object \n",
      " 3   hoursplayed  70489 non-null  float64\n",
      "dtypes: float64(1), int64(1), object(2)\n",
      "memory usage: 2.7+ MB\n"
     ]
    }
   ],
   "source": [
    "df_play.info()"
   ]
  },
  {
   "cell_type": "code",
   "execution_count": 34,
   "id": "3bfc44f8",
   "metadata": {},
   "outputs": [
    {
     "data": {
      "text/html": [
       "<div>\n",
       "<style scoped>\n",
       "    .dataframe tbody tr th:only-of-type {\n",
       "        vertical-align: middle;\n",
       "    }\n",
       "\n",
       "    .dataframe tbody tr th {\n",
       "        vertical-align: top;\n",
       "    }\n",
       "\n",
       "    .dataframe thead th {\n",
       "        text-align: right;\n",
       "    }\n",
       "</style>\n",
       "<table border=\"1\" class=\"dataframe\">\n",
       "  <thead>\n",
       "    <tr style=\"text-align: right;\">\n",
       "      <th></th>\n",
       "      <th>userid</th>\n",
       "      <th>hoursplayed</th>\n",
       "    </tr>\n",
       "  </thead>\n",
       "  <tbody>\n",
       "    <tr>\n",
       "      <th>count</th>\n",
       "      <td>7.048900e+04</td>\n",
       "      <td>70489.000000</td>\n",
       "    </tr>\n",
       "    <tr>\n",
       "      <th>mean</th>\n",
       "      <td>1.058812e+08</td>\n",
       "      <td>48.878063</td>\n",
       "    </tr>\n",
       "    <tr>\n",
       "      <th>std</th>\n",
       "      <td>7.150365e+07</td>\n",
       "      <td>229.335236</td>\n",
       "    </tr>\n",
       "    <tr>\n",
       "      <th>min</th>\n",
       "      <td>5.250000e+03</td>\n",
       "      <td>0.100000</td>\n",
       "    </tr>\n",
       "    <tr>\n",
       "      <th>25%</th>\n",
       "      <td>4.934256e+07</td>\n",
       "      <td>1.000000</td>\n",
       "    </tr>\n",
       "    <tr>\n",
       "      <th>50%</th>\n",
       "      <td>9.169067e+07</td>\n",
       "      <td>4.500000</td>\n",
       "    </tr>\n",
       "    <tr>\n",
       "      <th>75%</th>\n",
       "      <td>1.556738e+08</td>\n",
       "      <td>19.100000</td>\n",
       "    </tr>\n",
       "    <tr>\n",
       "      <th>max</th>\n",
       "      <td>3.099031e+08</td>\n",
       "      <td>11754.000000</td>\n",
       "    </tr>\n",
       "  </tbody>\n",
       "</table>\n",
       "</div>"
      ],
      "text/plain": [
       "             userid   hoursplayed\n",
       "count  7.048900e+04  70489.000000\n",
       "mean   1.058812e+08     48.878063\n",
       "std    7.150365e+07    229.335236\n",
       "min    5.250000e+03      0.100000\n",
       "25%    4.934256e+07      1.000000\n",
       "50%    9.169067e+07      4.500000\n",
       "75%    1.556738e+08     19.100000\n",
       "max    3.099031e+08  11754.000000"
      ]
     },
     "execution_count": 34,
     "metadata": {},
     "output_type": "execute_result"
    }
   ],
   "source": [
    "df_play.describe()"
   ]
  },
  {
   "cell_type": "code",
   "execution_count": 35,
   "id": "d8b7437c",
   "metadata": {},
   "outputs": [
    {
     "data": {
      "text/html": [
       "<div>\n",
       "<style scoped>\n",
       "    .dataframe tbody tr th:only-of-type {\n",
       "        vertical-align: middle;\n",
       "    }\n",
       "\n",
       "    .dataframe tbody tr th {\n",
       "        vertical-align: top;\n",
       "    }\n",
       "\n",
       "    .dataframe thead th {\n",
       "        text-align: right;\n",
       "    }\n",
       "</style>\n",
       "<table border=\"1\" class=\"dataframe\">\n",
       "  <thead>\n",
       "    <tr style=\"text-align: right;\">\n",
       "      <th></th>\n",
       "      <th>userid</th>\n",
       "      <th>hoursplayed</th>\n",
       "    </tr>\n",
       "    <tr>\n",
       "      <th>game</th>\n",
       "      <th></th>\n",
       "      <th></th>\n",
       "    </tr>\n",
       "  </thead>\n",
       "  <tbody>\n",
       "    <tr>\n",
       "      <th>Eastside Hockey Manager</th>\n",
       "      <td>2.138543e+08</td>\n",
       "      <td>1295.000000</td>\n",
       "    </tr>\n",
       "    <tr>\n",
       "      <th>Baldur's Gate II Enhanced Edition</th>\n",
       "      <td>7.705612e+07</td>\n",
       "      <td>475.255556</td>\n",
       "    </tr>\n",
       "    <tr>\n",
       "      <th>FIFA Manager 09</th>\n",
       "      <td>4.630176e+07</td>\n",
       "      <td>411.000000</td>\n",
       "    </tr>\n",
       "    <tr>\n",
       "      <th>Perpetuum</th>\n",
       "      <td>6.723111e+07</td>\n",
       "      <td>400.975000</td>\n",
       "    </tr>\n",
       "    <tr>\n",
       "      <th>Football Manager 2014</th>\n",
       "      <td>1.032583e+08</td>\n",
       "      <td>391.984615</td>\n",
       "    </tr>\n",
       "  </tbody>\n",
       "</table>\n",
       "</div>"
      ],
      "text/plain": [
       "                                         userid  hoursplayed\n",
       "game                                                        \n",
       "Eastside Hockey Manager            2.138543e+08  1295.000000\n",
       "Baldur's Gate II Enhanced Edition  7.705612e+07   475.255556\n",
       "FIFA Manager 09                    4.630176e+07   411.000000\n",
       "Perpetuum                          6.723111e+07   400.975000\n",
       "Football Manager 2014              1.032583e+08   391.984615"
      ]
     },
     "execution_count": 35,
     "metadata": {},
     "output_type": "execute_result"
    }
   ],
   "source": [
    "df_play.groupby(['game']).mean().sort_values(by=\"hoursplayed\",ascending=False).head()"
   ]
  },
  {
   "cell_type": "code",
   "execution_count": 36,
   "id": "fed9384e",
   "metadata": {},
   "outputs": [
    {
     "data": {
      "text/html": [
       "<div>\n",
       "<style scoped>\n",
       "    .dataframe tbody tr th:only-of-type {\n",
       "        vertical-align: middle;\n",
       "    }\n",
       "\n",
       "    .dataframe tbody tr th {\n",
       "        vertical-align: top;\n",
       "    }\n",
       "\n",
       "    .dataframe thead th {\n",
       "        text-align: right;\n",
       "    }\n",
       "</style>\n",
       "<table border=\"1\" class=\"dataframe\">\n",
       "  <thead>\n",
       "    <tr style=\"text-align: right;\">\n",
       "      <th></th>\n",
       "      <th>userid</th>\n",
       "      <th>hoursplayed</th>\n",
       "    </tr>\n",
       "    <tr>\n",
       "      <th>game</th>\n",
       "      <th></th>\n",
       "      <th></th>\n",
       "    </tr>\n",
       "  </thead>\n",
       "  <tbody>\n",
       "    <tr>\n",
       "      <th>Dota 2</th>\n",
       "      <td>876244856902</td>\n",
       "      <td>981684.6</td>\n",
       "    </tr>\n",
       "    <tr>\n",
       "      <th>Counter-Strike Global Offensive</th>\n",
       "      <td>197100863262</td>\n",
       "      <td>322771.6</td>\n",
       "    </tr>\n",
       "    <tr>\n",
       "      <th>Team Fortress 2</th>\n",
       "      <td>317607217486</td>\n",
       "      <td>173673.3</td>\n",
       "    </tr>\n",
       "    <tr>\n",
       "      <th>Counter-Strike</th>\n",
       "      <td>35238993239</td>\n",
       "      <td>134261.1</td>\n",
       "    </tr>\n",
       "    <tr>\n",
       "      <th>Sid Meier's Civilization V</th>\n",
       "      <td>51917921874</td>\n",
       "      <td>99821.3</td>\n",
       "    </tr>\n",
       "  </tbody>\n",
       "</table>\n",
       "</div>"
      ],
      "text/plain": [
       "                                       userid  hoursplayed\n",
       "game                                                      \n",
       "Dota 2                           876244856902     981684.6\n",
       "Counter-Strike Global Offensive  197100863262     322771.6\n",
       "Team Fortress 2                  317607217486     173673.3\n",
       "Counter-Strike                    35238993239     134261.1\n",
       "Sid Meier's Civilization V        51917921874      99821.3"
      ]
     },
     "execution_count": 36,
     "metadata": {},
     "output_type": "execute_result"
    }
   ],
   "source": [
    "df_play.groupby(['game']).sum().sort_values(by=\"hoursplayed\",ascending=False).head()"
   ]
  },
  {
   "cell_type": "code",
   "execution_count": 37,
   "id": "f7be5728",
   "metadata": {},
   "outputs": [
    {
     "data": {
      "text/plain": [
       "3600"
      ]
     },
     "execution_count": 37,
     "metadata": {},
     "output_type": "execute_result"
    }
   ],
   "source": [
    "len(df_play['game'].unique())"
   ]
  },
  {
   "cell_type": "code",
   "execution_count": 38,
   "id": "224244fd",
   "metadata": {},
   "outputs": [
    {
     "data": {
      "text/plain": [
       "11350"
      ]
     },
     "execution_count": 38,
     "metadata": {},
     "output_type": "execute_result"
    }
   ],
   "source": [
    "len(df_play['userid'].unique())"
   ]
  },
  {
   "cell_type": "code",
   "execution_count": 39,
   "id": "6ab85ab2",
   "metadata": {},
   "outputs": [
    {
     "data": {
      "text/html": [
       "<div>\n",
       "<style scoped>\n",
       "    .dataframe tbody tr th:only-of-type {\n",
       "        vertical-align: middle;\n",
       "    }\n",
       "\n",
       "    .dataframe tbody tr th {\n",
       "        vertical-align: top;\n",
       "    }\n",
       "\n",
       "    .dataframe thead th {\n",
       "        text-align: right;\n",
       "    }\n",
       "</style>\n",
       "<table border=\"1\" class=\"dataframe\">\n",
       "  <thead>\n",
       "    <tr style=\"text-align: right;\">\n",
       "      <th></th>\n",
       "      <th>userid</th>\n",
       "      <th>game</th>\n",
       "      <th>behavior</th>\n",
       "      <th>hoursplayed</th>\n",
       "    </tr>\n",
       "  </thead>\n",
       "  <tbody>\n",
       "    <tr>\n",
       "      <th>1</th>\n",
       "      <td>151603712</td>\n",
       "      <td>The Elder Scrolls V Skyrim</td>\n",
       "      <td>play</td>\n",
       "      <td>273.0</td>\n",
       "    </tr>\n",
       "    <tr>\n",
       "      <th>3</th>\n",
       "      <td>151603712</td>\n",
       "      <td>Fallout 4</td>\n",
       "      <td>play</td>\n",
       "      <td>87.0</td>\n",
       "    </tr>\n",
       "    <tr>\n",
       "      <th>5</th>\n",
       "      <td>151603712</td>\n",
       "      <td>Spore</td>\n",
       "      <td>play</td>\n",
       "      <td>14.9</td>\n",
       "    </tr>\n",
       "    <tr>\n",
       "      <th>7</th>\n",
       "      <td>151603712</td>\n",
       "      <td>Fallout New Vegas</td>\n",
       "      <td>play</td>\n",
       "      <td>12.1</td>\n",
       "    </tr>\n",
       "    <tr>\n",
       "      <th>9</th>\n",
       "      <td>151603712</td>\n",
       "      <td>Left 4 Dead 2</td>\n",
       "      <td>play</td>\n",
       "      <td>8.9</td>\n",
       "    </tr>\n",
       "    <tr>\n",
       "      <th>...</th>\n",
       "      <td>...</td>\n",
       "      <td>...</td>\n",
       "      <td>...</td>\n",
       "      <td>...</td>\n",
       "    </tr>\n",
       "    <tr>\n",
       "      <th>199969</th>\n",
       "      <td>128470551</td>\n",
       "      <td>The Binding of Isaac Rebirth</td>\n",
       "      <td>play</td>\n",
       "      <td>291.0</td>\n",
       "    </tr>\n",
       "    <tr>\n",
       "      <th>199971</th>\n",
       "      <td>128470551</td>\n",
       "      <td>Path of Exile</td>\n",
       "      <td>play</td>\n",
       "      <td>42.0</td>\n",
       "    </tr>\n",
       "    <tr>\n",
       "      <th>199973</th>\n",
       "      <td>128470551</td>\n",
       "      <td>Arma 2 DayZ Mod</td>\n",
       "      <td>play</td>\n",
       "      <td>22.0</td>\n",
       "    </tr>\n",
       "    <tr>\n",
       "      <th>199975</th>\n",
       "      <td>128470551</td>\n",
       "      <td>Antichamber</td>\n",
       "      <td>play</td>\n",
       "      <td>16.8</td>\n",
       "    </tr>\n",
       "    <tr>\n",
       "      <th>199977</th>\n",
       "      <td>128470551</td>\n",
       "      <td>Risk of Rain</td>\n",
       "      <td>play</td>\n",
       "      <td>15.4</td>\n",
       "    </tr>\n",
       "  </tbody>\n",
       "</table>\n",
       "<p>24880 rows × 4 columns</p>\n",
       "</div>"
      ],
      "text/plain": [
       "           userid                          game behavior  hoursplayed\n",
       "1       151603712    The Elder Scrolls V Skyrim     play        273.0\n",
       "3       151603712                     Fallout 4     play         87.0\n",
       "5       151603712                         Spore     play         14.9\n",
       "7       151603712             Fallout New Vegas     play         12.1\n",
       "9       151603712                 Left 4 Dead 2     play          8.9\n",
       "...           ...                           ...      ...          ...\n",
       "199969  128470551  The Binding of Isaac Rebirth     play        291.0\n",
       "199971  128470551                 Path of Exile     play         42.0\n",
       "199973  128470551               Arma 2 DayZ Mod     play         22.0\n",
       "199975  128470551                   Antichamber     play         16.8\n",
       "199977  128470551                  Risk of Rain     play         15.4\n",
       "\n",
       "[24880 rows x 4 columns]"
      ]
     },
     "execution_count": 39,
     "metadata": {},
     "output_type": "execute_result"
    }
   ],
   "source": [
    "user_df = df_play.groupby('userid')\n",
    "user_df.head()"
   ]
  },
  {
   "cell_type": "code",
   "execution_count": 40,
   "id": "f3337319",
   "metadata": {},
   "outputs": [
    {
     "data": {
      "text/html": [
       "<div>\n",
       "<style scoped>\n",
       "    .dataframe tbody tr th:only-of-type {\n",
       "        vertical-align: middle;\n",
       "    }\n",
       "\n",
       "    .dataframe tbody tr th {\n",
       "        vertical-align: top;\n",
       "    }\n",
       "\n",
       "    .dataframe thead th {\n",
       "        text-align: right;\n",
       "    }\n",
       "</style>\n",
       "<table border=\"1\" class=\"dataframe\">\n",
       "  <thead>\n",
       "    <tr style=\"text-align: right;\">\n",
       "      <th></th>\n",
       "      <th>game</th>\n",
       "      <th>index_col</th>\n",
       "    </tr>\n",
       "  </thead>\n",
       "  <tbody>\n",
       "    <tr>\n",
       "      <th>0</th>\n",
       "      <td>The Elder Scrolls V Skyrim</td>\n",
       "      <td>0</td>\n",
       "    </tr>\n",
       "    <tr>\n",
       "      <th>1</th>\n",
       "      <td>Fallout 4</td>\n",
       "      <td>1</td>\n",
       "    </tr>\n",
       "    <tr>\n",
       "      <th>2</th>\n",
       "      <td>Spore</td>\n",
       "      <td>2</td>\n",
       "    </tr>\n",
       "    <tr>\n",
       "      <th>3</th>\n",
       "      <td>Fallout New Vegas</td>\n",
       "      <td>3</td>\n",
       "    </tr>\n",
       "    <tr>\n",
       "      <th>4</th>\n",
       "      <td>Left 4 Dead 2</td>\n",
       "      <td>4</td>\n",
       "    </tr>\n",
       "    <tr>\n",
       "      <th>...</th>\n",
       "      <td>...</td>\n",
       "      <td>...</td>\n",
       "    </tr>\n",
       "    <tr>\n",
       "      <th>5150</th>\n",
       "      <td>Warriors &amp; Castles</td>\n",
       "      <td>5150</td>\n",
       "    </tr>\n",
       "    <tr>\n",
       "      <th>5151</th>\n",
       "      <td>Romance of the Three Kingdoms Maker</td>\n",
       "      <td>5151</td>\n",
       "    </tr>\n",
       "    <tr>\n",
       "      <th>5152</th>\n",
       "      <td>Space Colony</td>\n",
       "      <td>5152</td>\n",
       "    </tr>\n",
       "    <tr>\n",
       "      <th>5153</th>\n",
       "      <td>Life is Hard</td>\n",
       "      <td>5153</td>\n",
       "    </tr>\n",
       "    <tr>\n",
       "      <th>5154</th>\n",
       "      <td>Executive Assault</td>\n",
       "      <td>5154</td>\n",
       "    </tr>\n",
       "  </tbody>\n",
       "</table>\n",
       "<p>5155 rows × 2 columns</p>\n",
       "</div>"
      ],
      "text/plain": [
       "                                     game  index_col\n",
       "0              The Elder Scrolls V Skyrim          0\n",
       "1                               Fallout 4          1\n",
       "2                                   Spore          2\n",
       "3                       Fallout New Vegas          3\n",
       "4                           Left 4 Dead 2          4\n",
       "...                                   ...        ...\n",
       "5150                   Warriors & Castles       5150\n",
       "5151  Romance of the Three Kingdoms Maker       5151\n",
       "5152                         Space Colony       5152\n",
       "5153                         Life is Hard       5153\n",
       "5154                    Executive Assault       5154\n",
       "\n",
       "[5155 rows x 2 columns]"
      ]
     },
     "execution_count": 40,
     "metadata": {},
     "output_type": "execute_result"
    }
   ],
   "source": [
    "games_df = pd.DataFrame(df.game.unique(), columns=['game'])\n",
    "games_df['index_col'] = games_df.index\n",
    "games_df\n"
   ]
  },
  {
   "cell_type": "code",
   "execution_count": 41,
   "id": "b9091aa9",
   "metadata": {},
   "outputs": [
    {
     "data": {
      "text/html": [
       "<div>\n",
       "<style scoped>\n",
       "    .dataframe tbody tr th:only-of-type {\n",
       "        vertical-align: middle;\n",
       "    }\n",
       "\n",
       "    .dataframe tbody tr th {\n",
       "        vertical-align: top;\n",
       "    }\n",
       "\n",
       "    .dataframe thead th {\n",
       "        text-align: right;\n",
       "    }\n",
       "</style>\n",
       "<table border=\"1\" class=\"dataframe\">\n",
       "  <thead>\n",
       "    <tr style=\"text-align: right;\">\n",
       "      <th></th>\n",
       "      <th>userid</th>\n",
       "      <th>game</th>\n",
       "      <th>behavior</th>\n",
       "      <th>hoursplayed</th>\n",
       "      <th>index_col</th>\n",
       "    </tr>\n",
       "  </thead>\n",
       "  <tbody>\n",
       "    <tr>\n",
       "      <th>0</th>\n",
       "      <td>151603712</td>\n",
       "      <td>The Elder Scrolls V Skyrim</td>\n",
       "      <td>play</td>\n",
       "      <td>273.0</td>\n",
       "      <td>0</td>\n",
       "    </tr>\n",
       "    <tr>\n",
       "      <th>1</th>\n",
       "      <td>59945701</td>\n",
       "      <td>The Elder Scrolls V Skyrim</td>\n",
       "      <td>play</td>\n",
       "      <td>58.0</td>\n",
       "      <td>0</td>\n",
       "    </tr>\n",
       "    <tr>\n",
       "      <th>2</th>\n",
       "      <td>92107940</td>\n",
       "      <td>The Elder Scrolls V Skyrim</td>\n",
       "      <td>play</td>\n",
       "      <td>110.0</td>\n",
       "      <td>0</td>\n",
       "    </tr>\n",
       "    <tr>\n",
       "      <th>3</th>\n",
       "      <td>250006052</td>\n",
       "      <td>The Elder Scrolls V Skyrim</td>\n",
       "      <td>play</td>\n",
       "      <td>465.0</td>\n",
       "      <td>0</td>\n",
       "    </tr>\n",
       "    <tr>\n",
       "      <th>4</th>\n",
       "      <td>11373749</td>\n",
       "      <td>The Elder Scrolls V Skyrim</td>\n",
       "      <td>play</td>\n",
       "      <td>220.0</td>\n",
       "      <td>0</td>\n",
       "    </tr>\n",
       "  </tbody>\n",
       "</table>\n",
       "</div>"
      ],
      "text/plain": [
       "      userid                        game behavior  hoursplayed  index_col\n",
       "0  151603712  The Elder Scrolls V Skyrim     play        273.0          0\n",
       "1   59945701  The Elder Scrolls V Skyrim     play         58.0          0\n",
       "2   92107940  The Elder Scrolls V Skyrim     play        110.0          0\n",
       "3  250006052  The Elder Scrolls V Skyrim     play        465.0          0\n",
       "4   11373749  The Elder Scrolls V Skyrim     play        220.0          0"
      ]
     },
     "execution_count": 41,
     "metadata": {},
     "output_type": "execute_result"
    }
   ],
   "source": [
    "df_play= df_play.merge(games_df, on='game')\n",
    "df_play.head()\n"
   ]
  },
  {
   "cell_type": "code",
   "execution_count": 42,
   "id": "b31296f1",
   "metadata": {},
   "outputs": [
    {
     "data": {
      "text/plain": [
       "229.335235996813"
      ]
     },
     "execution_count": 42,
     "metadata": {},
     "output_type": "execute_result"
    }
   ],
   "source": [
    "df_play['hoursplayed'].std()"
   ]
  },
  {
   "cell_type": "code",
   "execution_count": 43,
   "id": "0cfc9683",
   "metadata": {},
   "outputs": [
    {
     "data": {
      "text/html": [
       "<div>\n",
       "<style scoped>\n",
       "    .dataframe tbody tr th:only-of-type {\n",
       "        vertical-align: middle;\n",
       "    }\n",
       "\n",
       "    .dataframe tbody tr th {\n",
       "        vertical-align: top;\n",
       "    }\n",
       "\n",
       "    .dataframe thead th {\n",
       "        text-align: right;\n",
       "    }\n",
       "</style>\n",
       "<table border=\"1\" class=\"dataframe\">\n",
       "  <thead>\n",
       "    <tr style=\"text-align: right;\">\n",
       "      <th></th>\n",
       "      <th>userid</th>\n",
       "      <th>game</th>\n",
       "      <th>behavior</th>\n",
       "      <th>hoursplayed</th>\n",
       "      <th>index_col</th>\n",
       "    </tr>\n",
       "  </thead>\n",
       "  <tbody>\n",
       "    <tr>\n",
       "      <th>0</th>\n",
       "      <td>151603712</td>\n",
       "      <td>The Elder Scrolls V Skyrim</td>\n",
       "      <td>play</td>\n",
       "      <td>273.0</td>\n",
       "      <td>0</td>\n",
       "    </tr>\n",
       "    <tr>\n",
       "      <th>1</th>\n",
       "      <td>59945701</td>\n",
       "      <td>The Elder Scrolls V Skyrim</td>\n",
       "      <td>play</td>\n",
       "      <td>58.0</td>\n",
       "      <td>0</td>\n",
       "    </tr>\n",
       "    <tr>\n",
       "      <th>2</th>\n",
       "      <td>92107940</td>\n",
       "      <td>The Elder Scrolls V Skyrim</td>\n",
       "      <td>play</td>\n",
       "      <td>110.0</td>\n",
       "      <td>0</td>\n",
       "    </tr>\n",
       "    <tr>\n",
       "      <th>3</th>\n",
       "      <td>250006052</td>\n",
       "      <td>The Elder Scrolls V Skyrim</td>\n",
       "      <td>play</td>\n",
       "      <td>465.0</td>\n",
       "      <td>0</td>\n",
       "    </tr>\n",
       "    <tr>\n",
       "      <th>4</th>\n",
       "      <td>11373749</td>\n",
       "      <td>The Elder Scrolls V Skyrim</td>\n",
       "      <td>play</td>\n",
       "      <td>220.0</td>\n",
       "      <td>0</td>\n",
       "    </tr>\n",
       "    <tr>\n",
       "      <th>...</th>\n",
       "      <td>...</td>\n",
       "      <td>...</td>\n",
       "      <td>...</td>\n",
       "      <td>...</td>\n",
       "      <td>...</td>\n",
       "    </tr>\n",
       "    <tr>\n",
       "      <th>70425</th>\n",
       "      <td>162653477</td>\n",
       "      <td>Fast &amp; Furious Showdown</td>\n",
       "      <td>play</td>\n",
       "      <td>3.4</td>\n",
       "      <td>5077</td>\n",
       "    </tr>\n",
       "    <tr>\n",
       "      <th>70445</th>\n",
       "      <td>213854339</td>\n",
       "      <td>Eastside Hockey Manager</td>\n",
       "      <td>play</td>\n",
       "      <td>1295.0</td>\n",
       "      <td>5102</td>\n",
       "    </tr>\n",
       "    <tr>\n",
       "      <th>70446</th>\n",
       "      <td>213854339</td>\n",
       "      <td>Franchise Hockey Manager 2</td>\n",
       "      <td>play</td>\n",
       "      <td>11.2</td>\n",
       "      <td>5103</td>\n",
       "    </tr>\n",
       "    <tr>\n",
       "      <th>70452</th>\n",
       "      <td>209218938</td>\n",
       "      <td>Maszyny Rolnicze 2015</td>\n",
       "      <td>play</td>\n",
       "      <td>0.3</td>\n",
       "      <td>4887</td>\n",
       "    </tr>\n",
       "    <tr>\n",
       "      <th>70480</th>\n",
       "      <td>112739159</td>\n",
       "      <td>Ride! Carnival Tycoon</td>\n",
       "      <td>play</td>\n",
       "      <td>0.3</td>\n",
       "      <td>5147</td>\n",
       "    </tr>\n",
       "  </tbody>\n",
       "</table>\n",
       "<p>24880 rows × 5 columns</p>\n",
       "</div>"
      ],
      "text/plain": [
       "          userid                        game behavior  hoursplayed  index_col\n",
       "0      151603712  The Elder Scrolls V Skyrim     play        273.0          0\n",
       "1       59945701  The Elder Scrolls V Skyrim     play         58.0          0\n",
       "2       92107940  The Elder Scrolls V Skyrim     play        110.0          0\n",
       "3      250006052  The Elder Scrolls V Skyrim     play        465.0          0\n",
       "4       11373749  The Elder Scrolls V Skyrim     play        220.0          0\n",
       "...          ...                         ...      ...          ...        ...\n",
       "70425  162653477     Fast & Furious Showdown     play          3.4       5077\n",
       "70445  213854339     Eastside Hockey Manager     play       1295.0       5102\n",
       "70446  213854339  Franchise Hockey Manager 2     play         11.2       5103\n",
       "70452  209218938       Maszyny Rolnicze 2015     play          0.3       4887\n",
       "70480  112739159       Ride! Carnival Tycoon     play          0.3       5147\n",
       "\n",
       "[24880 rows x 5 columns]"
      ]
     },
     "execution_count": 43,
     "metadata": {},
     "output_type": "execute_result"
    }
   ],
   "source": [
    "usergroup = df_play.groupby('userid')\n",
    "usergroup.head()"
   ]
  },
  {
   "cell_type": "code",
   "execution_count": 44,
   "id": "8a7f4a3d",
   "metadata": {},
   "outputs": [],
   "source": [
    "# noOfUsers = 1000\n",
    "# train_list = []\n",
    "\n",
    "# i = 0\n",
    "# # For each user in the group\n",
    "# for userID, cur in usergroup:\n",
    "#     # Create a temp that stores every game's hours played\n",
    "#     temp = [0]*len(games_df)\n",
    "#     # For each game in list\n",
    "#     for no, game in cur.iterrows():\n",
    "#         temp[game['index_col']] = game['hoursplayed']\n",
    "#         i+=1\n",
    "#     train_list.append(temp)\n",
    "    \n",
    "#     if noOfUsers == 0:\n",
    "#         break\n",
    "#     noOfUsers -= 1"
   ]
  },
  {
   "cell_type": "code",
   "execution_count": 81,
   "id": "a630469b",
   "metadata": {},
   "outputs": [
    {
     "data": {
      "text/plain": [
       "array(['The Elder Scrolls V Skyrim', 'Fallout 4', 'Spore', ...,\n",
       "       'Executive Assault', 'O.R.B.', 'MirrorMoon EP'], dtype=object)"
      ]
     },
     "execution_count": 81,
     "metadata": {},
     "output_type": "execute_result"
    }
   ],
   "source": [
    "df_play['game'].unique()"
   ]
  },
  {
   "cell_type": "code",
   "execution_count": 82,
   "id": "e0d01356",
   "metadata": {},
   "outputs": [
    {
     "data": {
      "text/plain": [
       "70489"
      ]
     },
     "execution_count": 82,
     "metadata": {},
     "output_type": "execute_result"
    }
   ],
   "source": [
    "len(df_play)"
   ]
  },
  {
   "cell_type": "code",
   "execution_count": null,
   "id": "9654f54c",
   "metadata": {},
   "outputs": [],
   "source": []
  }
 ],
 "metadata": {
  "kernelspec": {
   "display_name": "Python 3 (ipykernel)",
   "language": "python",
   "name": "python3"
  },
  "language_info": {
   "codemirror_mode": {
    "name": "ipython",
    "version": 3
   },
   "file_extension": ".py",
   "mimetype": "text/x-python",
   "name": "python",
   "nbconvert_exporter": "python",
   "pygments_lexer": "ipython3",
   "version": "3.8.12"
  },
  "toc": {
   "base_numbering": 1,
   "nav_menu": {},
   "number_sections": true,
   "sideBar": true,
   "skip_h1_title": false,
   "title_cell": "Table of Contents",
   "title_sidebar": "Contents",
   "toc_cell": false,
   "toc_position": {},
   "toc_section_display": true,
   "toc_window_display": false
  }
 },
 "nbformat": 4,
 "nbformat_minor": 5
}
